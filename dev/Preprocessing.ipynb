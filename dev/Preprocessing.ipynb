{
  "nbformat": 4,
  "nbformat_minor": 0,
  "metadata": {
    "kernelspec": {
      "display_name": "Python 3",
      "language": "python",
      "name": "python3"
    },
    "language_info": {
      "codemirror_mode": {
        "name": "ipython",
        "version": 3
      },
      "file_extension": ".py",
      "mimetype": "text/x-python",
      "name": "python",
      "nbconvert_exporter": "python",
      "pygments_lexer": "ipython3",
      "version": "3.7.4"
    },
    "colab": {
      "name": "Preprocessing.ipynb",
      "provenance": [],
      "collapsed_sections": [],
      "toc_visible": true,
      "include_colab_link": true
    },
    "widgets": {
      "application/vnd.jupyter.widget-state+json": {
        "6ab0cf0430984e99bcc84036a49d781a": {
          "model_module": "@jupyter-widgets/controls",
          "model_name": "HBoxModel",
          "state": {
            "_view_name": "HBoxView",
            "_dom_classes": [],
            "_model_name": "HBoxModel",
            "_view_module": "@jupyter-widgets/controls",
            "_model_module_version": "1.5.0",
            "_view_count": null,
            "_view_module_version": "1.5.0",
            "box_style": "",
            "layout": "IPY_MODEL_0764518f30ac41a39a8018c554ebb693",
            "_model_module": "@jupyter-widgets/controls",
            "children": [
              "IPY_MODEL_2c94502531bd44cab863feea7172c26d",
              "IPY_MODEL_3ed779e152c34b76b2cb3a3af5d98bf9"
            ]
          }
        },
        "0764518f30ac41a39a8018c554ebb693": {
          "model_module": "@jupyter-widgets/base",
          "model_name": "LayoutModel",
          "state": {
            "_view_name": "LayoutView",
            "grid_template_rows": null,
            "right": null,
            "justify_content": null,
            "_view_module": "@jupyter-widgets/base",
            "overflow": null,
            "_model_module_version": "1.2.0",
            "_view_count": null,
            "flex_flow": null,
            "width": null,
            "min_width": null,
            "border": null,
            "align_items": null,
            "bottom": null,
            "_model_module": "@jupyter-widgets/base",
            "top": null,
            "grid_column": null,
            "overflow_y": null,
            "overflow_x": null,
            "grid_auto_flow": null,
            "grid_area": null,
            "grid_template_columns": null,
            "flex": null,
            "_model_name": "LayoutModel",
            "justify_items": null,
            "grid_row": null,
            "max_height": null,
            "align_content": null,
            "visibility": null,
            "align_self": null,
            "height": null,
            "min_height": null,
            "padding": null,
            "grid_auto_rows": null,
            "grid_gap": null,
            "max_width": null,
            "order": null,
            "_view_module_version": "1.2.0",
            "grid_template_areas": null,
            "object_position": null,
            "object_fit": null,
            "grid_auto_columns": null,
            "margin": null,
            "display": null,
            "left": null
          }
        },
        "2c94502531bd44cab863feea7172c26d": {
          "model_module": "@jupyter-widgets/controls",
          "model_name": "FloatProgressModel",
          "state": {
            "_view_name": "ProgressView",
            "style": "IPY_MODEL_e6d31c826703479d96dd7a2291192739",
            "_dom_classes": [],
            "description": "100%",
            "_model_name": "FloatProgressModel",
            "bar_style": "success",
            "max": 8,
            "_view_module": "@jupyter-widgets/controls",
            "_model_module_version": "1.5.0",
            "value": 8,
            "_view_count": null,
            "_view_module_version": "1.5.0",
            "orientation": "horizontal",
            "min": 0,
            "description_tooltip": null,
            "_model_module": "@jupyter-widgets/controls",
            "layout": "IPY_MODEL_e252cf92dfe44fb8b7facc2dff764a9c"
          }
        },
        "3ed779e152c34b76b2cb3a3af5d98bf9": {
          "model_module": "@jupyter-widgets/controls",
          "model_name": "HTMLModel",
          "state": {
            "_view_name": "HTMLView",
            "style": "IPY_MODEL_e2bd02c18c6248b1a2abc981e264c98a",
            "_dom_classes": [],
            "description": "",
            "_model_name": "HTMLModel",
            "placeholder": "​",
            "_view_module": "@jupyter-widgets/controls",
            "_model_module_version": "1.5.0",
            "value": " 8/8 [01:31&lt;00:00, 11.49s/it]",
            "_view_count": null,
            "_view_module_version": "1.5.0",
            "description_tooltip": null,
            "_model_module": "@jupyter-widgets/controls",
            "layout": "IPY_MODEL_d19688af914945e2bd3e52ee543520a6"
          }
        },
        "e6d31c826703479d96dd7a2291192739": {
          "model_module": "@jupyter-widgets/controls",
          "model_name": "ProgressStyleModel",
          "state": {
            "_view_name": "StyleView",
            "_model_name": "ProgressStyleModel",
            "description_width": "initial",
            "_view_module": "@jupyter-widgets/base",
            "_model_module_version": "1.5.0",
            "_view_count": null,
            "_view_module_version": "1.2.0",
            "bar_color": null,
            "_model_module": "@jupyter-widgets/controls"
          }
        },
        "e252cf92dfe44fb8b7facc2dff764a9c": {
          "model_module": "@jupyter-widgets/base",
          "model_name": "LayoutModel",
          "state": {
            "_view_name": "LayoutView",
            "grid_template_rows": null,
            "right": null,
            "justify_content": null,
            "_view_module": "@jupyter-widgets/base",
            "overflow": null,
            "_model_module_version": "1.2.0",
            "_view_count": null,
            "flex_flow": null,
            "width": null,
            "min_width": null,
            "border": null,
            "align_items": null,
            "bottom": null,
            "_model_module": "@jupyter-widgets/base",
            "top": null,
            "grid_column": null,
            "overflow_y": null,
            "overflow_x": null,
            "grid_auto_flow": null,
            "grid_area": null,
            "grid_template_columns": null,
            "flex": null,
            "_model_name": "LayoutModel",
            "justify_items": null,
            "grid_row": null,
            "max_height": null,
            "align_content": null,
            "visibility": null,
            "align_self": null,
            "height": null,
            "min_height": null,
            "padding": null,
            "grid_auto_rows": null,
            "grid_gap": null,
            "max_width": null,
            "order": null,
            "_view_module_version": "1.2.0",
            "grid_template_areas": null,
            "object_position": null,
            "object_fit": null,
            "grid_auto_columns": null,
            "margin": null,
            "display": null,
            "left": null
          }
        },
        "e2bd02c18c6248b1a2abc981e264c98a": {
          "model_module": "@jupyter-widgets/controls",
          "model_name": "DescriptionStyleModel",
          "state": {
            "_view_name": "StyleView",
            "_model_name": "DescriptionStyleModel",
            "description_width": "",
            "_view_module": "@jupyter-widgets/base",
            "_model_module_version": "1.5.0",
            "_view_count": null,
            "_view_module_version": "1.2.0",
            "_model_module": "@jupyter-widgets/controls"
          }
        },
        "d19688af914945e2bd3e52ee543520a6": {
          "model_module": "@jupyter-widgets/base",
          "model_name": "LayoutModel",
          "state": {
            "_view_name": "LayoutView",
            "grid_template_rows": null,
            "right": null,
            "justify_content": null,
            "_view_module": "@jupyter-widgets/base",
            "overflow": null,
            "_model_module_version": "1.2.0",
            "_view_count": null,
            "flex_flow": null,
            "width": null,
            "min_width": null,
            "border": null,
            "align_items": null,
            "bottom": null,
            "_model_module": "@jupyter-widgets/base",
            "top": null,
            "grid_column": null,
            "overflow_y": null,
            "overflow_x": null,
            "grid_auto_flow": null,
            "grid_area": null,
            "grid_template_columns": null,
            "flex": null,
            "_model_name": "LayoutModel",
            "justify_items": null,
            "grid_row": null,
            "max_height": null,
            "align_content": null,
            "visibility": null,
            "align_self": null,
            "height": null,
            "min_height": null,
            "padding": null,
            "grid_auto_rows": null,
            "grid_gap": null,
            "max_width": null,
            "order": null,
            "_view_module_version": "1.2.0",
            "grid_template_areas": null,
            "object_position": null,
            "object_fit": null,
            "grid_auto_columns": null,
            "margin": null,
            "display": null,
            "left": null
          }
        },
        "0038b84865914c76abbd95660b73a28f": {
          "model_module": "@jupyter-widgets/controls",
          "model_name": "HBoxModel",
          "state": {
            "_view_name": "HBoxView",
            "_dom_classes": [],
            "_model_name": "HBoxModel",
            "_view_module": "@jupyter-widgets/controls",
            "_model_module_version": "1.5.0",
            "_view_count": null,
            "_view_module_version": "1.5.0",
            "box_style": "",
            "layout": "IPY_MODEL_0f61595723484370842dc7655af2db6e",
            "_model_module": "@jupyter-widgets/controls",
            "children": [
              "IPY_MODEL_e2a766af0cbe418db944db262a53702e",
              "IPY_MODEL_a77690260d904290bbb25a1755ff7029"
            ]
          }
        },
        "0f61595723484370842dc7655af2db6e": {
          "model_module": "@jupyter-widgets/base",
          "model_name": "LayoutModel",
          "state": {
            "_view_name": "LayoutView",
            "grid_template_rows": null,
            "right": null,
            "justify_content": null,
            "_view_module": "@jupyter-widgets/base",
            "overflow": null,
            "_model_module_version": "1.2.0",
            "_view_count": null,
            "flex_flow": null,
            "width": null,
            "min_width": null,
            "border": null,
            "align_items": null,
            "bottom": null,
            "_model_module": "@jupyter-widgets/base",
            "top": null,
            "grid_column": null,
            "overflow_y": null,
            "overflow_x": null,
            "grid_auto_flow": null,
            "grid_area": null,
            "grid_template_columns": null,
            "flex": null,
            "_model_name": "LayoutModel",
            "justify_items": null,
            "grid_row": null,
            "max_height": null,
            "align_content": null,
            "visibility": null,
            "align_self": null,
            "height": null,
            "min_height": null,
            "padding": null,
            "grid_auto_rows": null,
            "grid_gap": null,
            "max_width": null,
            "order": null,
            "_view_module_version": "1.2.0",
            "grid_template_areas": null,
            "object_position": null,
            "object_fit": null,
            "grid_auto_columns": null,
            "margin": null,
            "display": null,
            "left": null
          }
        },
        "e2a766af0cbe418db944db262a53702e": {
          "model_module": "@jupyter-widgets/controls",
          "model_name": "FloatProgressModel",
          "state": {
            "_view_name": "ProgressView",
            "style": "IPY_MODEL_ea8f3a413fe14459ba21f08bd41ae186",
            "_dom_classes": [],
            "description": "100%",
            "_model_name": "FloatProgressModel",
            "bar_style": "success",
            "max": 8,
            "_view_module": "@jupyter-widgets/controls",
            "_model_module_version": "1.5.0",
            "value": 8,
            "_view_count": null,
            "_view_module_version": "1.5.0",
            "orientation": "horizontal",
            "min": 0,
            "description_tooltip": null,
            "_model_module": "@jupyter-widgets/controls",
            "layout": "IPY_MODEL_611e01e693e04cca9a3ac2788f719ace"
          }
        },
        "a77690260d904290bbb25a1755ff7029": {
          "model_module": "@jupyter-widgets/controls",
          "model_name": "HTMLModel",
          "state": {
            "_view_name": "HTMLView",
            "style": "IPY_MODEL_e9d02c2d61004d94a9da77376ed3e5c8",
            "_dom_classes": [],
            "description": "",
            "_model_name": "HTMLModel",
            "placeholder": "​",
            "_view_module": "@jupyter-widgets/controls",
            "_model_module_version": "1.5.0",
            "value": " 8/8 [00:48&lt;00:00,  6.02s/it]",
            "_view_count": null,
            "_view_module_version": "1.5.0",
            "description_tooltip": null,
            "_model_module": "@jupyter-widgets/controls",
            "layout": "IPY_MODEL_c0f0ae42d9cd4825b2e601e394c078d3"
          }
        },
        "ea8f3a413fe14459ba21f08bd41ae186": {
          "model_module": "@jupyter-widgets/controls",
          "model_name": "ProgressStyleModel",
          "state": {
            "_view_name": "StyleView",
            "_model_name": "ProgressStyleModel",
            "description_width": "initial",
            "_view_module": "@jupyter-widgets/base",
            "_model_module_version": "1.5.0",
            "_view_count": null,
            "_view_module_version": "1.2.0",
            "bar_color": null,
            "_model_module": "@jupyter-widgets/controls"
          }
        },
        "611e01e693e04cca9a3ac2788f719ace": {
          "model_module": "@jupyter-widgets/base",
          "model_name": "LayoutModel",
          "state": {
            "_view_name": "LayoutView",
            "grid_template_rows": null,
            "right": null,
            "justify_content": null,
            "_view_module": "@jupyter-widgets/base",
            "overflow": null,
            "_model_module_version": "1.2.0",
            "_view_count": null,
            "flex_flow": null,
            "width": null,
            "min_width": null,
            "border": null,
            "align_items": null,
            "bottom": null,
            "_model_module": "@jupyter-widgets/base",
            "top": null,
            "grid_column": null,
            "overflow_y": null,
            "overflow_x": null,
            "grid_auto_flow": null,
            "grid_area": null,
            "grid_template_columns": null,
            "flex": null,
            "_model_name": "LayoutModel",
            "justify_items": null,
            "grid_row": null,
            "max_height": null,
            "align_content": null,
            "visibility": null,
            "align_self": null,
            "height": null,
            "min_height": null,
            "padding": null,
            "grid_auto_rows": null,
            "grid_gap": null,
            "max_width": null,
            "order": null,
            "_view_module_version": "1.2.0",
            "grid_template_areas": null,
            "object_position": null,
            "object_fit": null,
            "grid_auto_columns": null,
            "margin": null,
            "display": null,
            "left": null
          }
        },
        "e9d02c2d61004d94a9da77376ed3e5c8": {
          "model_module": "@jupyter-widgets/controls",
          "model_name": "DescriptionStyleModel",
          "state": {
            "_view_name": "StyleView",
            "_model_name": "DescriptionStyleModel",
            "description_width": "",
            "_view_module": "@jupyter-widgets/base",
            "_model_module_version": "1.5.0",
            "_view_count": null,
            "_view_module_version": "1.2.0",
            "_model_module": "@jupyter-widgets/controls"
          }
        },
        "c0f0ae42d9cd4825b2e601e394c078d3": {
          "model_module": "@jupyter-widgets/base",
          "model_name": "LayoutModel",
          "state": {
            "_view_name": "LayoutView",
            "grid_template_rows": null,
            "right": null,
            "justify_content": null,
            "_view_module": "@jupyter-widgets/base",
            "overflow": null,
            "_model_module_version": "1.2.0",
            "_view_count": null,
            "flex_flow": null,
            "width": null,
            "min_width": null,
            "border": null,
            "align_items": null,
            "bottom": null,
            "_model_module": "@jupyter-widgets/base",
            "top": null,
            "grid_column": null,
            "overflow_y": null,
            "overflow_x": null,
            "grid_auto_flow": null,
            "grid_area": null,
            "grid_template_columns": null,
            "flex": null,
            "_model_name": "LayoutModel",
            "justify_items": null,
            "grid_row": null,
            "max_height": null,
            "align_content": null,
            "visibility": null,
            "align_self": null,
            "height": null,
            "min_height": null,
            "padding": null,
            "grid_auto_rows": null,
            "grid_gap": null,
            "max_width": null,
            "order": null,
            "_view_module_version": "1.2.0",
            "grid_template_areas": null,
            "object_position": null,
            "object_fit": null,
            "grid_auto_columns": null,
            "margin": null,
            "display": null,
            "left": null
          }
        },
        "45fd1a3c3a84411a81a0c010fc5b65dc": {
          "model_module": "@jupyter-widgets/controls",
          "model_name": "HBoxModel",
          "state": {
            "_view_name": "HBoxView",
            "_dom_classes": [],
            "_model_name": "HBoxModel",
            "_view_module": "@jupyter-widgets/controls",
            "_model_module_version": "1.5.0",
            "_view_count": null,
            "_view_module_version": "1.5.0",
            "box_style": "",
            "layout": "IPY_MODEL_7c2fd7071df9454e91c660da3bb855ac",
            "_model_module": "@jupyter-widgets/controls",
            "children": [
              "IPY_MODEL_d07ffb62b2cd49adb05a9b397bc71faa",
              "IPY_MODEL_33b4c20c3fef495a829186ba46e0bc57"
            ]
          }
        },
        "7c2fd7071df9454e91c660da3bb855ac": {
          "model_module": "@jupyter-widgets/base",
          "model_name": "LayoutModel",
          "state": {
            "_view_name": "LayoutView",
            "grid_template_rows": null,
            "right": null,
            "justify_content": null,
            "_view_module": "@jupyter-widgets/base",
            "overflow": null,
            "_model_module_version": "1.2.0",
            "_view_count": null,
            "flex_flow": null,
            "width": null,
            "min_width": null,
            "border": null,
            "align_items": null,
            "bottom": null,
            "_model_module": "@jupyter-widgets/base",
            "top": null,
            "grid_column": null,
            "overflow_y": null,
            "overflow_x": null,
            "grid_auto_flow": null,
            "grid_area": null,
            "grid_template_columns": null,
            "flex": null,
            "_model_name": "LayoutModel",
            "justify_items": null,
            "grid_row": null,
            "max_height": null,
            "align_content": null,
            "visibility": null,
            "align_self": null,
            "height": null,
            "min_height": null,
            "padding": null,
            "grid_auto_rows": null,
            "grid_gap": null,
            "max_width": null,
            "order": null,
            "_view_module_version": "1.2.0",
            "grid_template_areas": null,
            "object_position": null,
            "object_fit": null,
            "grid_auto_columns": null,
            "margin": null,
            "display": null,
            "left": null
          }
        },
        "d07ffb62b2cd49adb05a9b397bc71faa": {
          "model_module": "@jupyter-widgets/controls",
          "model_name": "FloatProgressModel",
          "state": {
            "_view_name": "ProgressView",
            "style": "IPY_MODEL_d8532ede595148e9accce287a223e667",
            "_dom_classes": [],
            "description": "100%",
            "_model_name": "FloatProgressModel",
            "bar_style": "success",
            "max": 8,
            "_view_module": "@jupyter-widgets/controls",
            "_model_module_version": "1.5.0",
            "value": 8,
            "_view_count": null,
            "_view_module_version": "1.5.0",
            "orientation": "horizontal",
            "min": 0,
            "description_tooltip": null,
            "_model_module": "@jupyter-widgets/controls",
            "layout": "IPY_MODEL_189124f3b8d54fa1be9fc4d8d8c90ed9"
          }
        },
        "33b4c20c3fef495a829186ba46e0bc57": {
          "model_module": "@jupyter-widgets/controls",
          "model_name": "HTMLModel",
          "state": {
            "_view_name": "HTMLView",
            "style": "IPY_MODEL_d0895c2bcba540e1a928fd0f837d4902",
            "_dom_classes": [],
            "description": "",
            "_model_name": "HTMLModel",
            "placeholder": "​",
            "_view_module": "@jupyter-widgets/controls",
            "_model_module_version": "1.5.0",
            "value": " 8/8 [00:05&lt;00:00,  1.53it/s]",
            "_view_count": null,
            "_view_module_version": "1.5.0",
            "description_tooltip": null,
            "_model_module": "@jupyter-widgets/controls",
            "layout": "IPY_MODEL_668b4e0959974299837b7cdb97911e45"
          }
        },
        "d8532ede595148e9accce287a223e667": {
          "model_module": "@jupyter-widgets/controls",
          "model_name": "ProgressStyleModel",
          "state": {
            "_view_name": "StyleView",
            "_model_name": "ProgressStyleModel",
            "description_width": "initial",
            "_view_module": "@jupyter-widgets/base",
            "_model_module_version": "1.5.0",
            "_view_count": null,
            "_view_module_version": "1.2.0",
            "bar_color": null,
            "_model_module": "@jupyter-widgets/controls"
          }
        },
        "189124f3b8d54fa1be9fc4d8d8c90ed9": {
          "model_module": "@jupyter-widgets/base",
          "model_name": "LayoutModel",
          "state": {
            "_view_name": "LayoutView",
            "grid_template_rows": null,
            "right": null,
            "justify_content": null,
            "_view_module": "@jupyter-widgets/base",
            "overflow": null,
            "_model_module_version": "1.2.0",
            "_view_count": null,
            "flex_flow": null,
            "width": null,
            "min_width": null,
            "border": null,
            "align_items": null,
            "bottom": null,
            "_model_module": "@jupyter-widgets/base",
            "top": null,
            "grid_column": null,
            "overflow_y": null,
            "overflow_x": null,
            "grid_auto_flow": null,
            "grid_area": null,
            "grid_template_columns": null,
            "flex": null,
            "_model_name": "LayoutModel",
            "justify_items": null,
            "grid_row": null,
            "max_height": null,
            "align_content": null,
            "visibility": null,
            "align_self": null,
            "height": null,
            "min_height": null,
            "padding": null,
            "grid_auto_rows": null,
            "grid_gap": null,
            "max_width": null,
            "order": null,
            "_view_module_version": "1.2.0",
            "grid_template_areas": null,
            "object_position": null,
            "object_fit": null,
            "grid_auto_columns": null,
            "margin": null,
            "display": null,
            "left": null
          }
        },
        "d0895c2bcba540e1a928fd0f837d4902": {
          "model_module": "@jupyter-widgets/controls",
          "model_name": "DescriptionStyleModel",
          "state": {
            "_view_name": "StyleView",
            "_model_name": "DescriptionStyleModel",
            "description_width": "",
            "_view_module": "@jupyter-widgets/base",
            "_model_module_version": "1.5.0",
            "_view_count": null,
            "_view_module_version": "1.2.0",
            "_model_module": "@jupyter-widgets/controls"
          }
        },
        "668b4e0959974299837b7cdb97911e45": {
          "model_module": "@jupyter-widgets/base",
          "model_name": "LayoutModel",
          "state": {
            "_view_name": "LayoutView",
            "grid_template_rows": null,
            "right": null,
            "justify_content": null,
            "_view_module": "@jupyter-widgets/base",
            "overflow": null,
            "_model_module_version": "1.2.0",
            "_view_count": null,
            "flex_flow": null,
            "width": null,
            "min_width": null,
            "border": null,
            "align_items": null,
            "bottom": null,
            "_model_module": "@jupyter-widgets/base",
            "top": null,
            "grid_column": null,
            "overflow_y": null,
            "overflow_x": null,
            "grid_auto_flow": null,
            "grid_area": null,
            "grid_template_columns": null,
            "flex": null,
            "_model_name": "LayoutModel",
            "justify_items": null,
            "grid_row": null,
            "max_height": null,
            "align_content": null,
            "visibility": null,
            "align_self": null,
            "height": null,
            "min_height": null,
            "padding": null,
            "grid_auto_rows": null,
            "grid_gap": null,
            "max_width": null,
            "order": null,
            "_view_module_version": "1.2.0",
            "grid_template_areas": null,
            "object_position": null,
            "object_fit": null,
            "grid_auto_columns": null,
            "margin": null,
            "display": null,
            "left": null
          }
        },
        "604e9be13e284cd69523e5f7af17845e": {
          "model_module": "@jupyter-widgets/controls",
          "model_name": "HBoxModel",
          "state": {
            "_view_name": "HBoxView",
            "_dom_classes": [],
            "_model_name": "HBoxModel",
            "_view_module": "@jupyter-widgets/controls",
            "_model_module_version": "1.5.0",
            "_view_count": null,
            "_view_module_version": "1.5.0",
            "box_style": "",
            "layout": "IPY_MODEL_7e50b63fb2ab4ce6afd445fbe12f17a3",
            "_model_module": "@jupyter-widgets/controls",
            "children": [
              "IPY_MODEL_e7eb58f8ab3a4cd6b880cb51ece89238",
              "IPY_MODEL_407b4dc070434d1ab1f5a489f5d35435"
            ]
          }
        },
        "7e50b63fb2ab4ce6afd445fbe12f17a3": {
          "model_module": "@jupyter-widgets/base",
          "model_name": "LayoutModel",
          "state": {
            "_view_name": "LayoutView",
            "grid_template_rows": null,
            "right": null,
            "justify_content": null,
            "_view_module": "@jupyter-widgets/base",
            "overflow": null,
            "_model_module_version": "1.2.0",
            "_view_count": null,
            "flex_flow": null,
            "width": null,
            "min_width": null,
            "border": null,
            "align_items": null,
            "bottom": null,
            "_model_module": "@jupyter-widgets/base",
            "top": null,
            "grid_column": null,
            "overflow_y": null,
            "overflow_x": null,
            "grid_auto_flow": null,
            "grid_area": null,
            "grid_template_columns": null,
            "flex": null,
            "_model_name": "LayoutModel",
            "justify_items": null,
            "grid_row": null,
            "max_height": null,
            "align_content": null,
            "visibility": null,
            "align_self": null,
            "height": null,
            "min_height": null,
            "padding": null,
            "grid_auto_rows": null,
            "grid_gap": null,
            "max_width": null,
            "order": null,
            "_view_module_version": "1.2.0",
            "grid_template_areas": null,
            "object_position": null,
            "object_fit": null,
            "grid_auto_columns": null,
            "margin": null,
            "display": null,
            "left": null
          }
        },
        "e7eb58f8ab3a4cd6b880cb51ece89238": {
          "model_module": "@jupyter-widgets/controls",
          "model_name": "FloatProgressModel",
          "state": {
            "_view_name": "ProgressView",
            "style": "IPY_MODEL_45c30ffc096c46baa87eda3c334ed04e",
            "_dom_classes": [],
            "description": "100%",
            "_model_name": "FloatProgressModel",
            "bar_style": "success",
            "max": 8,
            "_view_module": "@jupyter-widgets/controls",
            "_model_module_version": "1.5.0",
            "value": 8,
            "_view_count": null,
            "_view_module_version": "1.5.0",
            "orientation": "horizontal",
            "min": 0,
            "description_tooltip": null,
            "_model_module": "@jupyter-widgets/controls",
            "layout": "IPY_MODEL_5a0f751f56d747169d562f795aacd586"
          }
        },
        "407b4dc070434d1ab1f5a489f5d35435": {
          "model_module": "@jupyter-widgets/controls",
          "model_name": "HTMLModel",
          "state": {
            "_view_name": "HTMLView",
            "style": "IPY_MODEL_acb029e3de3b46aa9f006c19acedc9df",
            "_dom_classes": [],
            "description": "",
            "_model_name": "HTMLModel",
            "placeholder": "​",
            "_view_module": "@jupyter-widgets/controls",
            "_model_module_version": "1.5.0",
            "value": " 8/8 [00:50&lt;00:00,  6.32s/it]",
            "_view_count": null,
            "_view_module_version": "1.5.0",
            "description_tooltip": null,
            "_model_module": "@jupyter-widgets/controls",
            "layout": "IPY_MODEL_00eb86e705e147e0892b8e6bcc762f68"
          }
        },
        "45c30ffc096c46baa87eda3c334ed04e": {
          "model_module": "@jupyter-widgets/controls",
          "model_name": "ProgressStyleModel",
          "state": {
            "_view_name": "StyleView",
            "_model_name": "ProgressStyleModel",
            "description_width": "initial",
            "_view_module": "@jupyter-widgets/base",
            "_model_module_version": "1.5.0",
            "_view_count": null,
            "_view_module_version": "1.2.0",
            "bar_color": null,
            "_model_module": "@jupyter-widgets/controls"
          }
        },
        "5a0f751f56d747169d562f795aacd586": {
          "model_module": "@jupyter-widgets/base",
          "model_name": "LayoutModel",
          "state": {
            "_view_name": "LayoutView",
            "grid_template_rows": null,
            "right": null,
            "justify_content": null,
            "_view_module": "@jupyter-widgets/base",
            "overflow": null,
            "_model_module_version": "1.2.0",
            "_view_count": null,
            "flex_flow": null,
            "width": null,
            "min_width": null,
            "border": null,
            "align_items": null,
            "bottom": null,
            "_model_module": "@jupyter-widgets/base",
            "top": null,
            "grid_column": null,
            "overflow_y": null,
            "overflow_x": null,
            "grid_auto_flow": null,
            "grid_area": null,
            "grid_template_columns": null,
            "flex": null,
            "_model_name": "LayoutModel",
            "justify_items": null,
            "grid_row": null,
            "max_height": null,
            "align_content": null,
            "visibility": null,
            "align_self": null,
            "height": null,
            "min_height": null,
            "padding": null,
            "grid_auto_rows": null,
            "grid_gap": null,
            "max_width": null,
            "order": null,
            "_view_module_version": "1.2.0",
            "grid_template_areas": null,
            "object_position": null,
            "object_fit": null,
            "grid_auto_columns": null,
            "margin": null,
            "display": null,
            "left": null
          }
        },
        "acb029e3de3b46aa9f006c19acedc9df": {
          "model_module": "@jupyter-widgets/controls",
          "model_name": "DescriptionStyleModel",
          "state": {
            "_view_name": "StyleView",
            "_model_name": "DescriptionStyleModel",
            "description_width": "",
            "_view_module": "@jupyter-widgets/base",
            "_model_module_version": "1.5.0",
            "_view_count": null,
            "_view_module_version": "1.2.0",
            "_model_module": "@jupyter-widgets/controls"
          }
        },
        "00eb86e705e147e0892b8e6bcc762f68": {
          "model_module": "@jupyter-widgets/base",
          "model_name": "LayoutModel",
          "state": {
            "_view_name": "LayoutView",
            "grid_template_rows": null,
            "right": null,
            "justify_content": null,
            "_view_module": "@jupyter-widgets/base",
            "overflow": null,
            "_model_module_version": "1.2.0",
            "_view_count": null,
            "flex_flow": null,
            "width": null,
            "min_width": null,
            "border": null,
            "align_items": null,
            "bottom": null,
            "_model_module": "@jupyter-widgets/base",
            "top": null,
            "grid_column": null,
            "overflow_y": null,
            "overflow_x": null,
            "grid_auto_flow": null,
            "grid_area": null,
            "grid_template_columns": null,
            "flex": null,
            "_model_name": "LayoutModel",
            "justify_items": null,
            "grid_row": null,
            "max_height": null,
            "align_content": null,
            "visibility": null,
            "align_self": null,
            "height": null,
            "min_height": null,
            "padding": null,
            "grid_auto_rows": null,
            "grid_gap": null,
            "max_width": null,
            "order": null,
            "_view_module_version": "1.2.0",
            "grid_template_areas": null,
            "object_position": null,
            "object_fit": null,
            "grid_auto_columns": null,
            "margin": null,
            "display": null,
            "left": null
          }
        },
        "0e788dfcc64249fbab5911ffa7a3717d": {
          "model_module": "@jupyter-widgets/controls",
          "model_name": "HBoxModel",
          "state": {
            "_view_name": "HBoxView",
            "_dom_classes": [],
            "_model_name": "HBoxModel",
            "_view_module": "@jupyter-widgets/controls",
            "_model_module_version": "1.5.0",
            "_view_count": null,
            "_view_module_version": "1.5.0",
            "box_style": "",
            "layout": "IPY_MODEL_75891127259b4af0aaae20cbda129323",
            "_model_module": "@jupyter-widgets/controls",
            "children": [
              "IPY_MODEL_1890a2fb2db84abeaa4eb413a629d487",
              "IPY_MODEL_972c4a3c415045aea1a8fe0ecbcaf987"
            ]
          }
        },
        "75891127259b4af0aaae20cbda129323": {
          "model_module": "@jupyter-widgets/base",
          "model_name": "LayoutModel",
          "state": {
            "_view_name": "LayoutView",
            "grid_template_rows": null,
            "right": null,
            "justify_content": null,
            "_view_module": "@jupyter-widgets/base",
            "overflow": null,
            "_model_module_version": "1.2.0",
            "_view_count": null,
            "flex_flow": null,
            "width": null,
            "min_width": null,
            "border": null,
            "align_items": null,
            "bottom": null,
            "_model_module": "@jupyter-widgets/base",
            "top": null,
            "grid_column": null,
            "overflow_y": null,
            "overflow_x": null,
            "grid_auto_flow": null,
            "grid_area": null,
            "grid_template_columns": null,
            "flex": null,
            "_model_name": "LayoutModel",
            "justify_items": null,
            "grid_row": null,
            "max_height": null,
            "align_content": null,
            "visibility": null,
            "align_self": null,
            "height": null,
            "min_height": null,
            "padding": null,
            "grid_auto_rows": null,
            "grid_gap": null,
            "max_width": null,
            "order": null,
            "_view_module_version": "1.2.0",
            "grid_template_areas": null,
            "object_position": null,
            "object_fit": null,
            "grid_auto_columns": null,
            "margin": null,
            "display": null,
            "left": null
          }
        },
        "1890a2fb2db84abeaa4eb413a629d487": {
          "model_module": "@jupyter-widgets/controls",
          "model_name": "FloatProgressModel",
          "state": {
            "_view_name": "ProgressView",
            "style": "IPY_MODEL_6f0da1601ba94534b3699328da17fc86",
            "_dom_classes": [],
            "description": "100%",
            "_model_name": "FloatProgressModel",
            "bar_style": "success",
            "max": 8,
            "_view_module": "@jupyter-widgets/controls",
            "_model_module_version": "1.5.0",
            "value": 8,
            "_view_count": null,
            "_view_module_version": "1.5.0",
            "orientation": "horizontal",
            "min": 0,
            "description_tooltip": null,
            "_model_module": "@jupyter-widgets/controls",
            "layout": "IPY_MODEL_ff3db50db20c4fb1a67d866f6a542a91"
          }
        },
        "972c4a3c415045aea1a8fe0ecbcaf987": {
          "model_module": "@jupyter-widgets/controls",
          "model_name": "HTMLModel",
          "state": {
            "_view_name": "HTMLView",
            "style": "IPY_MODEL_ba56695fa92941869cfc05c36f2c1b38",
            "_dom_classes": [],
            "description": "",
            "_model_name": "HTMLModel",
            "placeholder": "​",
            "_view_module": "@jupyter-widgets/controls",
            "_model_module_version": "1.5.0",
            "value": " 8/8 [00:06&lt;00:00,  1.28it/s]",
            "_view_count": null,
            "_view_module_version": "1.5.0",
            "description_tooltip": null,
            "_model_module": "@jupyter-widgets/controls",
            "layout": "IPY_MODEL_a0f7e4c6c37c44eb83431c170f192c4d"
          }
        },
        "6f0da1601ba94534b3699328da17fc86": {
          "model_module": "@jupyter-widgets/controls",
          "model_name": "ProgressStyleModel",
          "state": {
            "_view_name": "StyleView",
            "_model_name": "ProgressStyleModel",
            "description_width": "initial",
            "_view_module": "@jupyter-widgets/base",
            "_model_module_version": "1.5.0",
            "_view_count": null,
            "_view_module_version": "1.2.0",
            "bar_color": null,
            "_model_module": "@jupyter-widgets/controls"
          }
        },
        "ff3db50db20c4fb1a67d866f6a542a91": {
          "model_module": "@jupyter-widgets/base",
          "model_name": "LayoutModel",
          "state": {
            "_view_name": "LayoutView",
            "grid_template_rows": null,
            "right": null,
            "justify_content": null,
            "_view_module": "@jupyter-widgets/base",
            "overflow": null,
            "_model_module_version": "1.2.0",
            "_view_count": null,
            "flex_flow": null,
            "width": null,
            "min_width": null,
            "border": null,
            "align_items": null,
            "bottom": null,
            "_model_module": "@jupyter-widgets/base",
            "top": null,
            "grid_column": null,
            "overflow_y": null,
            "overflow_x": null,
            "grid_auto_flow": null,
            "grid_area": null,
            "grid_template_columns": null,
            "flex": null,
            "_model_name": "LayoutModel",
            "justify_items": null,
            "grid_row": null,
            "max_height": null,
            "align_content": null,
            "visibility": null,
            "align_self": null,
            "height": null,
            "min_height": null,
            "padding": null,
            "grid_auto_rows": null,
            "grid_gap": null,
            "max_width": null,
            "order": null,
            "_view_module_version": "1.2.0",
            "grid_template_areas": null,
            "object_position": null,
            "object_fit": null,
            "grid_auto_columns": null,
            "margin": null,
            "display": null,
            "left": null
          }
        },
        "ba56695fa92941869cfc05c36f2c1b38": {
          "model_module": "@jupyter-widgets/controls",
          "model_name": "DescriptionStyleModel",
          "state": {
            "_view_name": "StyleView",
            "_model_name": "DescriptionStyleModel",
            "description_width": "",
            "_view_module": "@jupyter-widgets/base",
            "_model_module_version": "1.5.0",
            "_view_count": null,
            "_view_module_version": "1.2.0",
            "_model_module": "@jupyter-widgets/controls"
          }
        },
        "a0f7e4c6c37c44eb83431c170f192c4d": {
          "model_module": "@jupyter-widgets/base",
          "model_name": "LayoutModel",
          "state": {
            "_view_name": "LayoutView",
            "grid_template_rows": null,
            "right": null,
            "justify_content": null,
            "_view_module": "@jupyter-widgets/base",
            "overflow": null,
            "_model_module_version": "1.2.0",
            "_view_count": null,
            "flex_flow": null,
            "width": null,
            "min_width": null,
            "border": null,
            "align_items": null,
            "bottom": null,
            "_model_module": "@jupyter-widgets/base",
            "top": null,
            "grid_column": null,
            "overflow_y": null,
            "overflow_x": null,
            "grid_auto_flow": null,
            "grid_area": null,
            "grid_template_columns": null,
            "flex": null,
            "_model_name": "LayoutModel",
            "justify_items": null,
            "grid_row": null,
            "max_height": null,
            "align_content": null,
            "visibility": null,
            "align_self": null,
            "height": null,
            "min_height": null,
            "padding": null,
            "grid_auto_rows": null,
            "grid_gap": null,
            "max_width": null,
            "order": null,
            "_view_module_version": "1.2.0",
            "grid_template_areas": null,
            "object_position": null,
            "object_fit": null,
            "grid_auto_columns": null,
            "margin": null,
            "display": null,
            "left": null
          }
        },
        "5415069d85464d1284c2caf6b18a3bec": {
          "model_module": "@jupyter-widgets/controls",
          "model_name": "HBoxModel",
          "state": {
            "_view_name": "HBoxView",
            "_dom_classes": [],
            "_model_name": "HBoxModel",
            "_view_module": "@jupyter-widgets/controls",
            "_model_module_version": "1.5.0",
            "_view_count": null,
            "_view_module_version": "1.5.0",
            "box_style": "",
            "layout": "IPY_MODEL_a955d9bf83ec4cfaa8f944121ac55bab",
            "_model_module": "@jupyter-widgets/controls",
            "children": [
              "IPY_MODEL_5e06228f006342b083b09e79295cce1c",
              "IPY_MODEL_8cb82c4761c2494aa6ae2befd81aeb11"
            ]
          }
        },
        "a955d9bf83ec4cfaa8f944121ac55bab": {
          "model_module": "@jupyter-widgets/base",
          "model_name": "LayoutModel",
          "state": {
            "_view_name": "LayoutView",
            "grid_template_rows": null,
            "right": null,
            "justify_content": null,
            "_view_module": "@jupyter-widgets/base",
            "overflow": null,
            "_model_module_version": "1.2.0",
            "_view_count": null,
            "flex_flow": null,
            "width": null,
            "min_width": null,
            "border": null,
            "align_items": null,
            "bottom": null,
            "_model_module": "@jupyter-widgets/base",
            "top": null,
            "grid_column": null,
            "overflow_y": null,
            "overflow_x": null,
            "grid_auto_flow": null,
            "grid_area": null,
            "grid_template_columns": null,
            "flex": null,
            "_model_name": "LayoutModel",
            "justify_items": null,
            "grid_row": null,
            "max_height": null,
            "align_content": null,
            "visibility": null,
            "align_self": null,
            "height": null,
            "min_height": null,
            "padding": null,
            "grid_auto_rows": null,
            "grid_gap": null,
            "max_width": null,
            "order": null,
            "_view_module_version": "1.2.0",
            "grid_template_areas": null,
            "object_position": null,
            "object_fit": null,
            "grid_auto_columns": null,
            "margin": null,
            "display": null,
            "left": null
          }
        },
        "5e06228f006342b083b09e79295cce1c": {
          "model_module": "@jupyter-widgets/controls",
          "model_name": "FloatProgressModel",
          "state": {
            "_view_name": "ProgressView",
            "style": "IPY_MODEL_23827d78ebd94e83a7cc7a3701850b8f",
            "_dom_classes": [],
            "description": "100%",
            "_model_name": "FloatProgressModel",
            "bar_style": "success",
            "max": 8,
            "_view_module": "@jupyter-widgets/controls",
            "_model_module_version": "1.5.0",
            "value": 8,
            "_view_count": null,
            "_view_module_version": "1.5.0",
            "orientation": "horizontal",
            "min": 0,
            "description_tooltip": null,
            "_model_module": "@jupyter-widgets/controls",
            "layout": "IPY_MODEL_f6184922698c4d4298e8d305a15d4d60"
          }
        },
        "8cb82c4761c2494aa6ae2befd81aeb11": {
          "model_module": "@jupyter-widgets/controls",
          "model_name": "HTMLModel",
          "state": {
            "_view_name": "HTMLView",
            "style": "IPY_MODEL_a32b0d8728b54801b4511164538bde99",
            "_dom_classes": [],
            "description": "",
            "_model_name": "HTMLModel",
            "placeholder": "​",
            "_view_module": "@jupyter-widgets/controls",
            "_model_module_version": "1.5.0",
            "value": " 8/8 [00:12&lt;00:00,  1.59s/it]",
            "_view_count": null,
            "_view_module_version": "1.5.0",
            "description_tooltip": null,
            "_model_module": "@jupyter-widgets/controls",
            "layout": "IPY_MODEL_926a875425e84069aeabe98c42f1dde1"
          }
        },
        "23827d78ebd94e83a7cc7a3701850b8f": {
          "model_module": "@jupyter-widgets/controls",
          "model_name": "ProgressStyleModel",
          "state": {
            "_view_name": "StyleView",
            "_model_name": "ProgressStyleModel",
            "description_width": "initial",
            "_view_module": "@jupyter-widgets/base",
            "_model_module_version": "1.5.0",
            "_view_count": null,
            "_view_module_version": "1.2.0",
            "bar_color": null,
            "_model_module": "@jupyter-widgets/controls"
          }
        },
        "f6184922698c4d4298e8d305a15d4d60": {
          "model_module": "@jupyter-widgets/base",
          "model_name": "LayoutModel",
          "state": {
            "_view_name": "LayoutView",
            "grid_template_rows": null,
            "right": null,
            "justify_content": null,
            "_view_module": "@jupyter-widgets/base",
            "overflow": null,
            "_model_module_version": "1.2.0",
            "_view_count": null,
            "flex_flow": null,
            "width": null,
            "min_width": null,
            "border": null,
            "align_items": null,
            "bottom": null,
            "_model_module": "@jupyter-widgets/base",
            "top": null,
            "grid_column": null,
            "overflow_y": null,
            "overflow_x": null,
            "grid_auto_flow": null,
            "grid_area": null,
            "grid_template_columns": null,
            "flex": null,
            "_model_name": "LayoutModel",
            "justify_items": null,
            "grid_row": null,
            "max_height": null,
            "align_content": null,
            "visibility": null,
            "align_self": null,
            "height": null,
            "min_height": null,
            "padding": null,
            "grid_auto_rows": null,
            "grid_gap": null,
            "max_width": null,
            "order": null,
            "_view_module_version": "1.2.0",
            "grid_template_areas": null,
            "object_position": null,
            "object_fit": null,
            "grid_auto_columns": null,
            "margin": null,
            "display": null,
            "left": null
          }
        },
        "a32b0d8728b54801b4511164538bde99": {
          "model_module": "@jupyter-widgets/controls",
          "model_name": "DescriptionStyleModel",
          "state": {
            "_view_name": "StyleView",
            "_model_name": "DescriptionStyleModel",
            "description_width": "",
            "_view_module": "@jupyter-widgets/base",
            "_model_module_version": "1.5.0",
            "_view_count": null,
            "_view_module_version": "1.2.0",
            "_model_module": "@jupyter-widgets/controls"
          }
        },
        "926a875425e84069aeabe98c42f1dde1": {
          "model_module": "@jupyter-widgets/base",
          "model_name": "LayoutModel",
          "state": {
            "_view_name": "LayoutView",
            "grid_template_rows": null,
            "right": null,
            "justify_content": null,
            "_view_module": "@jupyter-widgets/base",
            "overflow": null,
            "_model_module_version": "1.2.0",
            "_view_count": null,
            "flex_flow": null,
            "width": null,
            "min_width": null,
            "border": null,
            "align_items": null,
            "bottom": null,
            "_model_module": "@jupyter-widgets/base",
            "top": null,
            "grid_column": null,
            "overflow_y": null,
            "overflow_x": null,
            "grid_auto_flow": null,
            "grid_area": null,
            "grid_template_columns": null,
            "flex": null,
            "_model_name": "LayoutModel",
            "justify_items": null,
            "grid_row": null,
            "max_height": null,
            "align_content": null,
            "visibility": null,
            "align_self": null,
            "height": null,
            "min_height": null,
            "padding": null,
            "grid_auto_rows": null,
            "grid_gap": null,
            "max_width": null,
            "order": null,
            "_view_module_version": "1.2.0",
            "grid_template_areas": null,
            "object_position": null,
            "object_fit": null,
            "grid_auto_columns": null,
            "margin": null,
            "display": null,
            "left": null
          }
        },
        "f7bad59f073a4e33abbf96010e994b67": {
          "model_module": "@jupyter-widgets/controls",
          "model_name": "HBoxModel",
          "state": {
            "_view_name": "HBoxView",
            "_dom_classes": [],
            "_model_name": "HBoxModel",
            "_view_module": "@jupyter-widgets/controls",
            "_model_module_version": "1.5.0",
            "_view_count": null,
            "_view_module_version": "1.5.0",
            "box_style": "",
            "layout": "IPY_MODEL_65479e0cdc8f479b8dc5130a0fb86e1c",
            "_model_module": "@jupyter-widgets/controls",
            "children": [
              "IPY_MODEL_7e51419cf1644e909156e15615043e29",
              "IPY_MODEL_e0bb1d5d660645459e56420887091048"
            ]
          }
        },
        "65479e0cdc8f479b8dc5130a0fb86e1c": {
          "model_module": "@jupyter-widgets/base",
          "model_name": "LayoutModel",
          "state": {
            "_view_name": "LayoutView",
            "grid_template_rows": null,
            "right": null,
            "justify_content": null,
            "_view_module": "@jupyter-widgets/base",
            "overflow": null,
            "_model_module_version": "1.2.0",
            "_view_count": null,
            "flex_flow": null,
            "width": null,
            "min_width": null,
            "border": null,
            "align_items": null,
            "bottom": null,
            "_model_module": "@jupyter-widgets/base",
            "top": null,
            "grid_column": null,
            "overflow_y": null,
            "overflow_x": null,
            "grid_auto_flow": null,
            "grid_area": null,
            "grid_template_columns": null,
            "flex": null,
            "_model_name": "LayoutModel",
            "justify_items": null,
            "grid_row": null,
            "max_height": null,
            "align_content": null,
            "visibility": null,
            "align_self": null,
            "height": null,
            "min_height": null,
            "padding": null,
            "grid_auto_rows": null,
            "grid_gap": null,
            "max_width": null,
            "order": null,
            "_view_module_version": "1.2.0",
            "grid_template_areas": null,
            "object_position": null,
            "object_fit": null,
            "grid_auto_columns": null,
            "margin": null,
            "display": null,
            "left": null
          }
        },
        "7e51419cf1644e909156e15615043e29": {
          "model_module": "@jupyter-widgets/controls",
          "model_name": "FloatProgressModel",
          "state": {
            "_view_name": "ProgressView",
            "style": "IPY_MODEL_2528ff0b67c84291a07ac8725d51fb71",
            "_dom_classes": [],
            "description": "100%",
            "_model_name": "FloatProgressModel",
            "bar_style": "success",
            "max": 8,
            "_view_module": "@jupyter-widgets/controls",
            "_model_module_version": "1.5.0",
            "value": 8,
            "_view_count": null,
            "_view_module_version": "1.5.0",
            "orientation": "horizontal",
            "min": 0,
            "description_tooltip": null,
            "_model_module": "@jupyter-widgets/controls",
            "layout": "IPY_MODEL_69bedca068dc4215abeddfda9d6b1689"
          }
        },
        "e0bb1d5d660645459e56420887091048": {
          "model_module": "@jupyter-widgets/controls",
          "model_name": "HTMLModel",
          "state": {
            "_view_name": "HTMLView",
            "style": "IPY_MODEL_cad708cafb2848debd753f586e78dc85",
            "_dom_classes": [],
            "description": "",
            "_model_name": "HTMLModel",
            "placeholder": "​",
            "_view_module": "@jupyter-widgets/controls",
            "_model_module_version": "1.5.0",
            "value": " 8/8 [00:04&lt;00:00,  1.88it/s]",
            "_view_count": null,
            "_view_module_version": "1.5.0",
            "description_tooltip": null,
            "_model_module": "@jupyter-widgets/controls",
            "layout": "IPY_MODEL_5b9a4529146f4f7ba6bc1e35dbdfaee4"
          }
        },
        "2528ff0b67c84291a07ac8725d51fb71": {
          "model_module": "@jupyter-widgets/controls",
          "model_name": "ProgressStyleModel",
          "state": {
            "_view_name": "StyleView",
            "_model_name": "ProgressStyleModel",
            "description_width": "initial",
            "_view_module": "@jupyter-widgets/base",
            "_model_module_version": "1.5.0",
            "_view_count": null,
            "_view_module_version": "1.2.0",
            "bar_color": null,
            "_model_module": "@jupyter-widgets/controls"
          }
        },
        "69bedca068dc4215abeddfda9d6b1689": {
          "model_module": "@jupyter-widgets/base",
          "model_name": "LayoutModel",
          "state": {
            "_view_name": "LayoutView",
            "grid_template_rows": null,
            "right": null,
            "justify_content": null,
            "_view_module": "@jupyter-widgets/base",
            "overflow": null,
            "_model_module_version": "1.2.0",
            "_view_count": null,
            "flex_flow": null,
            "width": null,
            "min_width": null,
            "border": null,
            "align_items": null,
            "bottom": null,
            "_model_module": "@jupyter-widgets/base",
            "top": null,
            "grid_column": null,
            "overflow_y": null,
            "overflow_x": null,
            "grid_auto_flow": null,
            "grid_area": null,
            "grid_template_columns": null,
            "flex": null,
            "_model_name": "LayoutModel",
            "justify_items": null,
            "grid_row": null,
            "max_height": null,
            "align_content": null,
            "visibility": null,
            "align_self": null,
            "height": null,
            "min_height": null,
            "padding": null,
            "grid_auto_rows": null,
            "grid_gap": null,
            "max_width": null,
            "order": null,
            "_view_module_version": "1.2.0",
            "grid_template_areas": null,
            "object_position": null,
            "object_fit": null,
            "grid_auto_columns": null,
            "margin": null,
            "display": null,
            "left": null
          }
        },
        "cad708cafb2848debd753f586e78dc85": {
          "model_module": "@jupyter-widgets/controls",
          "model_name": "DescriptionStyleModel",
          "state": {
            "_view_name": "StyleView",
            "_model_name": "DescriptionStyleModel",
            "description_width": "",
            "_view_module": "@jupyter-widgets/base",
            "_model_module_version": "1.5.0",
            "_view_count": null,
            "_view_module_version": "1.2.0",
            "_model_module": "@jupyter-widgets/controls"
          }
        },
        "5b9a4529146f4f7ba6bc1e35dbdfaee4": {
          "model_module": "@jupyter-widgets/base",
          "model_name": "LayoutModel",
          "state": {
            "_view_name": "LayoutView",
            "grid_template_rows": null,
            "right": null,
            "justify_content": null,
            "_view_module": "@jupyter-widgets/base",
            "overflow": null,
            "_model_module_version": "1.2.0",
            "_view_count": null,
            "flex_flow": null,
            "width": null,
            "min_width": null,
            "border": null,
            "align_items": null,
            "bottom": null,
            "_model_module": "@jupyter-widgets/base",
            "top": null,
            "grid_column": null,
            "overflow_y": null,
            "overflow_x": null,
            "grid_auto_flow": null,
            "grid_area": null,
            "grid_template_columns": null,
            "flex": null,
            "_model_name": "LayoutModel",
            "justify_items": null,
            "grid_row": null,
            "max_height": null,
            "align_content": null,
            "visibility": null,
            "align_self": null,
            "height": null,
            "min_height": null,
            "padding": null,
            "grid_auto_rows": null,
            "grid_gap": null,
            "max_width": null,
            "order": null,
            "_view_module_version": "1.2.0",
            "grid_template_areas": null,
            "object_position": null,
            "object_fit": null,
            "grid_auto_columns": null,
            "margin": null,
            "display": null,
            "left": null
          }
        },
        "7f0877727b0a4f8f97a937653b5daabc": {
          "model_module": "@jupyter-widgets/controls",
          "model_name": "HBoxModel",
          "state": {
            "_view_name": "HBoxView",
            "_dom_classes": [],
            "_model_name": "HBoxModel",
            "_view_module": "@jupyter-widgets/controls",
            "_model_module_version": "1.5.0",
            "_view_count": null,
            "_view_module_version": "1.5.0",
            "box_style": "",
            "layout": "IPY_MODEL_c455673f3d1d4da9b5e34836fd5b63d0",
            "_model_module": "@jupyter-widgets/controls",
            "children": [
              "IPY_MODEL_b63dbe2ca64646f799711997a8a384e4",
              "IPY_MODEL_27e9e750eb994005b38d2e1901f9a79a"
            ]
          }
        },
        "c455673f3d1d4da9b5e34836fd5b63d0": {
          "model_module": "@jupyter-widgets/base",
          "model_name": "LayoutModel",
          "state": {
            "_view_name": "LayoutView",
            "grid_template_rows": null,
            "right": null,
            "justify_content": null,
            "_view_module": "@jupyter-widgets/base",
            "overflow": null,
            "_model_module_version": "1.2.0",
            "_view_count": null,
            "flex_flow": null,
            "width": null,
            "min_width": null,
            "border": null,
            "align_items": null,
            "bottom": null,
            "_model_module": "@jupyter-widgets/base",
            "top": null,
            "grid_column": null,
            "overflow_y": null,
            "overflow_x": null,
            "grid_auto_flow": null,
            "grid_area": null,
            "grid_template_columns": null,
            "flex": null,
            "_model_name": "LayoutModel",
            "justify_items": null,
            "grid_row": null,
            "max_height": null,
            "align_content": null,
            "visibility": null,
            "align_self": null,
            "height": null,
            "min_height": null,
            "padding": null,
            "grid_auto_rows": null,
            "grid_gap": null,
            "max_width": null,
            "order": null,
            "_view_module_version": "1.2.0",
            "grid_template_areas": null,
            "object_position": null,
            "object_fit": null,
            "grid_auto_columns": null,
            "margin": null,
            "display": null,
            "left": null
          }
        },
        "b63dbe2ca64646f799711997a8a384e4": {
          "model_module": "@jupyter-widgets/controls",
          "model_name": "FloatProgressModel",
          "state": {
            "_view_name": "ProgressView",
            "style": "IPY_MODEL_1ac3a4c5f25a4ac4b926d94c20893c95",
            "_dom_classes": [],
            "description": "100%",
            "_model_name": "FloatProgressModel",
            "bar_style": "success",
            "max": 8,
            "_view_module": "@jupyter-widgets/controls",
            "_model_module_version": "1.5.0",
            "value": 8,
            "_view_count": null,
            "_view_module_version": "1.5.0",
            "orientation": "horizontal",
            "min": 0,
            "description_tooltip": null,
            "_model_module": "@jupyter-widgets/controls",
            "layout": "IPY_MODEL_1ada5e0578df4a5e9e27fbaf4493758b"
          }
        },
        "27e9e750eb994005b38d2e1901f9a79a": {
          "model_module": "@jupyter-widgets/controls",
          "model_name": "HTMLModel",
          "state": {
            "_view_name": "HTMLView",
            "style": "IPY_MODEL_c0e7e92a224b40aaaaa3c90b9cb6b804",
            "_dom_classes": [],
            "description": "",
            "_model_name": "HTMLModel",
            "placeholder": "​",
            "_view_module": "@jupyter-widgets/controls",
            "_model_module_version": "1.5.0",
            "value": " 8/8 [00:43&lt;00:00,  5.49s/it]",
            "_view_count": null,
            "_view_module_version": "1.5.0",
            "description_tooltip": null,
            "_model_module": "@jupyter-widgets/controls",
            "layout": "IPY_MODEL_cc7b1cad8c5641e087f8cbb530d96f5b"
          }
        },
        "1ac3a4c5f25a4ac4b926d94c20893c95": {
          "model_module": "@jupyter-widgets/controls",
          "model_name": "ProgressStyleModel",
          "state": {
            "_view_name": "StyleView",
            "_model_name": "ProgressStyleModel",
            "description_width": "initial",
            "_view_module": "@jupyter-widgets/base",
            "_model_module_version": "1.5.0",
            "_view_count": null,
            "_view_module_version": "1.2.0",
            "bar_color": null,
            "_model_module": "@jupyter-widgets/controls"
          }
        },
        "1ada5e0578df4a5e9e27fbaf4493758b": {
          "model_module": "@jupyter-widgets/base",
          "model_name": "LayoutModel",
          "state": {
            "_view_name": "LayoutView",
            "grid_template_rows": null,
            "right": null,
            "justify_content": null,
            "_view_module": "@jupyter-widgets/base",
            "overflow": null,
            "_model_module_version": "1.2.0",
            "_view_count": null,
            "flex_flow": null,
            "width": null,
            "min_width": null,
            "border": null,
            "align_items": null,
            "bottom": null,
            "_model_module": "@jupyter-widgets/base",
            "top": null,
            "grid_column": null,
            "overflow_y": null,
            "overflow_x": null,
            "grid_auto_flow": null,
            "grid_area": null,
            "grid_template_columns": null,
            "flex": null,
            "_model_name": "LayoutModel",
            "justify_items": null,
            "grid_row": null,
            "max_height": null,
            "align_content": null,
            "visibility": null,
            "align_self": null,
            "height": null,
            "min_height": null,
            "padding": null,
            "grid_auto_rows": null,
            "grid_gap": null,
            "max_width": null,
            "order": null,
            "_view_module_version": "1.2.0",
            "grid_template_areas": null,
            "object_position": null,
            "object_fit": null,
            "grid_auto_columns": null,
            "margin": null,
            "display": null,
            "left": null
          }
        },
        "c0e7e92a224b40aaaaa3c90b9cb6b804": {
          "model_module": "@jupyter-widgets/controls",
          "model_name": "DescriptionStyleModel",
          "state": {
            "_view_name": "StyleView",
            "_model_name": "DescriptionStyleModel",
            "description_width": "",
            "_view_module": "@jupyter-widgets/base",
            "_model_module_version": "1.5.0",
            "_view_count": null,
            "_view_module_version": "1.2.0",
            "_model_module": "@jupyter-widgets/controls"
          }
        },
        "cc7b1cad8c5641e087f8cbb530d96f5b": {
          "model_module": "@jupyter-widgets/base",
          "model_name": "LayoutModel",
          "state": {
            "_view_name": "LayoutView",
            "grid_template_rows": null,
            "right": null,
            "justify_content": null,
            "_view_module": "@jupyter-widgets/base",
            "overflow": null,
            "_model_module_version": "1.2.0",
            "_view_count": null,
            "flex_flow": null,
            "width": null,
            "min_width": null,
            "border": null,
            "align_items": null,
            "bottom": null,
            "_model_module": "@jupyter-widgets/base",
            "top": null,
            "grid_column": null,
            "overflow_y": null,
            "overflow_x": null,
            "grid_auto_flow": null,
            "grid_area": null,
            "grid_template_columns": null,
            "flex": null,
            "_model_name": "LayoutModel",
            "justify_items": null,
            "grid_row": null,
            "max_height": null,
            "align_content": null,
            "visibility": null,
            "align_self": null,
            "height": null,
            "min_height": null,
            "padding": null,
            "grid_auto_rows": null,
            "grid_gap": null,
            "max_width": null,
            "order": null,
            "_view_module_version": "1.2.0",
            "grid_template_areas": null,
            "object_position": null,
            "object_fit": null,
            "grid_auto_columns": null,
            "margin": null,
            "display": null,
            "left": null
          }
        }
      }
    }
  },
  "cells": [
    {
      "cell_type": "markdown",
      "metadata": {
        "id": "view-in-github",
        "colab_type": "text"
      },
      "source": [
        "<a href=\"https://colab.research.google.com/github/1Englert1/cerf_classification/blob/main/dev/Preprocessing.ipynb\" target=\"_parent\"><img src=\"https://colab.research.google.com/assets/colab-badge.svg\" alt=\"Open In Colab\"/></a>"
      ]
    },
    {
      "cell_type": "markdown",
      "metadata": {
        "id": "T5FikOVurYqH"
      },
      "source": [
        "# Preprocessing"
      ]
    },
    {
      "cell_type": "code",
      "metadata": {
        "id": "GbVRaNE62tkg"
      },
      "source": [
        "!pip install --upgrade pandas"
      ],
      "execution_count": null,
      "outputs": []
    },
    {
      "cell_type": "markdown",
      "metadata": {
        "id": "d2taL81vrYqI"
      },
      "source": [
        "## Load Data"
      ]
    },
    {
      "cell_type": "markdown",
      "metadata": {
        "id": "W5bZ0Y7336Sj"
      },
      "source": [
        ""
      ]
    },
    {
      "cell_type": "code",
      "metadata": {
        "id": "u8N-yb68rYqJ"
      },
      "source": [
        "%%capture\n",
        "!pip install tqdm\n",
        "from tqdm.notebook import tqdm\n",
        "tqdm().pandas()\n",
        "import pandas as pd\n",
        "\n",
        "df = pd.read_csv(\"https://raw.githubusercontent.com/1Englert1/cerf_classification/main/dev/data/texts_sm.csv\")\n",
        "\n",
        "#Trim Strings\n",
        "for index in tqdm(df.index):\n",
        "    df.at[index, \"Text File\"] = df[\"Text File\"][index].strip()\n",
        "\n",
        "\n",
        "\n"
      ],
      "execution_count": 3,
      "outputs": []
    },
    {
      "cell_type": "code",
      "metadata": {
        "id": "WVe5Z2_lrYqN",
        "outputId": "db869e6f-e28e-4270-ac87-3586d63e1ef6",
        "colab": {
          "base_uri": "https://localhost:8080/",
          "height": 197
        }
      },
      "source": [
        "df.head()"
      ],
      "execution_count": 4,
      "outputs": [
        {
          "output_type": "execute_result",
          "data": {
            "text/html": [
              "<div>\n",
              "<style scoped>\n",
              "    .dataframe tbody tr th:only-of-type {\n",
              "        vertical-align: middle;\n",
              "    }\n",
              "\n",
              "    .dataframe tbody tr th {\n",
              "        vertical-align: top;\n",
              "    }\n",
              "\n",
              "    .dataframe thead th {\n",
              "        text-align: right;\n",
              "    }\n",
              "</style>\n",
              "<table border=\"1\" class=\"dataframe\">\n",
              "  <thead>\n",
              "    <tr style=\"text-align: right;\">\n",
              "      <th></th>\n",
              "      <th>Text File</th>\n",
              "      <th>lvl</th>\n",
              "    </tr>\n",
              "  </thead>\n",
              "  <tbody>\n",
              "    <tr>\n",
              "      <th>0</th>\n",
              "      <td>sehr gefruet auf diser Platz. Deshalb möchte i...</td>\n",
              "      <td>B1</td>\n",
              "    </tr>\n",
              "    <tr>\n",
              "      <th>1</th>\n",
              "      <td>Sehr geehrte Damen und Herren,mit grossem Inte...</td>\n",
              "      <td>B2</td>\n",
              "    </tr>\n",
              "    <tr>\n",
              "      <th>2</th>\n",
              "      <td>Sehr geehrte Damen und Herrenhiermit habe ich ...</td>\n",
              "      <td>B1</td>\n",
              "    </tr>\n",
              "    <tr>\n",
              "      <th>3</th>\n",
              "      <td>Für Leute auf der Welt ist es schon eindeutig,...</td>\n",
              "      <td>B2</td>\n",
              "    </tr>\n",
              "    <tr>\n",
              "      <th>4</th>\n",
              "      <td>Ich bin der Meinung das man sollte sich an der...</td>\n",
              "      <td>B2</td>\n",
              "    </tr>\n",
              "  </tbody>\n",
              "</table>\n",
              "</div>"
            ],
            "text/plain": [
              "                                           Text File lvl\n",
              "0  sehr gefruet auf diser Platz. Deshalb möchte i...  B1\n",
              "1  Sehr geehrte Damen und Herren,mit grossem Inte...  B2\n",
              "2  Sehr geehrte Damen und Herrenhiermit habe ich ...  B1\n",
              "3  Für Leute auf der Welt ist es schon eindeutig,...  B2\n",
              "4  Ich bin der Meinung das man sollte sich an der...  B2"
            ]
          },
          "metadata": {
            "tags": []
          },
          "execution_count": 4
        }
      ]
    },
    {
      "cell_type": "markdown",
      "metadata": {
        "id": "4Jqe7nqk8mCp"
      },
      "source": [
        "## Clean Text"
      ]
    },
    {
      "cell_type": "code",
      "metadata": {
        "id": "gX7CQi0L87N1"
      },
      "source": [
        "%%capture\n",
        "!pip install language-tool-python"
      ],
      "execution_count": 5,
      "outputs": []
    },
    {
      "cell_type": "code",
      "metadata": {
        "id": "FkadieU787N5"
      },
      "source": [
        "%%capture\n",
        "import language_tool_python\n",
        "tool = language_tool_python.LanguageTool('de-DE')  "
      ],
      "execution_count": 6,
      "outputs": []
    },
    {
      "cell_type": "code",
      "metadata": {
        "id": "EOolqppP8lGq",
        "outputId": "4a1aa64e-0759-447d-9f1f-66c5abf46b9f",
        "colab": {
          "base_uri": "https://localhost:8080/",
          "height": 66,
          "referenced_widgets": [
            "6ab0cf0430984e99bcc84036a49d781a",
            "0764518f30ac41a39a8018c554ebb693",
            "2c94502531bd44cab863feea7172c26d",
            "3ed779e152c34b76b2cb3a3af5d98bf9",
            "e6d31c826703479d96dd7a2291192739",
            "e252cf92dfe44fb8b7facc2dff764a9c",
            "e2bd02c18c6248b1a2abc981e264c98a",
            "d19688af914945e2bd3e52ee543520a6"
          ]
        }
      },
      "source": [
        "###### Fehler korrigieren #################\n",
        "for index in tqdm(df.index):\n",
        "  text = df.at[index, \"Text File\"]\n",
        "  df.at[index, \"cor_text\"] = tool.correct(text)"
      ],
      "execution_count": 7,
      "outputs": [
        {
          "output_type": "display_data",
          "data": {
            "application/vnd.jupyter.widget-view+json": {
              "model_id": "6ab0cf0430984e99bcc84036a49d781a",
              "version_minor": 0,
              "version_major": 2
            },
            "text/plain": [
              "HBox(children=(FloatProgress(value=0.0, max=8.0), HTML(value='')))"
            ]
          },
          "metadata": {
            "tags": []
          }
        },
        {
          "output_type": "stream",
          "text": [
            "\n"
          ],
          "name": "stdout"
        }
      ]
    },
    {
      "cell_type": "markdown",
      "metadata": {
        "id": "skcnvymzrYqV"
      },
      "source": [
        "## Fehler auslesen(language Tool)\n",
        "https://pypi.org/project/language-tool-python/"
      ]
    },
    {
      "cell_type": "code",
      "metadata": {
        "id": "EwbIk_1eaqeF"
      },
      "source": [
        "%%capture\n",
        "!pip install language-tool-python"
      ],
      "execution_count": 8,
      "outputs": []
    },
    {
      "cell_type": "code",
      "metadata": {
        "id": "AEcdY15ibNZg"
      },
      "source": [
        "%%capture\n",
        "import language_tool_python\n",
        "tool = language_tool_python.LanguageTool('de-DE')  "
      ],
      "execution_count": 9,
      "outputs": []
    },
    {
      "cell_type": "code",
      "metadata": {
        "id": "HYGD0OATBDPW",
        "outputId": "a32a8605-607b-4ac4-d9cd-05637299ce1a",
        "colab": {
          "base_uri": "https://localhost:8080/",
          "height": 262,
          "referenced_widgets": [
            "0038b84865914c76abbd95660b73a28f",
            "0f61595723484370842dc7655af2db6e",
            "e2a766af0cbe418db944db262a53702e",
            "a77690260d904290bbb25a1755ff7029",
            "ea8f3a413fe14459ba21f08bd41ae186",
            "611e01e693e04cca9a3ac2788f719ace",
            "e9d02c2d61004d94a9da77376ed3e5c8",
            "c0f0ae42d9cd4825b2e601e394c078d3"
          ]
        }
      },
      "source": [
        "df[[\"er_wspace\",\"er_untr\",\"er_uncat\",\"er_typ\",\"er_term\",\"er_style\",\"er_reg\",\"er_pattern\",\"er_other\",\"er_omis\",\"er_num\",\"er_noncon\",\"er_mistrans\",\"er_misssp\",\"er_mark\",\"er_locvio\",\"er_locspec\",\"er_len\",\"er_leg\",\"er_intern\",\"er_intit\",\"er_inste\",\"er_gram\",\"er_dup\",\"er_wspace\",\"er_chars\",\"er_add\"]] = 0\n",
        "for index in tqdm(df.index):\n",
        "  text = df.at[index, \"Text File\"]\n",
        "  matches = tool.check(text)\n",
        "  df.at[index, \"er_total\"] = len(matches) \n",
        "  i = 0\n",
        "  for match in matches:\n",
        "    error = matches[i]\n",
        "    i += 1\n",
        "    if error.ruleIssueType == \"whitespace\":\n",
        "     df.at[index, \"er_wspace\"] += 1\n",
        "    if error.ruleIssueType == \"untranslated\":\n",
        "     df.at[index, \"er_untr\"] += 1\n",
        "    if error.ruleIssueType == \"uncategorized\":\n",
        "     df.at[index, \"er_uncat\"] += 1\n",
        "    if error.ruleIssueType == \"typographical\":\n",
        "     df.at[index, \"er_typ\"] += 1\n",
        "    if error.ruleIssueType == \"terminology\":\n",
        "     df.at[index, \"er_term\"] += 1\n",
        "    if error.ruleIssueType == \"style\":\n",
        "     df.at[index, \"er_style\"] += 1\n",
        "    if error.ruleIssueType == \"register\":\n",
        "     df.at[index, \"er_reg\"] += 1\n",
        "    if error.ruleIssueType == \"patternproblem\":\n",
        "     df.at[index, \"er_pattern\"] += 1\n",
        "    if error.ruleIssueType == \"other\":\n",
        "     df.at[index, \"er_other\"] += 1\n",
        "    if error.ruleIssueType == \"omission\":\n",
        "     df.at[index, \"er_omis\"] += 1\n",
        "    if error.ruleIssueType == \"numbers\":\n",
        "     df.at[index, \"er_num\"] += 1\n",
        "    if error.ruleIssueType == \"nonconformance\":\n",
        "     df.at[index, \"er_noncon\"] += 1\n",
        "    if error.ruleIssueType == \"mistranslation\":\n",
        "     df.at[index, \"er_mistrans\"] += 1\n",
        "    if error.ruleIssueType == \"misspelling\":\n",
        "     df.at[index, \"er_misssp\"] += 1\n",
        "    if error.ruleIssueType == \"markup\":\n",
        "     df.at[index, \"er_mark\"] += 1\n",
        "    if error.ruleIssueType == \"localeviolation\":\n",
        "     df.at[index, \"er_locvio\"] += 1\n",
        "    if error.ruleIssueType == \"localespecificcontent\":\n",
        "     df.at[index, \"er_locspec\"] += 1\n",
        "    if error.ruleIssueType == \"length\":\n",
        "     df.at[index, \"er_len\"] += 1\n",
        "    if error.ruleIssueType == \"legal\":\n",
        "     df.at[index, \"er_leg\"] += 1\n",
        "    if error.ruleIssueType == \"internationalization\":\n",
        "     df.at[index, \"er_intern\"] += 1\n",
        "    if error.ruleIssueType == \"inconsistententities\":\n",
        "     df.at[index, \"er_intit\"] += 1\n",
        "    if error.ruleIssueType == \"inconsistency\":\n",
        "     df.at[index, \"er_inste\"] += 1\n",
        "    if error.ruleIssueType == \"grammar\":\n",
        "     df.at[index, \"er_gram\"] += 1\n",
        "    if error.ruleIssueType == \"duplication\":\n",
        "     df.at[index, \"er_dup\"] += 1\n",
        "    if error.ruleIssueType == \"whitespace\":\n",
        "     df.at[index, \"er_wspace\"] += 1\n",
        "    if error.ruleIssueType == \"characters\":\n",
        "     df.at[index, \"er_chars\"] += 1\n",
        "    if error.ruleIssueType == \"addition\":\n",
        "     df.at[index, \"er_add\"] += 1\n",
        "    \n",
        "    \n",
        "print(df[[\"er_wspace\",\"er_untr\",\"er_uncat\",\"er_typ\",\"er_term\",\"er_style\",\"er_reg\",\"er_pattern\",\"er_other\",\"er_omis\",\"er_num\",\"er_noncon\",\"er_mistrans\",\"er_misssp\",\"er_mark\",\"er_locvio\",\"er_locspec\",\"er_len\",\"er_leg\",\"er_intern\",\"er_intit\",\"er_inste\",\"er_gram\",\"er_dup\",\"er_wspace\",\"er_chars\",\"er_add\"]])"
      ],
      "execution_count": 10,
      "outputs": [
        {
          "output_type": "display_data",
          "data": {
            "application/vnd.jupyter.widget-view+json": {
              "model_id": "0038b84865914c76abbd95660b73a28f",
              "version_minor": 0,
              "version_major": 2
            },
            "text/plain": [
              "HBox(children=(FloatProgress(value=0.0, max=8.0), HTML(value='')))"
            ]
          },
          "metadata": {
            "tags": []
          }
        },
        {
          "output_type": "stream",
          "text": [
            "\n",
            "   er_wspace  er_untr  er_uncat  er_typ  ...  er_dup  er_wspace  er_chars  er_add\n",
            "0          4        0         6       1  ...       0          4         0       0\n",
            "1          2        0         1       0  ...       0          2         0       0\n",
            "2          0        0         5       1  ...       0          0         0       0\n",
            "3          6        0         2       0  ...       1          6         0       0\n",
            "4         10        0        22       0  ...       0         10         0       0\n",
            "5          0        0         3       0  ...       0          0         0       0\n",
            "6          6        0         1       1  ...       0          6         0       0\n",
            "7          6        0         5       0  ...       0          6         0       0\n",
            "\n",
            "[8 rows x 27 columns]\n"
          ],
          "name": "stdout"
        }
      ]
    },
    {
      "cell_type": "code",
      "metadata": {
        "id": "27iy6dH8sP8y",
        "outputId": "37ef1831-7aef-42c3-fe7f-b9cdb72a96fe",
        "colab": {
          "base_uri": "https://localhost:8080/"
        }
      },
      "source": [
        "text = df.at[0, \"Text File\"]\n",
        "matches = tool.check(text)\n",
        "l = []\n",
        "i = 0\n",
        "for match in matches:\n",
        "  error = matches[i]\n",
        "  l.append([error.ruleIssueType, error.message, error.matchedText, error.category])\n",
        "  i += 1\n",
        "\n",
        "print(l)"
      ],
      "execution_count": 11,
      "outputs": [
        {
          "output_type": "stream",
          "text": [
            "[['typographical', 'Dieser Satz fängt nicht mit einem großgeschriebenen Wort an.', 'sehr', 'CASING'], ['misspelling', 'Möglicher Tippfehler gefunden.', 'gefruet', 'TYPOS'], ['misspelling', 'Möglicher Tippfehler gefunden.', 'diser', 'TYPOS'], ['uncategorized', 'Hier sollte ein Komma eingefügt werden, wenn es sich bei dem hinteren Satzteil um einen Nebensatz handelt.', 'glaube es ist', 'HILFESTELLUNG_KOMMASETZUNG'], ['uncategorized', 'Möglicherweise fehlende grammatische Übereinstimmung des Genus (männlich, weiblich, sächlich - Beispiel: ‚der Fahrrad‘ statt ‚das Fahrrad‘).', 'ein Richtung', 'GRAMMAR'], ['uncategorized', 'Hier sollte ein Komma eingefügt werden, wenn es sich bei dem hinteren Satzteil um einen Nebensatz handelt.', 'Bildet machen könnte', 'HILFESTELLUNG_KOMMASETZUNG'], ['whitespace', 'Vor dem Punkt sollte kein Leerzeichen stehen', ' .', 'TYPOGRAPHY'], ['misspelling', 'Möglicher Tippfehler gefunden.', 'ProsPeckte', 'TYPOS'], ['register', 'Die Verwendung von ‚brauchen + Infinitiv‘ (ohne ‚zu‘) ist umgangssprachlich. Standardsprachlich sollte ein erweiterter Infinitiv mit ‚zu‘ verwendet werden.', 'geben', 'COLLOQUIALISMS'], ['misspelling', 'Möglicher Tippfehler gefunden.', 'Science', 'TYPOS'], ['uncategorized', 'Außer am Satzanfang werden nur Nomen und Eigennamen großgeschrieben.', 'Jetzt', 'CASING'], ['misspelling', 'Möglicher Tippfehler gefunden.', 'Telekaffe', 'TYPOS'], ['uncategorized', 'Ein mit der Subjunktion ‚wenn‘ eingeleiteter Nebensatz wird in der Regel mit (mindestens) einem Komma vom Hauptsatz abgetrennt.', 'Ihre Anzeige ist für mich ein Gottest Geseck wenn', 'PUNCTUATION'], ['misspelling', 'Möglicher Tippfehler gefunden.', 'riserviren', 'TYPOS'], ['whitespace', 'Fügen Sie zwischen Sätzen ein Leerzeichen ein', 'Ich', 'MISC'], ['misspelling', 'Möglicher Tippfehler gefunden.', 'Prowoche', 'TYPOS'], ['uncategorized', 'Ein mit der Subjunktion ‚wenn‘ eingeleiteter Nebensatz wird in der Regel mit (mindestens) einem Komma vom Hauptsatz abgetrennt.', 'Ich möchte vorher Ihn Dankber wenn', 'PUNCTUATION'], ['misspelling', 'Möglicher Tippfehler gefunden.', 'züruck', 'TYPOS'], ['misspelling', 'Möglicher Tippfehler gefunden.', 'Viellen', 'TYPOS'], ['misspelling', 'Möglicher Tippfehler gefunden.', 'viellen', 'TYPOS'], ['misspelling', 'Möglicher Tippfehler gefunden.', 'MeierAnlage', 'TYPOS']]\n"
          ],
          "name": "stdout"
        }
      ]
    },
    {
      "cell_type": "markdown",
      "metadata": {
        "id": "WAQ4tJHDrYqg"
      },
      "source": [
        "## Oberflächliche Features"
      ]
    },
    {
      "cell_type": "code",
      "metadata": {
        "id": "FI9iCBdWrYqg"
      },
      "source": [
        "# Tool: Taxtacy\n",
        "#https://chartbeat-labs.github.io/textacy/build/html/getting_started/quickstart.html\n",
        "%%capture\n",
        "!pip install textacy\n",
        "!pip install spacy"
      ],
      "execution_count": 12,
      "outputs": []
    },
    {
      "cell_type": "code",
      "metadata": {
        "id": "-NbYOaJ8m-ZP"
      },
      "source": [
        "%%capture\n",
        "!python -m spacy download de_core_news_sm\n",
        "!python -m spacy link de_core_news_sm de"
      ],
      "execution_count": 13,
      "outputs": []
    },
    {
      "cell_type": "code",
      "metadata": {
        "id": "5H-eNqa0umD0",
        "outputId": "349ee36d-5d12-4b0c-c4c8-62175ff87578",
        "colab": {
          "base_uri": "https://localhost:8080/",
          "height": 66,
          "referenced_widgets": [
            "45fd1a3c3a84411a81a0c010fc5b65dc",
            "7c2fd7071df9454e91c660da3bb855ac",
            "d07ffb62b2cd49adb05a9b397bc71faa",
            "33b4c20c3fef495a829186ba46e0bc57",
            "d8532ede595148e9accce287a223e667",
            "189124f3b8d54fa1be9fc4d8d8c90ed9",
            "d0895c2bcba540e1a928fd0f837d4902",
            "668b4e0959974299837b7cdb97911e45"
          ]
        }
      },
      "source": [
        "import spacy\n",
        "import textacy\n",
        "import string \n",
        "from spacy.lang.de import German\n",
        "\n",
        "de = spacy.load('de')  \n",
        "#de = textacy.load_spacy_lang(\"de_core_news_sm\")\n",
        "#de = de_core_news_sm.load()\n",
        "\n",
        "#basic counts\n",
        "for index in tqdm(df.index):\n",
        "  doc = textacy.make_spacy_doc(df.at[index, \"cor_text\"], lang=de)\n",
        "  ts = textacy.text_stats.TextStats(doc)\n",
        "  df.at[index, \"sents_count\"] = ts.n_sents\n",
        "  df.at[index, \"word_count\"] = ts.n_words\n",
        "  df.at[index, \"char_count\"] = ts.n_chars\n",
        "  df.at[index, \"avr_sents_leng\"] = df[\"word_count\"][index] / df[\"sents_count\"][index]\n",
        "  df.at[index, \"avr_char_p_word\"] = df[\"char_count\"][index] / df[\"word_count\"][index]\n",
        "  df.at[index, \"avr_syllables_p_word\"] =  ts.n_syllables / df[\"word_count\"][index]"
      ],
      "execution_count": 14,
      "outputs": [
        {
          "output_type": "display_data",
          "data": {
            "application/vnd.jupyter.widget-view+json": {
              "model_id": "45fd1a3c3a84411a81a0c010fc5b65dc",
              "version_minor": 0,
              "version_major": 2
            },
            "text/plain": [
              "HBox(children=(FloatProgress(value=0.0, max=8.0), HTML(value='')))"
            ]
          },
          "metadata": {
            "tags": []
          }
        },
        {
          "output_type": "stream",
          "text": [
            "\n"
          ],
          "name": "stdout"
        }
      ]
    },
    {
      "cell_type": "markdown",
      "metadata": {
        "id": "s9rbwd79ug8y"
      },
      "source": [
        "## Syntaktische Features"
      ]
    },
    {
      "cell_type": "code",
      "metadata": {
        "id": "HdL_BEKtg3m9"
      },
      "source": [
        "%%capture\n",
        "!pip install Stanza\n",
        "import stanza\n",
        "stanza.install_corenlp(dir=\"/content/corenlp\")\n",
        "import os\n",
        "os.environ[\"CORENLP_HOME\"] = \"./corenlp\"\n",
        "stanza.download_corenlp_models(model='german', version='4.1.0', dir=\"/content/corenlp\")"
      ],
      "execution_count": 15,
      "outputs": []
    },
    {
      "cell_type": "code",
      "metadata": {
        "id": "SOoGpWIEg3qM"
      },
      "source": [
        "from stanza.server import CoreNLPClient"
      ],
      "execution_count": 16,
      "outputs": []
    },
    {
      "cell_type": "code",
      "metadata": {
        "id": "mbeo-FcQg3zZ"
      },
      "source": [
        "client = CoreNLPClient(properties='german',\n",
        "                   annotators='tokenize,ssplit,mwt,pos,parse',\n",
        "                   timeout=300000,\n",
        "                   output_format='text', \n",
        "                   be_quiet=True, \n",
        "                   endpoint='http://localhost:9001',\n",
        "                   memory='8G')\n"
      ],
      "execution_count": 17,
      "outputs": []
    },
    {
      "cell_type": "code",
      "metadata": {
        "id": "nhlD2g8Zg38A"
      },
      "source": [
        "client.start()\n",
        "import time; time.sleep(10)"
      ],
      "execution_count": 18,
      "outputs": []
    },
    {
      "cell_type": "code",
      "metadata": {
        "id": "Ufc42PAWhN9B"
      },
      "source": [
        "def match_pattern(_pattern, _text):\n",
        "  matches = client.tregex(_text,_pattern)\n",
        "  l = matches['sentences']\n",
        "  for sentence in matches['sentences']:\n",
        "    for match_id in sentence:\n",
        "      print(sentence[match_id]['spanString'])\n",
        "\n",
        "def count_matches(_pattern, _text):\n",
        "  matches = client.tregex(_text,_pattern)\n",
        "  l = matches['sentences']\n",
        "  count_units = 0\n",
        "  for sentence in matches['sentences']:\n",
        "    for match_id in sentence:\n",
        "      count_units = count_units + 1\n",
        "  return(count_units)\n",
        "\n",
        "def len_sum_matches(_pattern, _text):\n",
        "  matches = client.tregex(_text,_pattern)\n",
        "  l = matches['sentences']\n",
        "  match_list = []\n",
        "  for sentence in matches['sentences']:\n",
        "    for match_id in sentence:\n",
        "      match_list.append(sentence[match_id]['spanString'])\n",
        "  len_sum = 0\n",
        "  for item in match_list:\n",
        "    doc = textacy.make_spacy_doc(item, lang=de)\n",
        "    ts = textacy.text_stats.TextStats(doc)\n",
        "    len_sum = len_sum + ts.n_words\n",
        "  return(len_sum)"
      ],
      "execution_count": 19,
      "outputs": []
    },
    {
      "cell_type": "code",
      "metadata": {
        "id": "MSjdl9eFhOPw",
        "outputId": "f4888b06-ece8-415d-cdbd-54134ced329a",
        "colab": {
          "base_uri": "https://localhost:8080/",
          "height": 66,
          "referenced_widgets": [
            "604e9be13e284cd69523e5f7af17845e",
            "7e50b63fb2ab4ce6afd445fbe12f17a3",
            "e7eb58f8ab3a4cd6b880cb51ece89238",
            "407b4dc070434d1ab1f5a489f5d35435",
            "45c30ffc096c46baa87eda3c334ed04e",
            "5a0f751f56d747169d562f795aacd586",
            "acb029e3de3b46aa9f006c19acedc9df",
            "00eb86e705e147e0892b8e6bcc762f68"
          ]
        }
      },
      "source": [
        "for index in tqdm(df.index):\n",
        "  text = df.at[index, \"cor_text\"]\n",
        "  ann = client.annotate(text)\n",
        "\n",
        "################T-Units#####################\n",
        "  pattern = \"(S > NUR) | (S >> CS >> NUR)\"\n",
        "  df.at[index, \"TUnit\"] = count_matches(pattern, text)\n",
        "\n",
        "################Dep. Clause#####################\n",
        "  pattern = \"S >> (S > (CS > NUR > ROOT) | > (NUR > ROOT))\"\n",
        "  df.at[index, \"dep_clause\"] = count_matches(pattern, text)\n",
        "\n",
        "################Dep. Clause with conjunction#####################\n",
        "  pattern = \"S < SCONJ\"\n",
        "  df.at[index, \"dep_clause_w_conj\"] = count_matches(pattern, text)\n",
        "################non-Terminals#####################\n",
        "  pattern = \"VZ\"\n",
        "  df.at[index, \"non_term\"] = count_matches(pattern, text)\n",
        "\n",
        "################zu-marked infinitive#####################\n",
        "  pattern = \"AA | AP | AVP | CAC | CAP | CAVP | CCP | CH | CNP | CO | CPP | CS | CVP | CVZ | DL | ISU | MPN | MTA | NM | NP | PP | QL | S | VP | VZ\"\n",
        "  df.at[index, \"vz\"] = count_matches(pattern, text)\n",
        "\n",
        "################Avg. length of VP#####################\n",
        "  pattern = \"VP\"\n",
        "  df.at[index, \"vp_count\"] = count_matches(pattern, text)\n",
        "  df.at[index, \"vp_sum_len\"] = len_sum_matches(pattern, text)\n",
        "\n",
        "  ################Coordinate Phrases#####################\n",
        "  pattern = \"CAC|CAVP|CNP|CVP\"\n",
        "  df.at[index, \"cp_count\"] = count_matches(pattern, text)\n",
        "\n"
      ],
      "execution_count": 20,
      "outputs": [
        {
          "output_type": "display_data",
          "data": {
            "application/vnd.jupyter.widget-view+json": {
              "model_id": "604e9be13e284cd69523e5f7af17845e",
              "version_minor": 0,
              "version_major": 2
            },
            "text/plain": [
              "HBox(children=(FloatProgress(value=0.0, max=8.0), HTML(value='')))"
            ]
          },
          "metadata": {
            "tags": []
          }
        },
        {
          "output_type": "stream",
          "text": [
            "\n"
          ],
          "name": "stdout"
        }
      ]
    },
    {
      "cell_type": "code",
      "metadata": {
        "id": "mPF6HIIbUF9s",
        "outputId": "aec226b5-0017-4cc1-806c-721450349887",
        "colab": {
          "base_uri": "https://localhost:8080/"
        }
      },
      "source": [
        "df[\"len_TUnit\"] = df[\"TUnit\"] / df[\"word_count\"]\n",
        "df[\"len_dep_clause\"] = df[\"dep_clause\"] / df[\"word_count\"]\n",
        "df[\"dep_clause_w_conj_to_dep_clause\"] = df[\"dep_clause_w_conj\"] / df[\"dep_clause\"]\n",
        "df[\"non_term_to_words\"] = df[\"non_term\"] / df[\"word_count\"]\n",
        "df[\"vz_to_sents\"] = df[\"vz\"] / df[\"sents_count\"]\n",
        "df[\"len_vp_to_vp\"] = df[\"vp_sum_len\"] / df[\"vp_count\"]\n",
        "df[\"cp_to_sent\"] = df[\"cp_count\"] / df[\"sents_count\"]\n",
        "print(\"--------DONE---------\")"
      ],
      "execution_count": 21,
      "outputs": [
        {
          "output_type": "stream",
          "text": [
            "--------DONE---------\n"
          ],
          "name": "stdout"
        }
      ]
    },
    {
      "cell_type": "code",
      "metadata": {
        "id": "nPxMaoad7IVP",
        "outputId": "77a63e5d-c6c2-439e-b1ff-b064b9b7e31e",
        "colab": {
          "base_uri": "https://localhost:8080/"
        }
      },
      "source": [
        "print(df[[\"len_vp_to_vp\", \"vp_sum_len\", \"vp_count\"]])\n",
        "print(df[\"cp_to_sent\"])"
      ],
      "execution_count": 22,
      "outputs": [
        {
          "output_type": "stream",
          "text": [
            "   len_vp_to_vp  vp_sum_len  vp_count\n",
            "0      3.571429        25.0       7.0\n",
            "1      5.000000        25.0       5.0\n",
            "2      5.142857        36.0       7.0\n",
            "3      6.800000       136.0      20.0\n",
            "4      4.700000        47.0      10.0\n",
            "5      4.000000        12.0       3.0\n",
            "6           NaN         0.0       0.0\n",
            "7      5.200000        26.0       5.0\n",
            "0    0.214286\n",
            "1    0.153846\n",
            "2    0.200000\n",
            "3    0.071429\n",
            "4    0.260870\n",
            "5    0.000000\n",
            "6    0.000000\n",
            "7    0.090909\n",
            "Name: cp_to_sent, dtype: float64\n"
          ],
          "name": "stdout"
        }
      ]
    },
    {
      "cell_type": "code",
      "metadata": {
        "id": "UVclUisAhRUL",
        "outputId": "fab30ea5-669e-4456-e7b0-d8594d0d604c",
        "colab": {
          "base_uri": "https://localhost:8080/"
        }
      },
      "source": [
        "client.stop()\n",
        "\n",
        "time.sleep(10)\n",
        "!ps -o pid,cmd | grep java"
      ],
      "execution_count": 23,
      "outputs": [
        {
          "output_type": "stream",
          "text": [
            "   1310 /usr/bin/java -cp /root/.cache/language_tool_python/LanguageTool-5.1/languagetool-server.jar org.languagetool.server.HTTPServer -p 8081\n",
            "   1411 /usr/bin/java -cp /root/.cache/language_tool_python/LanguageTool-5.1/languagetool-server.jar org.languagetool.server.HTTPServer -p 8082\n",
            "   1588 /bin/bash -c ps -o pid,cmd | grep java\n",
            "   1590 grep java\n"
          ],
          "name": "stdout"
        }
      ]
    },
    {
      "cell_type": "markdown",
      "metadata": {
        "id": "kj6XHpFW8fgy"
      },
      "source": [
        "##Type/Token Ratios"
      ]
    },
    {
      "cell_type": "code",
      "metadata": {
        "id": "S670UZvJoV5T"
      },
      "source": [
        "%%capture\n",
        "!pip install spacy\n",
        "!pip install textacy\n",
        "!python -m spacy download de"
      ],
      "execution_count": 24,
      "outputs": []
    },
    {
      "cell_type": "code",
      "metadata": {
        "id": "FWx08DXnAZym"
      },
      "source": [
        "import spacy\n",
        "import textacy\n",
        "from spacy.tokenizer import Tokenizer\n",
        "from spacy.lang.de import German\n",
        "from textacy import preprocessing\n",
        "nlp = German()"
      ],
      "execution_count": 25,
      "outputs": []
    },
    {
      "cell_type": "code",
      "metadata": {
        "id": "qsn7VFaI0Vq1"
      },
      "source": [
        "import math\n",
        "from collections import Counter\n",
        "#punctuation = \"`` '' ' . , ? ! ) ( % / - _ -LRB- -RRB- SYM : ;\".split(\" \")\n",
        "def safe_divide(numerator, denominator):\n",
        "\tif denominator == 0 or denominator == 0.0:\n",
        "\t\tindex = 0\n",
        "\telse: index = numerator/denominator\n",
        "\treturn index\n",
        "\n",
        "def ttr(text):\n",
        "\tntokens = len(text)\n",
        "\tntypes = len(set(text))\n",
        "\t\n",
        "\treturn safe_divide(ntypes,ntokens)\n",
        "\n",
        "def root_ttr(text):\n",
        "\tntokens = len(text)\n",
        "\tntypes = len(set(text))\n",
        "\t\n",
        "\treturn safe_divide(ntypes, math.sqrt(2*ntokens))\n",
        "\n",
        "def cor_ttr(text):\n",
        "\tntokens = len(text)\n",
        "\tntypes = len(set(text))\n",
        "\t\n",
        "\treturn safe_divide(ntypes, math.sqrt(2 * ntokens))\n",
        "\n",
        "def hdd(text):\n",
        "\t#requires Counter import\n",
        "\tdef choose(n, k): #calculate binomial\n",
        "\t\t\"\"\"\n",
        "\t\tA fast way to calculate binomial coefficients by Andrew Dalke (contrib).\n",
        "\t\t\"\"\"\n",
        "\t\tif 0 <= k <= n:\n",
        "\t\t\tntok = 1\n",
        "\t\t\tktok = 1\n",
        "\t\t\tfor t in range(1, min(k, n - k) + 1): #this was changed to \"range\" from \"xrange\" for py3\n",
        "\t\t\t\tntok *= n\n",
        "\t\t\t\tktok *= t\n",
        "\t\t\t\tn -= 1\n",
        "\t\t\treturn ntok // ktok\n",
        "\t\telse:\n",
        "\t\t\treturn 0\n",
        "\n",
        "\tdef hyper(successes, sample_size, population_size, freq): #calculate hypergeometric distribution\n",
        "\t\t#probability a word will occur at least once in a sample of a particular size\n",
        "\t\ttry:\n",
        "\t\t\tprob_1 = 1.0 - (float((choose(freq, successes) * choose((population_size - freq),(sample_size - successes)))) / float(choose(population_size, sample_size)))\n",
        "\t\t\tprob_1 = prob_1 * (1/sample_size)\n",
        "\t\texcept ZeroDivisionError:\n",
        "\t\t\tprob_1 = 0\n",
        "\t\t\t\n",
        "\t\treturn prob_1\n",
        "\n",
        "\tprob_sum = 0.0\n",
        "\tntokens = len(text)\n",
        "\ttypes_list = list(set(text))\n",
        "\tfrequency_dict = Counter(text)\n",
        "\n",
        "\tfor items in types_list:\n",
        "\t\tprob = hyper(0,42,ntokens,frequency_dict[items]) #random sample is 42 items in length\n",
        "\t\tprob_sum += prob\n",
        "\n",
        "\treturn prob_sum \n",
        "\n",
        "\n",
        "def mtld(input, min = 10): #original MTLD described in Jarvis & McCarthy \n",
        "\tdef mtlder(text):\n",
        "\t\tfactor = 0\n",
        "\t\tfactor_lengths = 0\n",
        "\t\tstart = 0\n",
        "\t\tfor x in range(len(text)):\n",
        "\t\t\tfactor_text = text[start:x+1]\n",
        "\t\t\tif x+1 == len(text):\n",
        "\t\t\t\tfactor += safe_divide((1 - ttr(factor_text)),(1 - .72))\n",
        "\t\t\t\tfactor_lengths += len(factor_text)\n",
        "\t\t\telse:\n",
        "\t\t\t\tif ttr(factor_text) < .720 and len(factor_text) >= min:\n",
        "\t\t\t\t\tfactor += 1\n",
        "\t\t\t\t\tfactor_lengths += len(factor_text)\n",
        "\t\t\t\t\tstart = x+1\n",
        "\t\t\t\telse:\n",
        "\t\t\t\t\tcontinue\n",
        "\n",
        "\t\tmtld = safe_divide(factor_lengths,factor)\n",
        "\t\treturn mtld\n",
        "\tinput_reversed = list(reversed(input))\n",
        "\tmtld_full = safe_divide((mtlder(input)+mtlder(input_reversed)),2)\n",
        "\treturn mtld_full"
      ],
      "execution_count": 26,
      "outputs": []
    },
    {
      "cell_type": "code",
      "metadata": {
        "id": "_ymb-NcfgTrT",
        "outputId": "c99f51df-e865-4087-f95a-3c442ec7ec5d",
        "colab": {
          "base_uri": "https://localhost:8080/",
          "height": 226,
          "referenced_widgets": [
            "0e788dfcc64249fbab5911ffa7a3717d",
            "75891127259b4af0aaae20cbda129323",
            "1890a2fb2db84abeaa4eb413a629d487",
            "972c4a3c415045aea1a8fe0ecbcaf987",
            "6f0da1601ba94534b3699328da17fc86",
            "ff3db50db20c4fb1a67d866f6a542a91",
            "ba56695fa92941869cfc05c36f2c1b38",
            "a0f7e4c6c37c44eb83431c170f192c4d"
          ]
        }
      },
      "source": [
        "for index in tqdm(df.index):\n",
        "  text = df.at[index, \"cor_text\"]\n",
        "  text = textacy.preprocessing.remove.remove_punctuation(text)\n",
        "  text = textacy.preprocessing.normalize.normalize_whitespace(text)\n",
        "  text = textacy.preprocessing.replace.replace_numbers(text)\n",
        "  text = nlp(text)\n",
        "  tokenList = []\n",
        "  for word in text:\n",
        "    token = word.lemma_\n",
        "    tokenList.append(token)\n",
        "  df.at[index, \"ttr\"] = ttr(tokenList)\n",
        "  df.at[index, \"root_ttr\"] = root_ttr(tokenList)\n",
        "  df.at[index, \"cor_ttr\"] = cor_ttr(tokenList)\n",
        "  df.at[index, \"hdd\"] = hdd(tokenList)\n",
        "  df.at[index, \"mtld\"] = mtld(tokenList)\n",
        "\n",
        "print(df[[\"ttr\", \"root_ttr\", \"cor_ttr\", \"hdd\", \"mtld\"]])\n",
        "  \n",
        "  "
      ],
      "execution_count": 27,
      "outputs": [
        {
          "output_type": "display_data",
          "data": {
            "application/vnd.jupyter.widget-view+json": {
              "model_id": "0e788dfcc64249fbab5911ffa7a3717d",
              "version_minor": 0,
              "version_major": 2
            },
            "text/plain": [
              "HBox(children=(FloatProgress(value=0.0, max=8.0), HTML(value='')))"
            ]
          },
          "metadata": {
            "tags": []
          }
        },
        {
          "output_type": "stream",
          "text": [
            "\n",
            "        ttr  root_ttr   cor_ttr       hdd        mtld\n",
            "0  0.692308  5.853993  5.853993  0.861070  100.521158\n",
            "1  0.756098  5.929463  5.929463  0.884785  141.204000\n",
            "2  0.764228  5.993221  5.993221  0.872324  146.073103\n",
            "3  0.629464  6.661624  6.661624  0.862410  122.013867\n",
            "4  0.492711  6.452450  6.452450  0.845651   75.540512\n",
            "5  0.771930  4.120978  4.120978  0.821603   69.978462\n",
            "6  0.928571  4.255249  4.255249  0.928571  164.640000\n",
            "7  0.700000  5.191339  5.191339  0.813276   78.659218\n"
          ],
          "name": "stdout"
        }
      ]
    },
    {
      "cell_type": "markdown",
      "metadata": {
        "id": "24TDzfyg1vhz"
      },
      "source": [
        "##Lexical variation features\n"
      ]
    },
    {
      "cell_type": "code",
      "metadata": {
        "id": "EapC4yzs3f37"
      },
      "source": [
        "%%capture\n",
        "!python -m spacy download de_core_news_sm\n",
        "!python -m spacy link de_core_news_sm de\n",
        "import spacy\n",
        "from spacy.lang.de import German"
      ],
      "execution_count": 28,
      "outputs": []
    },
    {
      "cell_type": "code",
      "metadata": {
        "id": "xc-fzOWS1xwZ",
        "outputId": "f702959d-e9dc-4e0c-d620-0fcf3c86f7e8",
        "colab": {
          "base_uri": "https://localhost:8080/",
          "height": 226,
          "referenced_widgets": [
            "5415069d85464d1284c2caf6b18a3bec",
            "a955d9bf83ec4cfaa8f944121ac55bab",
            "5e06228f006342b083b09e79295cce1c",
            "8cb82c4761c2494aa6ae2befd81aeb11",
            "23827d78ebd94e83a7cc7a3701850b8f",
            "f6184922698c4d4298e8d305a15d4d60",
            "a32b0d8728b54801b4511164538bde99",
            "926a875425e84069aeabe98c42f1dde1"
          ]
        }
      },
      "source": [
        "nlp = spacy.load(\"de\")\n",
        "for index in tqdm(df.index):\n",
        "  text = df.at[index, \"cor_text\"]\n",
        "  doc = nlp(text)\n",
        "  verbs = []\n",
        "  nouns = []\n",
        "  for token in doc:\n",
        "    if token.pos_ == \"VERB\":\n",
        "      verbs.append(token.lemma_)\n",
        "    if token.pos_ == \"NOUN\":\n",
        "      nouns.append(token.lemma_)\n",
        "  verbs = [x.lower() for x in verbs]\n",
        "\n",
        "  df.at[index, \"verbVariation_square\"] = safe_divide(len(set(verbs))** 2,len(verbs))\n",
        "  df.at[index, \"verbVariation_cor\"] = safe_divide(len(set(verbs)),math.sqrt(2*len(verbs)))\n",
        "  df.at[index, \"nounbVariation\"] = safe_divide(len(set(nouns)),len(nouns))\n",
        "\n",
        "print(df[[\"verbVariation_square\", \"verbVariation_cor\", \"nounbVariation\"]])"
      ],
      "execution_count": 29,
      "outputs": [
        {
          "output_type": "display_data",
          "data": {
            "application/vnd.jupyter.widget-view+json": {
              "model_id": "5415069d85464d1284c2caf6b18a3bec",
              "version_minor": 0,
              "version_major": 2
            },
            "text/plain": [
              "HBox(children=(FloatProgress(value=0.0, max=8.0), HTML(value='')))"
            ]
          },
          "metadata": {
            "tags": []
          }
        },
        {
          "output_type": "stream",
          "text": [
            "\n",
            "   verbVariation_square  verbVariation_cor  nounbVariation\n",
            "0             10.714286           2.314550        0.862069\n",
            "1             14.062500           2.651650        0.956522\n",
            "2             12.800000           2.529822        1.000000\n",
            "3             16.531250           2.875000        0.621622\n",
            "4             14.225806           2.667003        0.606557\n",
            "5              4.166667           1.443376        0.750000\n",
            "6              3.200000           1.264911        1.000000\n",
            "7             13.235294           2.572479        0.846154\n"
          ],
          "name": "stdout"
        }
      ]
    },
    {
      "cell_type": "markdown",
      "metadata": {
        "id": "Q2N-AoJFVR1W"
      },
      "source": [
        "##Morphological Features"
      ]
    },
    {
      "cell_type": "code",
      "metadata": {
        "id": "9pcUFrIp2rWl"
      },
      "source": [
        "%%capture\n",
        "!pip install deeppavlov\n",
        "!python -m deeppavlov install morpho_de\n",
        "import os\n",
        "os.environ[\"KERAS_BACKEND\"] = \"tensorflow\"\n",
        "from deeppavlov import build_model, configs\n",
        "\n",
        "print(\"---------Ready-----------\")"
      ],
      "execution_count": 30,
      "outputs": []
    },
    {
      "cell_type": "code",
      "metadata": {
        "id": "fcnQcYN2_uGU",
        "outputId": "587dfc96-6a67-4eea-cd50-7e2782a0022f",
        "colab": {
          "base_uri": "https://localhost:8080/"
        }
      },
      "source": [
        "import re\n",
        "\n",
        "model = build_model(configs.morpho_tagger.UD2_0.morpho_de, download=True)\n",
        "\n",
        "def parseText(_text):\n",
        "  input = model([_text])\n",
        "  return(input)\n",
        "\n",
        "def get_Nouncases (_text):\n",
        "  #text =[_text]\n",
        "  nounList = []\n",
        "  for parse in text:\n",
        "    parseList = parse.splitlines()\n",
        "    for item in parseList:\n",
        "        if \"NOUN\" in item:\n",
        "          match = []\n",
        "          case = re.search('Case=(.+?)($|\\W)', item)\n",
        "          word = re.search('[0-9]\\t(.+?)\\W', item)\n",
        "          match.append(word.group(1))\n",
        "          if case:\n",
        "            match.append(case.group(1))\n",
        "          else:\n",
        "            match.append(\"-\")\n",
        "          nounList.append(match)\n",
        "  return(nounList)\n",
        "\n",
        "def get_Verbforms (_text):\n",
        "  verbList = []\n",
        "  for parse in text:\n",
        "    parseList = parse.splitlines()\n",
        "    for item in parseList:\n",
        "      if \"VERB\" in item or \"AUX\" in item:\n",
        "          match = []\n",
        "          verbform = re.search('\\WVerbForm=(.+?)($|\\W)', item)\n",
        "          word = re.search('[0-9]\\t(.+?)\\W', item)\n",
        "          match.append(word.group(1))\n",
        "          if verbform:\n",
        "            match.append(verbform.group(1))\n",
        "          else:\n",
        "            match.append(\"-\")\n",
        "          verbList.append(match)        \n",
        "  return(verbList)\n",
        "\n",
        "def get_gram_Person(_text):\n",
        "  verbList = []\n",
        "  for parse in text:\n",
        "    parseList = parse.splitlines()\n",
        "    for item in parseList:\n",
        "      if \"VERB\" in item or \"AUX\" in item:\n",
        "          match = []\n",
        "          verbform = re.search('\\WPerson=(.+?)($|\\W)', item)\n",
        "          word = re.search('[0-9]\\t(.+?)\\W', item)\n",
        "          pos = re.search('([A-Z]{3,4})', item)\n",
        "          match.append(word.group(1))\n",
        "          match.append(pos.group(1))\n",
        "          if verbform:\n",
        "            match.append(verbform.group(1))\n",
        "          else:\n",
        "            match.append(\"-\")\n",
        "          verbList.append(match)\n",
        "  return(verbList)\n",
        "\n",
        "def count_in_list (_list, _whattocount):\n",
        "  count = 0\n",
        "  for item in _list:\n",
        "    if _whattocount in item:\n",
        "      count += 1\n",
        "  return(count)\n",
        "\n"
      ],
      "execution_count": 31,
      "outputs": [
        {
          "output_type": "stream",
          "text": [
            "[nltk_data] Downloading package punkt to /root/nltk_data...\n",
            "[nltk_data]   Package punkt is already up-to-date!\n",
            "[nltk_data] Downloading package stopwords to /root/nltk_data...\n",
            "[nltk_data]   Package stopwords is already up-to-date!\n",
            "[nltk_data] Downloading package perluniprops to /root/nltk_data...\n",
            "[nltk_data]   Package perluniprops is already up-to-date!\n",
            "[nltk_data] Downloading package nonbreaking_prefixes to\n",
            "[nltk_data]     /root/nltk_data...\n",
            "[nltk_data]   Package nonbreaking_prefixes is already up-to-date!\n"
          ],
          "name": "stderr"
        }
      ]
    },
    {
      "cell_type": "code",
      "metadata": {
        "id": "oRRmD63u-5tp",
        "outputId": "79fca3f9-f1dd-4047-fc44-2d99c631acbc",
        "colab": {
          "base_uri": "https://localhost:8080/",
          "height": 226,
          "referenced_widgets": [
            "f7bad59f073a4e33abbf96010e994b67",
            "65479e0cdc8f479b8dc5130a0fb86e1c",
            "7e51419cf1644e909156e15615043e29",
            "e0bb1d5d660645459e56420887091048",
            "2528ff0b67c84291a07ac8725d51fb71",
            "69bedca068dc4215abeddfda9d6b1689",
            "cad708cafb2848debd753f586e78dc85",
            "5b9a4529146f4f7ba6bc1e35dbdfaee4"
          ]
        }
      },
      "source": [
        "for index in tqdm(df.index):\n",
        "  text = parseText(df.at[index, \"cor_text\"])\n",
        "  Nouncases = get_Nouncases(text)\n",
        "  countNoun = len(Nouncases)\n",
        "  df.at[index, \"genNounRatio\"] = safe_divide(count_in_list(Nouncases, \"Gen\"),countNoun)\n",
        "  df.at[index, \"nomNounRatio\"] = safe_divide(count_in_list(Nouncases, \"Nom\"),countNoun)\n",
        "\n",
        "  VerbPerson = get_gram_Person(text)\n",
        "  countVerb = len(VerbPerson)\n",
        "  df.at[index, \"Verb2PersonRatio\"] = safe_divide(count_in_list(VerbPerson, \"2\"),countNoun)\n",
        "  df.at[index, \"Verb3PersonRatio\"] = safe_divide(count_in_list(VerbPerson, \"3\"),countNoun)\n",
        "\n",
        "print(df[[\"genNounRatio\", \"nomNounRatio\", \"Verb2PersonRatio\", \"Verb3PersonRatio\"]])\n"
      ],
      "execution_count": 32,
      "outputs": [
        {
          "output_type": "display_data",
          "data": {
            "application/vnd.jupyter.widget-view+json": {
              "model_id": "f7bad59f073a4e33abbf96010e994b67",
              "version_minor": 0,
              "version_major": 2
            },
            "text/plain": [
              "HBox(children=(FloatProgress(value=0.0, max=8.0), HTML(value='')))"
            ]
          },
          "metadata": {
            "tags": []
          }
        },
        {
          "output_type": "stream",
          "text": [
            "\n",
            "   genNounRatio  nomNounRatio  Verb2PersonRatio  Verb3PersonRatio\n",
            "0      0.000000      0.080000          0.000000          0.320000\n",
            "1      0.000000      0.000000          0.000000          0.409091\n",
            "2      0.000000      0.000000          0.000000          0.600000\n",
            "3      0.031250      0.156250          0.000000          0.750000\n",
            "4      0.038462      0.038462          0.000000          0.653846\n",
            "5      0.000000      0.000000          0.000000          0.100000\n",
            "6      0.000000      0.000000          0.000000          0.500000\n",
            "7      0.076923      0.076923          0.076923          0.538462\n"
          ],
          "name": "stdout"
        }
      ]
    },
    {
      "cell_type": "code",
      "metadata": {
        "id": "dSLUjKbk9I0f",
        "outputId": "9f9be4cd-9bde-43bf-80bb-36d96b5282c5",
        "colab": {
          "base_uri": "https://localhost:8080/"
        }
      },
      "source": [
        "print(model([df.at[0, \"cor_text\"]]))\n"
      ],
      "execution_count": 33,
      "outputs": [
        {
          "output_type": "stream",
          "text": [
            "['1\\tSehr\\tADV\\t_\\n2\\tgefreut\\tADJ\\tDegree=Pos\\n3\\tauf\\tADP\\t_\\n4\\tdieser\\tPRON\\tCase=Dat|Gender=Fem|Number=Sing|PronType=Dem\\n5\\tPlatz\\tNOUN\\tCase=Dat|Gender=Fem|Number=Sing\\n6\\t.\\tPUNCT\\t_\\n7\\tDeshalb\\tADV\\t_\\n8\\tmöchte\\tAUX\\tMood=Sub|Number=Sing|Person=1|Tense=Past|VerbForm=Fin\\n9\\tich\\tPRON\\tCase=Nom|Number=Sing|Person=1|PronType=Prs\\n10\\tmich\\tPRON\\tCase=Acc|Number=Sing|Person=1|PronType=Prs|Reflex=Yes\\n11\\tbewarben\\tVERB\\tVerbForm=Inf\\n12\\t.\\tPUNCT\\t_\\n13\\tIch\\tPRON\\tCase=Nom|Number=Sing|Person=1|PronType=Prs\\n14\\tglaube\\tVERB\\tNumber=Sing|Person=1|VerbForm=Fin\\n15\\t,\\tPUNCT\\t_\\n16\\tes\\tPRON\\tCase=Nom|Gender=Neut|Number=Sing|Person=3|PronType=Prs\\n17\\tist\\tVERB\\tMood=Ind|Number=Sing|Person=3|Tense=Pres|VerbForm=Fin\\n18\\teine\\tDET\\tDefinite=Ind|PronType=Art\\n19\\tRichtung\\tNOUN\\t_\\n20\\two\\tADV\\t_\\n21\\tich\\tPRON\\tCase=Nom|Number=Sing|Person=1|PronType=Prs\\n22\\tmich\\tPRON\\tCase=Acc|Number=Sing|Person=1|PronType=Prs|Reflex=Yes\\n23\\tbesser\\tADJ\\tDegree=Cmp\\n24\\tBildet\\tNOUN\\t_\\n25\\tmachen\\tVERB\\tVerbForm=Inf\\n26\\tkönnte\\tAUX\\tMood=Sub|Number=Sing|Person=3|Tense=Past|VerbForm=Fin\\n27\\t.\\tPUNCT\\t_\\n28\\tIch\\tPRON\\tCase=Nom|Number=Sing|Person=1|PronType=Prs\\n29\\thabe\\tAUX\\tMood=Ind|Number=Sing|Person=1|Tense=Pres|VerbForm=Fin\\n30\\tauch\\tADV\\t_\\n31\\tIhre\\tPRON\\tCase=Acc|Gender=Fem|Number=Sing|Person=2,3|Poss=Yes|PronType=Prs\\n32\\tAnzeige\\tNOUN\\tCase=Acc|Number=Plur\\n33\\tgelesen\\tVERB\\tVerbForm=Part\\n34\\t.\\tPUNCT\\t_\\n35\\tDiese\\tPRON\\tCase=Nom|Gender=Fem|Number=Sing|PronType=Dem\\n36\\tAnzeige\\tNOUN\\tCase=Nom|Gender=Fem|Number=Sing\\n37\\tgefällt\\tVERB\\tNumber=Sing|Person=3|VerbForm=Fin\\n38\\tmir\\tPRON\\tCase=Dat|Number=Sing|Person=1|PronType=Prs\\n39\\tso\\tADV\\t_\\n40\\tsehr\\tADV\\t_\\n41\\tDa\\tPROPN\\t_\\n42\\tgibt\\tVERB\\tNumber=Plur|Person=3|VerbForm=Fin\\n43\\talles\\tPRON\\tCase=Dat|Gender=Fem|Number=Plur|PronType=Tot\\n44\\tInformation\\tNOUN\\tCase=Dat|Gender=Fem|Number=Sing\\n45\\twas\\tPRON\\tCase=Acc|PronType=Ind\\n46\\tbrauche\\tVERB\\tNumber=Sing|Person=1|VerbForm=Fin\\n47\\tich\\tPRON\\tCase=Nom|Number=Sing|Person=1|PronType=Prs\\n48\\t.\\tPUNCT\\t_\\n49\\tJetzt\\tADV\\t_\\n50\\twollte\\tAUX\\tMood=Ind|Number=Sing|Person=1|Tense=Past|VerbForm=Fin\\n51\\tich\\tPRON\\tCase=Nom|Number=Sing|Person=1|PronType=Prs\\n52\\tmeine\\tPRON\\tCase=Acc|Gender=Fem|Number=Sing|Number[psor]=Sing|Person=1|Poss=Yes|PronType=Prs\\n53\\tProspekte\\tNOUN\\tCase=Acc|Number=Plur\\n54\\tzu\\tPART\\t_\\n55\\tgeben\\tVERB\\tNumber=Plur|Person=3|VerbForm=Fin\\n56\\tfür\\tADP\\t_\\n57\\tIhre\\tPRON\\tCase=Acc|Gender=Fem|Number=Sing|Person=2,3|Poss=Yes|PronType=Prs\\n58\\tKenntnis\\tPROPN\\t_\\n59\\t.\\tPUNCT\\t_\\n60\\tIch\\tPRON\\tCase=Nom|Number=Sing|Person=1|PronType=Prs\\n61\\thabe\\tVERB\\tMood=Ind|Number=Sing|Person=1|Tense=Pres|VerbForm=Fin\\n62\\tStudium\\tNOUN\\tCase=Acc|Gender=Neut|Number=Sing\\n63\\tgemacht\\tVERB\\tVerbForm=Part\\n64\\tals\\tADP\\t_\\n65\\tComputer\\tPROPN\\t_\\n66\\tSchänke\\tPROPN\\t_\\n67\\tin\\tADP\\t_\\n68\\tStadt\\tNOUN\\t_\\n69\\tY\\tPROPN\\t_\\n70\\tin\\tADP\\t_\\n71\\tIndien\\tPROPN\\t_\\n72\\t.\\tPUNCT\\t_\\n73\\tDenn\\tPROPN\\t_\\n74\\thabe\\tAUX\\tMood=Ind|Number=Sing|Person=1|Tense=Pres|VerbForm=Fin\\n75\\tich\\tPRON\\tCase=Nom|Number=Sing|Person=1|PronType=Prs\\n76\\tzwei\\tNUM\\tNumType=Card\\n77\\tJahre\\tNOUN\\t_\\n78\\tein\\tDET\\tCase=Acc|Definite=Ind|Gender=Masc,Neut|Number=Sing|PronType=Art\\n79\\tJob\\tNOUN\\tCase=Nom|Gender=Masc,Neut|Number=Sing\\n80\\tgehabt\\tVERB\\tVerbForm=Part\\n81\\tin\\tADP\\t_\\n82\\tStadt\\tNOUN\\t_\\n83\\tZ\\tPROPN\\t_\\n84\\tund\\tCCONJ\\t_\\n85\\tzuletzt\\tADV\\t_\\n86\\tarbeite\\tVERB\\tNumber=Sing|Person=1|VerbForm=Fin\\n87\\tich\\tPRON\\tCase=Nom|Number=Sing|Person=1|PronType=Prs\\n88\\tvon\\tADP\\t_\\n89\\t01.04.2009\\tNUM\\tNumType=Card\\n90\\tbis\\tADP\\t_\\n91\\tjetzt\\tADV\\t_\\n92\\tein\\tDET\\tCase=Acc|Definite=Ind|Gender=Masc,Neut|Number=Sing|PronType=Art\\n93\\tTelegrafie\\tNOUN\\tCase=Acc|Gender=Masc,Neut|Number=Sing\\n94\\t.\\tPUNCT\\t_\\n95\\tIhre\\tDET\\tPerson=2,3|Poss=Yes|PronType=Prs\\n96\\tAnzeige\\tNOUN\\tCase=Acc|Number=Sing\\n97\\tist\\tVERB\\tMood=Ind|Number=Sing|Person=3|Tense=Pres|VerbForm=Fin\\n98\\tfür\\tADP\\t_\\n99\\tmich\\tPRON\\tCase=Acc|Number=Sing|Person=1|PronType=Prs\\n100\\tein\\tDET\\tDefinite=Ind|PronType=Art\\n101\\tGottest\\tNOUN\\tCase=Acc|Gender=Masc,Neut|Number=Sing\\n102\\tGeseck\\tNOUN\\tCase=Acc|Gender=Masc,Neut|Number=Sing\\n103\\t,\\tPUNCT\\t_\\n104\\twenn\\tSCONJ\\t_\\n105\\tSie\\tPRON\\tCase=Nom|Person=2|Polite=Form|PronType=Prs\\n106\\tmich\\tPRON\\tCase=Acc|Number=Sing|Person=1|PronType=Prs|Reflex=Yes\\n107\\tein\\tDET\\tDefinite=Ind|PronType=Art\\n108\\tPlatz\\tNOUN\\t_\\n109\\treservieren\\tVERB\\tVerbForm=Inf\\n110\\tkönnte\\tAUX\\tMood=Sub|Number=Sing|Person=3|Tense=Past|VerbForm=Fin\\n111\\t.\\tPUNCT\\t_\\n112\\tIch\\tPRON\\tCase=Nom|Number=Sing|Person=1|PronType=Prs\\n113\\tmöchte\\tAUX\\tMood=Sub|Number=Sing|Person=1|Tense=Past|VerbForm=Fin\\n114\\tgerne\\tADV\\t_\\n115\\tauch\\tADV\\t_\\n116\\twissen\\tVERB\\tVerbForm=Inf\\n117\\tab\\tADP\\t_\\n118\\twann\\tADV\\t_\\n119\\tBeginn\\tNOUN\\t_\\n120\\tdieser\\tPRON\\tPronType=Dem\\n121\\tAusbildung\\tNOUN\\t_\\n122\\t,\\tPUNCT\\t_\\n123\\twie\\tADP\\t_\\n124\\tviele\\tADJ\\tDegree=Pos\\n125\\tStunden\\tNOUN\\t_\\n126\\tProloge\\tPROPN\\t_\\n127\\tund\\tCCONJ\\t_\\n128\\tArbeitszeit\\tNOUN\\t_\\n129\\t.\\tPUNCT\\t_\\n130\\tIch\\tPRON\\tCase=Nom|Number=Sing|Person=1|PronType=Prs\\n131\\tmöchte\\tVERB\\tMood=Sub|Number=Sing|Person=3|Tense=Past|VerbForm=Fin\\n132\\tvorher\\tADV\\t_\\n133\\tIhn\\tPRON\\tCase=Acc|Gender=Masc|Number=Sing|Person=3|PronType=Prs\\n134\\tDankber\\tPROPN\\t_\\n135\\t,\\tPUNCT\\t_\\n136\\twenn\\tSCONJ\\t_\\n137\\tSie\\tPRON\\tCase=Nom|Person=2|Polite=Form|PronType=Prs\\n138\\tmich\\tPRON\\tCase=Acc|Number=Sing|Person=1|PronType=Prs|Reflex=Yes\\n139\\tzurück\\tADV\\t_\\n140\\tschreiben\\tVERB\\tVerbForm=Inf\\n141\\tkönnen\\tAUX\\tVerbForm=Inf\\n142\\t.\\tPUNCT\\t_\\n143\\tVillen\\tNOUN\\t_\\n144\\tDank\\tNOUN\\t_\\n145\\tund\\tCCONJ\\t_\\n146\\tvielen\\tADJ\\tDegree=Pos\\n147\\tGrüßen\\tNOUN\\t_\\n148\\tFrau\\tNOUN\\t_\\n149\\tMeier\\tPROPN\\t_\\n150\\tAnlage\\tPROPN\\t_\\n151\\t.\\tPUNCT\\t_\\n']\n"
          ],
          "name": "stdout"
        }
      ]
    },
    {
      "cell_type": "markdown",
      "metadata": {
        "id": "ocBwih8RliMT"
      },
      "source": [
        "#Safe Data"
      ]
    },
    {
      "cell_type": "code",
      "metadata": {
        "id": "Kh0fUJTJmt3v",
        "outputId": "25232264-8f80-4c71-fea7-4c3073b23d69",
        "colab": {
          "base_uri": "https://localhost:8080/"
        }
      },
      "source": [
        "for col in df.columns: \n",
        "    print(col) "
      ],
      "execution_count": 34,
      "outputs": [
        {
          "output_type": "stream",
          "text": [
            "Text File\n",
            "lvl\n",
            "cor_text\n",
            "er_wspace\n",
            "er_untr\n",
            "er_uncat\n",
            "er_typ\n",
            "er_term\n",
            "er_style\n",
            "er_reg\n",
            "er_pattern\n",
            "er_other\n",
            "er_omis\n",
            "er_num\n",
            "er_noncon\n",
            "er_mistrans\n",
            "er_misssp\n",
            "er_mark\n",
            "er_locvio\n",
            "er_locspec\n",
            "er_len\n",
            "er_leg\n",
            "er_intern\n",
            "er_intit\n",
            "er_inste\n",
            "er_gram\n",
            "er_dup\n",
            "er_chars\n",
            "er_add\n",
            "er_total\n",
            "sents_count\n",
            "word_count\n",
            "char_count\n",
            "avr_sents_leng\n",
            "avr_char_p_word\n",
            "avr_syllables_p_word\n",
            "TUnit\n",
            "dep_clause\n",
            "dep_clause_w_conj\n",
            "non_term\n",
            "vz\n",
            "vp_count\n",
            "vp_sum_len\n",
            "cp_count\n",
            "len_TUnit\n",
            "len_dep_clause\n",
            "dep_clause_w_conj_to_dep_clause\n",
            "non_term_to_words\n",
            "vz_to_sents\n",
            "len_vp_to_vp\n",
            "cp_to_sent\n",
            "ttr\n",
            "root_ttr\n",
            "cor_ttr\n",
            "hdd\n",
            "mtld\n",
            "verbVariation_square\n",
            "verbVariation_cor\n",
            "nounbVariation\n",
            "genNounRatio\n",
            "nomNounRatio\n",
            "Verb2PersonRatio\n",
            "Verb3PersonRatio\n"
          ],
          "name": "stdout"
        }
      ]
    },
    {
      "cell_type": "code",
      "metadata": {
        "id": "5qvIIT-Dsas1"
      },
      "source": [
        "df[\"errorRateToSentCount\"] = (df[\"er_typ\"] + df[\"er_misssp\"]) / df[\"sents_count\"]"
      ],
      "execution_count": 35,
      "outputs": []
    },
    {
      "cell_type": "code",
      "metadata": {
        "id": "rqCYdjG7qIwX"
      },
      "source": [
        "df_features = df[[\"lvl\", \"errorRateToSentCount\", \"avr_sents_leng\", \"avr_char_p_word\", \"avr_sents_leng\", \"avr_char_p_word\", \"avr_syllables_p_word\", \"cp_to_sent\", \"ttr\", \"root_ttr\", \"cor_ttr\", \"hdd\", \"mtld\", \"verbVariation_square\", \"verbVariation_cor\", \"nounbVariation\", \"genNounRatio\", \"nomNounRatio\", \"Verb2PersonRatio\", \"Verb3PersonRatio\", \"len_TUnit\", \"len_dep_clause\", \"dep_clause_w_conj_to_dep_clause\", \"non_term_to_words\", \"vz_to_sents\", \"len_vp_to_vp\", \"cp_to_sent\"]]"
      ],
      "execution_count": 36,
      "outputs": []
    },
    {
      "cell_type": "code",
      "metadata": {
        "id": "LdXlZfWGt5Gj",
        "outputId": "c9caca7f-4bdd-4ead-de04-206d6ec199d4",
        "colab": {
          "base_uri": "https://localhost:8080/",
          "height": 307
        }
      },
      "source": [
        "df_features.fillna(0)\n"
      ],
      "execution_count": 37,
      "outputs": [
        {
          "output_type": "execute_result",
          "data": {
            "text/html": [
              "<div>\n",
              "<style scoped>\n",
              "    .dataframe tbody tr th:only-of-type {\n",
              "        vertical-align: middle;\n",
              "    }\n",
              "\n",
              "    .dataframe tbody tr th {\n",
              "        vertical-align: top;\n",
              "    }\n",
              "\n",
              "    .dataframe thead th {\n",
              "        text-align: right;\n",
              "    }\n",
              "</style>\n",
              "<table border=\"1\" class=\"dataframe\">\n",
              "  <thead>\n",
              "    <tr style=\"text-align: right;\">\n",
              "      <th></th>\n",
              "      <th>lvl</th>\n",
              "      <th>errorRateToSentCount</th>\n",
              "      <th>avr_sents_leng</th>\n",
              "      <th>avr_char_p_word</th>\n",
              "      <th>avr_sents_leng</th>\n",
              "      <th>avr_char_p_word</th>\n",
              "      <th>avr_syllables_p_word</th>\n",
              "      <th>cp_to_sent</th>\n",
              "      <th>ttr</th>\n",
              "      <th>root_ttr</th>\n",
              "      <th>cor_ttr</th>\n",
              "      <th>hdd</th>\n",
              "      <th>mtld</th>\n",
              "      <th>verbVariation_square</th>\n",
              "      <th>verbVariation_cor</th>\n",
              "      <th>nounbVariation</th>\n",
              "      <th>genNounRatio</th>\n",
              "      <th>nomNounRatio</th>\n",
              "      <th>Verb2PersonRatio</th>\n",
              "      <th>Verb3PersonRatio</th>\n",
              "      <th>len_TUnit</th>\n",
              "      <th>len_dep_clause</th>\n",
              "      <th>dep_clause_w_conj_to_dep_clause</th>\n",
              "      <th>non_term_to_words</th>\n",
              "      <th>vz_to_sents</th>\n",
              "      <th>len_vp_to_vp</th>\n",
              "      <th>cp_to_sent</th>\n",
              "    </tr>\n",
              "  </thead>\n",
              "  <tbody>\n",
              "    <tr>\n",
              "      <th>0</th>\n",
              "      <td>B1</td>\n",
              "      <td>0.857143</td>\n",
              "      <td>9.642857</td>\n",
              "      <td>4.896296</td>\n",
              "      <td>9.642857</td>\n",
              "      <td>4.896296</td>\n",
              "      <td>1.659259</td>\n",
              "      <td>0.214286</td>\n",
              "      <td>0.692308</td>\n",
              "      <td>5.853993</td>\n",
              "      <td>5.853993</td>\n",
              "      <td>0.861070</td>\n",
              "      <td>100.521158</td>\n",
              "      <td>10.714286</td>\n",
              "      <td>2.314550</td>\n",
              "      <td>0.862069</td>\n",
              "      <td>0.000000</td>\n",
              "      <td>0.080000</td>\n",
              "      <td>0.000000</td>\n",
              "      <td>0.320000</td>\n",
              "      <td>0.096296</td>\n",
              "      <td>0.022222</td>\n",
              "      <td>0.666667</td>\n",
              "      <td>0.007407</td>\n",
              "      <td>4.214286</td>\n",
              "      <td>3.571429</td>\n",
              "      <td>0.214286</td>\n",
              "    </tr>\n",
              "    <tr>\n",
              "      <th>1</th>\n",
              "      <td>B2</td>\n",
              "      <td>0.538462</td>\n",
              "      <td>9.230769</td>\n",
              "      <td>5.350000</td>\n",
              "      <td>9.230769</td>\n",
              "      <td>5.350000</td>\n",
              "      <td>1.850000</td>\n",
              "      <td>0.153846</td>\n",
              "      <td>0.756098</td>\n",
              "      <td>5.929463</td>\n",
              "      <td>5.929463</td>\n",
              "      <td>0.884785</td>\n",
              "      <td>141.204000</td>\n",
              "      <td>14.062500</td>\n",
              "      <td>2.651650</td>\n",
              "      <td>0.956522</td>\n",
              "      <td>0.000000</td>\n",
              "      <td>0.000000</td>\n",
              "      <td>0.000000</td>\n",
              "      <td>0.409091</td>\n",
              "      <td>0.141667</td>\n",
              "      <td>0.033333</td>\n",
              "      <td>1.000000</td>\n",
              "      <td>0.008333</td>\n",
              "      <td>4.076923</td>\n",
              "      <td>5.000000</td>\n",
              "      <td>0.153846</td>\n",
              "    </tr>\n",
              "    <tr>\n",
              "      <th>2</th>\n",
              "      <td>B1</td>\n",
              "      <td>1.300000</td>\n",
              "      <td>12.200000</td>\n",
              "      <td>4.836066</td>\n",
              "      <td>12.200000</td>\n",
              "      <td>4.836066</td>\n",
              "      <td>1.606557</td>\n",
              "      <td>0.200000</td>\n",
              "      <td>0.764228</td>\n",
              "      <td>5.993221</td>\n",
              "      <td>5.993221</td>\n",
              "      <td>0.872324</td>\n",
              "      <td>146.073103</td>\n",
              "      <td>12.800000</td>\n",
              "      <td>2.529822</td>\n",
              "      <td>1.000000</td>\n",
              "      <td>0.000000</td>\n",
              "      <td>0.000000</td>\n",
              "      <td>0.000000</td>\n",
              "      <td>0.600000</td>\n",
              "      <td>0.098361</td>\n",
              "      <td>0.049180</td>\n",
              "      <td>0.333333</td>\n",
              "      <td>0.016393</td>\n",
              "      <td>5.400000</td>\n",
              "      <td>5.142857</td>\n",
              "      <td>0.200000</td>\n",
              "    </tr>\n",
              "    <tr>\n",
              "      <th>3</th>\n",
              "      <td>B2</td>\n",
              "      <td>0.071429</td>\n",
              "      <td>16.000000</td>\n",
              "      <td>5.482143</td>\n",
              "      <td>16.000000</td>\n",
              "      <td>5.482143</td>\n",
              "      <td>1.727679</td>\n",
              "      <td>0.071429</td>\n",
              "      <td>0.629464</td>\n",
              "      <td>6.661624</td>\n",
              "      <td>6.661624</td>\n",
              "      <td>0.862410</td>\n",
              "      <td>122.013867</td>\n",
              "      <td>16.531250</td>\n",
              "      <td>2.875000</td>\n",
              "      <td>0.621622</td>\n",
              "      <td>0.031250</td>\n",
              "      <td>0.156250</td>\n",
              "      <td>0.000000</td>\n",
              "      <td>0.750000</td>\n",
              "      <td>0.071429</td>\n",
              "      <td>0.075893</td>\n",
              "      <td>0.764706</td>\n",
              "      <td>0.017857</td>\n",
              "      <td>7.142857</td>\n",
              "      <td>6.800000</td>\n",
              "      <td>0.071429</td>\n",
              "    </tr>\n",
              "    <tr>\n",
              "      <th>4</th>\n",
              "      <td>B2</td>\n",
              "      <td>1.086957</td>\n",
              "      <td>14.869565</td>\n",
              "      <td>4.915205</td>\n",
              "      <td>14.869565</td>\n",
              "      <td>4.915205</td>\n",
              "      <td>1.593567</td>\n",
              "      <td>0.260870</td>\n",
              "      <td>0.492711</td>\n",
              "      <td>6.452450</td>\n",
              "      <td>6.452450</td>\n",
              "      <td>0.845651</td>\n",
              "      <td>75.540512</td>\n",
              "      <td>14.225806</td>\n",
              "      <td>2.667003</td>\n",
              "      <td>0.606557</td>\n",
              "      <td>0.038462</td>\n",
              "      <td>0.038462</td>\n",
              "      <td>0.000000</td>\n",
              "      <td>0.653846</td>\n",
              "      <td>0.099415</td>\n",
              "      <td>0.020468</td>\n",
              "      <td>0.714286</td>\n",
              "      <td>0.002924</td>\n",
              "      <td>6.043478</td>\n",
              "      <td>4.700000</td>\n",
              "      <td>0.260870</td>\n",
              "    </tr>\n",
              "    <tr>\n",
              "      <th>5</th>\n",
              "      <td>A2</td>\n",
              "      <td>1.000000</td>\n",
              "      <td>8.142857</td>\n",
              "      <td>4.842105</td>\n",
              "      <td>8.142857</td>\n",
              "      <td>4.842105</td>\n",
              "      <td>1.578947</td>\n",
              "      <td>0.000000</td>\n",
              "      <td>0.771930</td>\n",
              "      <td>4.120978</td>\n",
              "      <td>4.120978</td>\n",
              "      <td>0.821603</td>\n",
              "      <td>69.978462</td>\n",
              "      <td>4.166667</td>\n",
              "      <td>1.443376</td>\n",
              "      <td>0.750000</td>\n",
              "      <td>0.000000</td>\n",
              "      <td>0.000000</td>\n",
              "      <td>0.000000</td>\n",
              "      <td>0.100000</td>\n",
              "      <td>0.140351</td>\n",
              "      <td>0.000000</td>\n",
              "      <td>0.000000</td>\n",
              "      <td>0.000000</td>\n",
              "      <td>3.857143</td>\n",
              "      <td>4.000000</td>\n",
              "      <td>0.000000</td>\n",
              "    </tr>\n",
              "    <tr>\n",
              "      <th>6</th>\n",
              "      <td>A2</td>\n",
              "      <td>0.444444</td>\n",
              "      <td>4.444444</td>\n",
              "      <td>4.375000</td>\n",
              "      <td>4.444444</td>\n",
              "      <td>4.375000</td>\n",
              "      <td>1.525000</td>\n",
              "      <td>0.000000</td>\n",
              "      <td>0.928571</td>\n",
              "      <td>4.255249</td>\n",
              "      <td>4.255249</td>\n",
              "      <td>0.928571</td>\n",
              "      <td>164.640000</td>\n",
              "      <td>3.200000</td>\n",
              "      <td>1.264911</td>\n",
              "      <td>1.000000</td>\n",
              "      <td>0.000000</td>\n",
              "      <td>0.000000</td>\n",
              "      <td>0.000000</td>\n",
              "      <td>0.500000</td>\n",
              "      <td>0.175000</td>\n",
              "      <td>0.025000</td>\n",
              "      <td>0.000000</td>\n",
              "      <td>0.000000</td>\n",
              "      <td>1.888889</td>\n",
              "      <td>0.000000</td>\n",
              "      <td>0.000000</td>\n",
              "    </tr>\n",
              "    <tr>\n",
              "      <th>7</th>\n",
              "      <td>B1</td>\n",
              "      <td>0.090909</td>\n",
              "      <td>8.454545</td>\n",
              "      <td>4.408602</td>\n",
              "      <td>8.454545</td>\n",
              "      <td>4.408602</td>\n",
              "      <td>1.365591</td>\n",
              "      <td>0.090909</td>\n",
              "      <td>0.700000</td>\n",
              "      <td>5.191339</td>\n",
              "      <td>5.191339</td>\n",
              "      <td>0.813276</td>\n",
              "      <td>78.659218</td>\n",
              "      <td>13.235294</td>\n",
              "      <td>2.572479</td>\n",
              "      <td>0.846154</td>\n",
              "      <td>0.076923</td>\n",
              "      <td>0.076923</td>\n",
              "      <td>0.076923</td>\n",
              "      <td>0.538462</td>\n",
              "      <td>0.118280</td>\n",
              "      <td>0.021505</td>\n",
              "      <td>0.000000</td>\n",
              "      <td>0.010753</td>\n",
              "      <td>3.727273</td>\n",
              "      <td>5.200000</td>\n",
              "      <td>0.090909</td>\n",
              "    </tr>\n",
              "  </tbody>\n",
              "</table>\n",
              "</div>"
            ],
            "text/plain": [
              "  lvl  errorRateToSentCount  ...  len_vp_to_vp  cp_to_sent\n",
              "0  B1              0.857143  ...      3.571429    0.214286\n",
              "1  B2              0.538462  ...      5.000000    0.153846\n",
              "2  B1              1.300000  ...      5.142857    0.200000\n",
              "3  B2              0.071429  ...      6.800000    0.071429\n",
              "4  B2              1.086957  ...      4.700000    0.260870\n",
              "5  A2              1.000000  ...      4.000000    0.000000\n",
              "6  A2              0.444444  ...      0.000000    0.000000\n",
              "7  B1              0.090909  ...      5.200000    0.090909\n",
              "\n",
              "[8 rows x 27 columns]"
            ]
          },
          "metadata": {
            "tags": []
          },
          "execution_count": 37
        }
      ]
    },
    {
      "cell_type": "code",
      "metadata": {
        "id": "6Va8fuB5vVgl",
        "outputId": "eb2fae83-4492-46e4-a2f7-7d63ce432451",
        "colab": {
          "base_uri": "https://localhost:8080/",
          "height": 300,
          "referenced_widgets": [
            "7f0877727b0a4f8f97a937653b5daabc",
            "c455673f3d1d4da9b5e34836fd5b63d0",
            "b63dbe2ca64646f799711997a8a384e4",
            "27e9e750eb994005b38d2e1901f9a79a",
            "1ac3a4c5f25a4ac4b926d94c20893c95",
            "1ada5e0578df4a5e9e27fbaf4493758b",
            "c0e7e92a224b40aaaaa3c90b9cb6b804",
            "cc7b1cad8c5641e087f8cbb530d96f5b"
          ]
        }
      },
      "source": [
        "for index in tqdm(df_features.index):\n",
        "  if df_features.at[index, \"lvl\"] == \"A1\":\n",
        "    df_features.at[index, \"lvl_int\"] = 1\n",
        "  elif df_features.at[index, \"lvl\"] == \"A2\":\n",
        "    df_features.at[index, \"lvl_int\"] = 2\n",
        "  elif df_features.at[index, \"lvl\"] == \"B1\":\n",
        "    df_features.at[index, \"lvl_int\"] = 3\n",
        "  elif df_features.at[index, \"lvl\"] == \"B2\":\n",
        "    df_features.at[index, \"lvl_int\"] = 4\n",
        "  elif df_features.at[index, \"lvl\"] == \"C1\":\n",
        "    df_features.at[index, \"lvl_int\"] = 5\n",
        "  elif df_features.at[index, \"lvl\"] == \"C2\":\n",
        "    df_features.at[index, \"lvl_int\"] = 6"
      ],
      "execution_count": 38,
      "outputs": [
        {
          "output_type": "display_data",
          "data": {
            "application/vnd.jupyter.widget-view+json": {
              "model_id": "7f0877727b0a4f8f97a937653b5daabc",
              "version_minor": 0,
              "version_major": 2
            },
            "text/plain": [
              "HBox(children=(FloatProgress(value=0.0, max=8.0), HTML(value='')))"
            ]
          },
          "metadata": {
            "tags": []
          }
        },
        {
          "output_type": "stream",
          "text": [
            "\n"
          ],
          "name": "stdout"
        },
        {
          "output_type": "stream",
          "text": [
            "/usr/local/lib/python3.6/dist-packages/pandas/core/indexing.py:1596: SettingWithCopyWarning: \n",
            "A value is trying to be set on a copy of a slice from a DataFrame.\n",
            "Try using .loc[row_indexer,col_indexer] = value instead\n",
            "\n",
            "See the caveats in the documentation: https://pandas.pydata.org/pandas-docs/stable/user_guide/indexing.html#returning-a-view-versus-a-copy\n",
            "  Set value for rows matching callable condition\n",
            "/usr/local/lib/python3.6/dist-packages/pandas/core/indexing.py:1763: SettingWithCopyWarning: \n",
            "A value is trying to be set on a copy of a slice from a DataFrame.\n",
            "Try using .loc[row_indexer,col_indexer] = value instead\n",
            "\n",
            "See the caveats in the documentation: https://pandas.pydata.org/pandas-docs/stable/user_guide/indexing.html#returning-a-view-versus-a-copy\n",
            "  if (\n"
          ],
          "name": "stderr"
        }
      ]
    },
    {
      "cell_type": "code",
      "metadata": {
        "id": "HZAuVhU7uaQ0",
        "outputId": "c02bba42-791b-4f76-958d-aa71a53faaa1",
        "colab": {
          "base_uri": "https://localhost:8080/"
        }
      },
      "source": [
        "df_features.dtypes\n"
      ],
      "execution_count": 39,
      "outputs": [
        {
          "output_type": "execute_result",
          "data": {
            "text/plain": [
              "lvl                                 object\n",
              "errorRateToSentCount               float64\n",
              "avr_sents_leng                     float64\n",
              "avr_char_p_word                    float64\n",
              "avr_sents_leng                     float64\n",
              "avr_char_p_word                    float64\n",
              "avr_syllables_p_word               float64\n",
              "cp_to_sent                         float64\n",
              "ttr                                float64\n",
              "root_ttr                           float64\n",
              "cor_ttr                            float64\n",
              "hdd                                float64\n",
              "mtld                               float64\n",
              "verbVariation_square               float64\n",
              "verbVariation_cor                  float64\n",
              "nounbVariation                     float64\n",
              "genNounRatio                       float64\n",
              "nomNounRatio                       float64\n",
              "Verb2PersonRatio                   float64\n",
              "Verb3PersonRatio                   float64\n",
              "len_TUnit                          float64\n",
              "len_dep_clause                     float64\n",
              "dep_clause_w_conj_to_dep_clause    float64\n",
              "non_term_to_words                  float64\n",
              "vz_to_sents                        float64\n",
              "len_vp_to_vp                       float64\n",
              "cp_to_sent                         float64\n",
              "lvl_int                            float64\n",
              "dtype: object"
            ]
          },
          "metadata": {
            "tags": []
          },
          "execution_count": 39
        }
      ]
    },
    {
      "cell_type": "code",
      "metadata": {
        "id": "EjgWRPnFp5Zm"
      },
      "source": [
        "df_features.to_csv('features.csv')"
      ],
      "execution_count": 42,
      "outputs": []
    },
    {
      "cell_type": "code",
      "metadata": {
        "id": "mSCgi6uYmKF3",
        "outputId": "fde30267-4707-444a-b252-6ff4e567b7d1",
        "colab": {
          "base_uri": "https://localhost:8080/"
        }
      },
      "source": [
        "from google.colab import drive\n",
        "drive.mount('drive')"
      ],
      "execution_count": 46,
      "outputs": [
        {
          "output_type": "stream",
          "text": [
            "Mounted at drive\n"
          ],
          "name": "stdout"
        }
      ]
    },
    {
      "cell_type": "code",
      "metadata": {
        "id": "H0BSGL9O9jHp"
      },
      "source": [
        "!cp /content/features.csv \"drive/My Drive/Colab Notebooks/Files\"\n"
      ],
      "execution_count": 48,
      "outputs": []
    }
  ]
}