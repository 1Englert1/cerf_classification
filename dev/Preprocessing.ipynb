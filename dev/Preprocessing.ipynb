{
  "nbformat": 4,
  "nbformat_minor": 0,
  "metadata": {
    "kernelspec": {
      "display_name": "Python 3",
      "language": "python",
      "name": "python3"
    },
    "language_info": {
      "codemirror_mode": {
        "name": "ipython",
        "version": 3
      },
      "file_extension": ".py",
      "mimetype": "text/x-python",
      "name": "python",
      "nbconvert_exporter": "python",
      "pygments_lexer": "ipython3",
      "version": "3.7.4"
    },
    "colab": {
      "name": "Preprocessing.ipynb",
      "provenance": [],
      "collapsed_sections": [],
      "toc_visible": true,
      "include_colab_link": true
    },
    "widgets": {
      "application/vnd.jupyter.widget-state+json": {
        "06850df4b2314727b895543e6f0444c6": {
          "model_module": "@jupyter-widgets/controls",
          "model_name": "HBoxModel",
          "state": {
            "_view_name": "HBoxView",
            "_dom_classes": [],
            "_model_name": "HBoxModel",
            "_view_module": "@jupyter-widgets/controls",
            "_model_module_version": "1.5.0",
            "_view_count": null,
            "_view_module_version": "1.5.0",
            "box_style": "",
            "layout": "IPY_MODEL_6fb6a165b321462eab5e09c43ab65546",
            "_model_module": "@jupyter-widgets/controls",
            "children": [
              "IPY_MODEL_0587cbff76854a6d83dcc40fde8ca6d7",
              "IPY_MODEL_dc399d87ea75417b995926bc8e949d94"
            ]
          }
        },
        "6fb6a165b321462eab5e09c43ab65546": {
          "model_module": "@jupyter-widgets/base",
          "model_name": "LayoutModel",
          "state": {
            "_view_name": "LayoutView",
            "grid_template_rows": null,
            "right": null,
            "justify_content": null,
            "_view_module": "@jupyter-widgets/base",
            "overflow": null,
            "_model_module_version": "1.2.0",
            "_view_count": null,
            "flex_flow": null,
            "width": null,
            "min_width": null,
            "border": null,
            "align_items": null,
            "bottom": null,
            "_model_module": "@jupyter-widgets/base",
            "top": null,
            "grid_column": null,
            "overflow_y": null,
            "overflow_x": null,
            "grid_auto_flow": null,
            "grid_area": null,
            "grid_template_columns": null,
            "flex": null,
            "_model_name": "LayoutModel",
            "justify_items": null,
            "grid_row": null,
            "max_height": null,
            "align_content": null,
            "visibility": null,
            "align_self": null,
            "height": null,
            "min_height": null,
            "padding": null,
            "grid_auto_rows": null,
            "grid_gap": null,
            "max_width": null,
            "order": null,
            "_view_module_version": "1.2.0",
            "grid_template_areas": null,
            "object_position": null,
            "object_fit": null,
            "grid_auto_columns": null,
            "margin": null,
            "display": null,
            "left": null
          }
        },
        "0587cbff76854a6d83dcc40fde8ca6d7": {
          "model_module": "@jupyter-widgets/controls",
          "model_name": "FloatProgressModel",
          "state": {
            "_view_name": "ProgressView",
            "style": "IPY_MODEL_6e6e4aed27704e9d8064ce3d939604fc",
            "_dom_classes": [],
            "description": "100%",
            "_model_name": "FloatProgressModel",
            "bar_style": "success",
            "max": 8,
            "_view_module": "@jupyter-widgets/controls",
            "_model_module_version": "1.5.0",
            "value": 8,
            "_view_count": null,
            "_view_module_version": "1.5.0",
            "orientation": "horizontal",
            "min": 0,
            "description_tooltip": null,
            "_model_module": "@jupyter-widgets/controls",
            "layout": "IPY_MODEL_03a6fec9f96741b1800419209c09676a"
          }
        },
        "dc399d87ea75417b995926bc8e949d94": {
          "model_module": "@jupyter-widgets/controls",
          "model_name": "HTMLModel",
          "state": {
            "_view_name": "HTMLView",
            "style": "IPY_MODEL_94010c4585154d7cbb15920855108aa8",
            "_dom_classes": [],
            "description": "",
            "_model_name": "HTMLModel",
            "placeholder": "​",
            "_view_module": "@jupyter-widgets/controls",
            "_model_module_version": "1.5.0",
            "value": " 8/8 [01:11&lt;00:00,  8.95s/it]",
            "_view_count": null,
            "_view_module_version": "1.5.0",
            "description_tooltip": null,
            "_model_module": "@jupyter-widgets/controls",
            "layout": "IPY_MODEL_0aa9b2b657ee41dda740fe3687fa8542"
          }
        },
        "6e6e4aed27704e9d8064ce3d939604fc": {
          "model_module": "@jupyter-widgets/controls",
          "model_name": "ProgressStyleModel",
          "state": {
            "_view_name": "StyleView",
            "_model_name": "ProgressStyleModel",
            "description_width": "initial",
            "_view_module": "@jupyter-widgets/base",
            "_model_module_version": "1.5.0",
            "_view_count": null,
            "_view_module_version": "1.2.0",
            "bar_color": null,
            "_model_module": "@jupyter-widgets/controls"
          }
        },
        "03a6fec9f96741b1800419209c09676a": {
          "model_module": "@jupyter-widgets/base",
          "model_name": "LayoutModel",
          "state": {
            "_view_name": "LayoutView",
            "grid_template_rows": null,
            "right": null,
            "justify_content": null,
            "_view_module": "@jupyter-widgets/base",
            "overflow": null,
            "_model_module_version": "1.2.0",
            "_view_count": null,
            "flex_flow": null,
            "width": null,
            "min_width": null,
            "border": null,
            "align_items": null,
            "bottom": null,
            "_model_module": "@jupyter-widgets/base",
            "top": null,
            "grid_column": null,
            "overflow_y": null,
            "overflow_x": null,
            "grid_auto_flow": null,
            "grid_area": null,
            "grid_template_columns": null,
            "flex": null,
            "_model_name": "LayoutModel",
            "justify_items": null,
            "grid_row": null,
            "max_height": null,
            "align_content": null,
            "visibility": null,
            "align_self": null,
            "height": null,
            "min_height": null,
            "padding": null,
            "grid_auto_rows": null,
            "grid_gap": null,
            "max_width": null,
            "order": null,
            "_view_module_version": "1.2.0",
            "grid_template_areas": null,
            "object_position": null,
            "object_fit": null,
            "grid_auto_columns": null,
            "margin": null,
            "display": null,
            "left": null
          }
        },
        "94010c4585154d7cbb15920855108aa8": {
          "model_module": "@jupyter-widgets/controls",
          "model_name": "DescriptionStyleModel",
          "state": {
            "_view_name": "StyleView",
            "_model_name": "DescriptionStyleModel",
            "description_width": "",
            "_view_module": "@jupyter-widgets/base",
            "_model_module_version": "1.5.0",
            "_view_count": null,
            "_view_module_version": "1.2.0",
            "_model_module": "@jupyter-widgets/controls"
          }
        },
        "0aa9b2b657ee41dda740fe3687fa8542": {
          "model_module": "@jupyter-widgets/base",
          "model_name": "LayoutModel",
          "state": {
            "_view_name": "LayoutView",
            "grid_template_rows": null,
            "right": null,
            "justify_content": null,
            "_view_module": "@jupyter-widgets/base",
            "overflow": null,
            "_model_module_version": "1.2.0",
            "_view_count": null,
            "flex_flow": null,
            "width": null,
            "min_width": null,
            "border": null,
            "align_items": null,
            "bottom": null,
            "_model_module": "@jupyter-widgets/base",
            "top": null,
            "grid_column": null,
            "overflow_y": null,
            "overflow_x": null,
            "grid_auto_flow": null,
            "grid_area": null,
            "grid_template_columns": null,
            "flex": null,
            "_model_name": "LayoutModel",
            "justify_items": null,
            "grid_row": null,
            "max_height": null,
            "align_content": null,
            "visibility": null,
            "align_self": null,
            "height": null,
            "min_height": null,
            "padding": null,
            "grid_auto_rows": null,
            "grid_gap": null,
            "max_width": null,
            "order": null,
            "_view_module_version": "1.2.0",
            "grid_template_areas": null,
            "object_position": null,
            "object_fit": null,
            "grid_auto_columns": null,
            "margin": null,
            "display": null,
            "left": null
          }
        },
        "1cc9599016e3415b8cfb813d7ef0df98": {
          "model_module": "@jupyter-widgets/controls",
          "model_name": "HBoxModel",
          "state": {
            "_view_name": "HBoxView",
            "_dom_classes": [],
            "_model_name": "HBoxModel",
            "_view_module": "@jupyter-widgets/controls",
            "_model_module_version": "1.5.0",
            "_view_count": null,
            "_view_module_version": "1.5.0",
            "box_style": "",
            "layout": "IPY_MODEL_4b46e9aea54f43f99007366d793d7f89",
            "_model_module": "@jupyter-widgets/controls",
            "children": [
              "IPY_MODEL_1b1d67b7451e434c8fa123a413a35e54",
              "IPY_MODEL_9874f4754ad3466794638142006b2613"
            ]
          }
        },
        "4b46e9aea54f43f99007366d793d7f89": {
          "model_module": "@jupyter-widgets/base",
          "model_name": "LayoutModel",
          "state": {
            "_view_name": "LayoutView",
            "grid_template_rows": null,
            "right": null,
            "justify_content": null,
            "_view_module": "@jupyter-widgets/base",
            "overflow": null,
            "_model_module_version": "1.2.0",
            "_view_count": null,
            "flex_flow": null,
            "width": null,
            "min_width": null,
            "border": null,
            "align_items": null,
            "bottom": null,
            "_model_module": "@jupyter-widgets/base",
            "top": null,
            "grid_column": null,
            "overflow_y": null,
            "overflow_x": null,
            "grid_auto_flow": null,
            "grid_area": null,
            "grid_template_columns": null,
            "flex": null,
            "_model_name": "LayoutModel",
            "justify_items": null,
            "grid_row": null,
            "max_height": null,
            "align_content": null,
            "visibility": null,
            "align_self": null,
            "height": null,
            "min_height": null,
            "padding": null,
            "grid_auto_rows": null,
            "grid_gap": null,
            "max_width": null,
            "order": null,
            "_view_module_version": "1.2.0",
            "grid_template_areas": null,
            "object_position": null,
            "object_fit": null,
            "grid_auto_columns": null,
            "margin": null,
            "display": null,
            "left": null
          }
        },
        "1b1d67b7451e434c8fa123a413a35e54": {
          "model_module": "@jupyter-widgets/controls",
          "model_name": "FloatProgressModel",
          "state": {
            "_view_name": "ProgressView",
            "style": "IPY_MODEL_04483e81d59d4c1ab2d67648f7ebbe87",
            "_dom_classes": [],
            "description": "100%",
            "_model_name": "FloatProgressModel",
            "bar_style": "success",
            "max": 8,
            "_view_module": "@jupyter-widgets/controls",
            "_model_module_version": "1.5.0",
            "value": 8,
            "_view_count": null,
            "_view_module_version": "1.5.0",
            "orientation": "horizontal",
            "min": 0,
            "description_tooltip": null,
            "_model_module": "@jupyter-widgets/controls",
            "layout": "IPY_MODEL_c3598b49624144b7aea6a197ebdaf9bf"
          }
        },
        "9874f4754ad3466794638142006b2613": {
          "model_module": "@jupyter-widgets/controls",
          "model_name": "HTMLModel",
          "state": {
            "_view_name": "HTMLView",
            "style": "IPY_MODEL_88b28b1dccf941eebf52ca5d5dae798d",
            "_dom_classes": [],
            "description": "",
            "_model_name": "HTMLModel",
            "placeholder": "​",
            "_view_module": "@jupyter-widgets/controls",
            "_model_module_version": "1.5.0",
            "value": " 8/8 [00:56&lt;00:00,  7.08s/it]",
            "_view_count": null,
            "_view_module_version": "1.5.0",
            "description_tooltip": null,
            "_model_module": "@jupyter-widgets/controls",
            "layout": "IPY_MODEL_b8a374fc02ea42e783e385d0b61c93bd"
          }
        },
        "04483e81d59d4c1ab2d67648f7ebbe87": {
          "model_module": "@jupyter-widgets/controls",
          "model_name": "ProgressStyleModel",
          "state": {
            "_view_name": "StyleView",
            "_model_name": "ProgressStyleModel",
            "description_width": "initial",
            "_view_module": "@jupyter-widgets/base",
            "_model_module_version": "1.5.0",
            "_view_count": null,
            "_view_module_version": "1.2.0",
            "bar_color": null,
            "_model_module": "@jupyter-widgets/controls"
          }
        },
        "c3598b49624144b7aea6a197ebdaf9bf": {
          "model_module": "@jupyter-widgets/base",
          "model_name": "LayoutModel",
          "state": {
            "_view_name": "LayoutView",
            "grid_template_rows": null,
            "right": null,
            "justify_content": null,
            "_view_module": "@jupyter-widgets/base",
            "overflow": null,
            "_model_module_version": "1.2.0",
            "_view_count": null,
            "flex_flow": null,
            "width": null,
            "min_width": null,
            "border": null,
            "align_items": null,
            "bottom": null,
            "_model_module": "@jupyter-widgets/base",
            "top": null,
            "grid_column": null,
            "overflow_y": null,
            "overflow_x": null,
            "grid_auto_flow": null,
            "grid_area": null,
            "grid_template_columns": null,
            "flex": null,
            "_model_name": "LayoutModel",
            "justify_items": null,
            "grid_row": null,
            "max_height": null,
            "align_content": null,
            "visibility": null,
            "align_self": null,
            "height": null,
            "min_height": null,
            "padding": null,
            "grid_auto_rows": null,
            "grid_gap": null,
            "max_width": null,
            "order": null,
            "_view_module_version": "1.2.0",
            "grid_template_areas": null,
            "object_position": null,
            "object_fit": null,
            "grid_auto_columns": null,
            "margin": null,
            "display": null,
            "left": null
          }
        },
        "88b28b1dccf941eebf52ca5d5dae798d": {
          "model_module": "@jupyter-widgets/controls",
          "model_name": "DescriptionStyleModel",
          "state": {
            "_view_name": "StyleView",
            "_model_name": "DescriptionStyleModel",
            "description_width": "",
            "_view_module": "@jupyter-widgets/base",
            "_model_module_version": "1.5.0",
            "_view_count": null,
            "_view_module_version": "1.2.0",
            "_model_module": "@jupyter-widgets/controls"
          }
        },
        "b8a374fc02ea42e783e385d0b61c93bd": {
          "model_module": "@jupyter-widgets/base",
          "model_name": "LayoutModel",
          "state": {
            "_view_name": "LayoutView",
            "grid_template_rows": null,
            "right": null,
            "justify_content": null,
            "_view_module": "@jupyter-widgets/base",
            "overflow": null,
            "_model_module_version": "1.2.0",
            "_view_count": null,
            "flex_flow": null,
            "width": null,
            "min_width": null,
            "border": null,
            "align_items": null,
            "bottom": null,
            "_model_module": "@jupyter-widgets/base",
            "top": null,
            "grid_column": null,
            "overflow_y": null,
            "overflow_x": null,
            "grid_auto_flow": null,
            "grid_area": null,
            "grid_template_columns": null,
            "flex": null,
            "_model_name": "LayoutModel",
            "justify_items": null,
            "grid_row": null,
            "max_height": null,
            "align_content": null,
            "visibility": null,
            "align_self": null,
            "height": null,
            "min_height": null,
            "padding": null,
            "grid_auto_rows": null,
            "grid_gap": null,
            "max_width": null,
            "order": null,
            "_view_module_version": "1.2.0",
            "grid_template_areas": null,
            "object_position": null,
            "object_fit": null,
            "grid_auto_columns": null,
            "margin": null,
            "display": null,
            "left": null
          }
        },
        "612947ca973d4befa92e95fe3be715de": {
          "model_module": "@jupyter-widgets/controls",
          "model_name": "HBoxModel",
          "state": {
            "_view_name": "HBoxView",
            "_dom_classes": [],
            "_model_name": "HBoxModel",
            "_view_module": "@jupyter-widgets/controls",
            "_model_module_version": "1.5.0",
            "_view_count": null,
            "_view_module_version": "1.5.0",
            "box_style": "",
            "layout": "IPY_MODEL_3b3317124f654a33addf10fb6f648045",
            "_model_module": "@jupyter-widgets/controls",
            "children": [
              "IPY_MODEL_a15b3f624bae4182a4ec9808c205eaaf",
              "IPY_MODEL_547f4535f3d34c65b0e0959df6261ff5"
            ]
          }
        },
        "3b3317124f654a33addf10fb6f648045": {
          "model_module": "@jupyter-widgets/base",
          "model_name": "LayoutModel",
          "state": {
            "_view_name": "LayoutView",
            "grid_template_rows": null,
            "right": null,
            "justify_content": null,
            "_view_module": "@jupyter-widgets/base",
            "overflow": null,
            "_model_module_version": "1.2.0",
            "_view_count": null,
            "flex_flow": null,
            "width": null,
            "min_width": null,
            "border": null,
            "align_items": null,
            "bottom": null,
            "_model_module": "@jupyter-widgets/base",
            "top": null,
            "grid_column": null,
            "overflow_y": null,
            "overflow_x": null,
            "grid_auto_flow": null,
            "grid_area": null,
            "grid_template_columns": null,
            "flex": null,
            "_model_name": "LayoutModel",
            "justify_items": null,
            "grid_row": null,
            "max_height": null,
            "align_content": null,
            "visibility": null,
            "align_self": null,
            "height": null,
            "min_height": null,
            "padding": null,
            "grid_auto_rows": null,
            "grid_gap": null,
            "max_width": null,
            "order": null,
            "_view_module_version": "1.2.0",
            "grid_template_areas": null,
            "object_position": null,
            "object_fit": null,
            "grid_auto_columns": null,
            "margin": null,
            "display": null,
            "left": null
          }
        },
        "a15b3f624bae4182a4ec9808c205eaaf": {
          "model_module": "@jupyter-widgets/controls",
          "model_name": "FloatProgressModel",
          "state": {
            "_view_name": "ProgressView",
            "style": "IPY_MODEL_5d9443b18e694fc797ad719ce6666c34",
            "_dom_classes": [],
            "description": "100%",
            "_model_name": "FloatProgressModel",
            "bar_style": "success",
            "max": 8,
            "_view_module": "@jupyter-widgets/controls",
            "_model_module_version": "1.5.0",
            "value": 8,
            "_view_count": null,
            "_view_module_version": "1.5.0",
            "orientation": "horizontal",
            "min": 0,
            "description_tooltip": null,
            "_model_module": "@jupyter-widgets/controls",
            "layout": "IPY_MODEL_b92251da9c894ca9b4d2fc55939837bc"
          }
        },
        "547f4535f3d34c65b0e0959df6261ff5": {
          "model_module": "@jupyter-widgets/controls",
          "model_name": "HTMLModel",
          "state": {
            "_view_name": "HTMLView",
            "style": "IPY_MODEL_ed65db62fac34c9b93c5ec996c7fd967",
            "_dom_classes": [],
            "description": "",
            "_model_name": "HTMLModel",
            "placeholder": "​",
            "_view_module": "@jupyter-widgets/controls",
            "_model_module_version": "1.5.0",
            "value": " 8/8 [00:10&lt;00:00,  1.29s/it]",
            "_view_count": null,
            "_view_module_version": "1.5.0",
            "description_tooltip": null,
            "_model_module": "@jupyter-widgets/controls",
            "layout": "IPY_MODEL_9dde034ff3e44bd2b39e628192935c68"
          }
        },
        "5d9443b18e694fc797ad719ce6666c34": {
          "model_module": "@jupyter-widgets/controls",
          "model_name": "ProgressStyleModel",
          "state": {
            "_view_name": "StyleView",
            "_model_name": "ProgressStyleModel",
            "description_width": "initial",
            "_view_module": "@jupyter-widgets/base",
            "_model_module_version": "1.5.0",
            "_view_count": null,
            "_view_module_version": "1.2.0",
            "bar_color": null,
            "_model_module": "@jupyter-widgets/controls"
          }
        },
        "b92251da9c894ca9b4d2fc55939837bc": {
          "model_module": "@jupyter-widgets/base",
          "model_name": "LayoutModel",
          "state": {
            "_view_name": "LayoutView",
            "grid_template_rows": null,
            "right": null,
            "justify_content": null,
            "_view_module": "@jupyter-widgets/base",
            "overflow": null,
            "_model_module_version": "1.2.0",
            "_view_count": null,
            "flex_flow": null,
            "width": null,
            "min_width": null,
            "border": null,
            "align_items": null,
            "bottom": null,
            "_model_module": "@jupyter-widgets/base",
            "top": null,
            "grid_column": null,
            "overflow_y": null,
            "overflow_x": null,
            "grid_auto_flow": null,
            "grid_area": null,
            "grid_template_columns": null,
            "flex": null,
            "_model_name": "LayoutModel",
            "justify_items": null,
            "grid_row": null,
            "max_height": null,
            "align_content": null,
            "visibility": null,
            "align_self": null,
            "height": null,
            "min_height": null,
            "padding": null,
            "grid_auto_rows": null,
            "grid_gap": null,
            "max_width": null,
            "order": null,
            "_view_module_version": "1.2.0",
            "grid_template_areas": null,
            "object_position": null,
            "object_fit": null,
            "grid_auto_columns": null,
            "margin": null,
            "display": null,
            "left": null
          }
        },
        "ed65db62fac34c9b93c5ec996c7fd967": {
          "model_module": "@jupyter-widgets/controls",
          "model_name": "DescriptionStyleModel",
          "state": {
            "_view_name": "StyleView",
            "_model_name": "DescriptionStyleModel",
            "description_width": "",
            "_view_module": "@jupyter-widgets/base",
            "_model_module_version": "1.5.0",
            "_view_count": null,
            "_view_module_version": "1.2.0",
            "_model_module": "@jupyter-widgets/controls"
          }
        },
        "9dde034ff3e44bd2b39e628192935c68": {
          "model_module": "@jupyter-widgets/base",
          "model_name": "LayoutModel",
          "state": {
            "_view_name": "LayoutView",
            "grid_template_rows": null,
            "right": null,
            "justify_content": null,
            "_view_module": "@jupyter-widgets/base",
            "overflow": null,
            "_model_module_version": "1.2.0",
            "_view_count": null,
            "flex_flow": null,
            "width": null,
            "min_width": null,
            "border": null,
            "align_items": null,
            "bottom": null,
            "_model_module": "@jupyter-widgets/base",
            "top": null,
            "grid_column": null,
            "overflow_y": null,
            "overflow_x": null,
            "grid_auto_flow": null,
            "grid_area": null,
            "grid_template_columns": null,
            "flex": null,
            "_model_name": "LayoutModel",
            "justify_items": null,
            "grid_row": null,
            "max_height": null,
            "align_content": null,
            "visibility": null,
            "align_self": null,
            "height": null,
            "min_height": null,
            "padding": null,
            "grid_auto_rows": null,
            "grid_gap": null,
            "max_width": null,
            "order": null,
            "_view_module_version": "1.2.0",
            "grid_template_areas": null,
            "object_position": null,
            "object_fit": null,
            "grid_auto_columns": null,
            "margin": null,
            "display": null,
            "left": null
          }
        }
      }
    }
  },
  "cells": [
    {
      "cell_type": "markdown",
      "metadata": {
        "id": "view-in-github",
        "colab_type": "text"
      },
      "source": [
        "<a href=\"https://colab.research.google.com/github/1Englert1/cerf_classification/blob/main/dev/Preprocessing.ipynb\" target=\"_parent\"><img src=\"https://colab.research.google.com/assets/colab-badge.svg\" alt=\"Open In Colab\"/></a>"
      ]
    },
    {
      "cell_type": "markdown",
      "metadata": {
        "id": "T5FikOVurYqH"
      },
      "source": [
        "# Preprocessing"
      ]
    },
    {
      "cell_type": "markdown",
      "metadata": {
        "id": "d2taL81vrYqI"
      },
      "source": [
        "## Load Data"
      ]
    },
    {
      "cell_type": "markdown",
      "metadata": {
        "id": "W5bZ0Y7336Sj"
      },
      "source": [
        ""
      ]
    },
    {
      "cell_type": "code",
      "metadata": {
        "id": "u8N-yb68rYqJ"
      },
      "source": [
        "%%capture\n",
        "!pip install tqdm\n",
        "from tqdm.notebook import tqdm\n",
        "tqdm().pandas()\n",
        "import pandas as pd\n",
        "\n",
        "df = pd.read_csv(\"https://raw.githubusercontent.com/1Englert1/cerf_classification/main/dev/data/texts_sm.csv\")\n",
        "\n",
        "#Trim Strings\n",
        "for index in tqdm(df.index):\n",
        "    df.at[index, \"Text File\"] = df[\"Text File\"][index].strip()\n",
        "\n",
        "\n",
        "\n"
      ],
      "execution_count": 3,
      "outputs": []
    },
    {
      "cell_type": "code",
      "metadata": {
        "id": "WVe5Z2_lrYqN",
        "outputId": "47e38106-22ed-4c90-ee7f-cf36332a88b6",
        "colab": {
          "base_uri": "https://localhost:8080/",
          "height": 204
        }
      },
      "source": [
        "df.head()"
      ],
      "execution_count": 4,
      "outputs": [
        {
          "output_type": "execute_result",
          "data": {
            "text/html": [
              "<div>\n",
              "<style scoped>\n",
              "    .dataframe tbody tr th:only-of-type {\n",
              "        vertical-align: middle;\n",
              "    }\n",
              "\n",
              "    .dataframe tbody tr th {\n",
              "        vertical-align: top;\n",
              "    }\n",
              "\n",
              "    .dataframe thead th {\n",
              "        text-align: right;\n",
              "    }\n",
              "</style>\n",
              "<table border=\"1\" class=\"dataframe\">\n",
              "  <thead>\n",
              "    <tr style=\"text-align: right;\">\n",
              "      <th></th>\n",
              "      <th>Text File</th>\n",
              "      <th>lvl</th>\n",
              "    </tr>\n",
              "  </thead>\n",
              "  <tbody>\n",
              "    <tr>\n",
              "      <th>0</th>\n",
              "      <td>sehr gefruet auf diser Platz. Deshalb möchte i...</td>\n",
              "      <td>B1</td>\n",
              "    </tr>\n",
              "    <tr>\n",
              "      <th>1</th>\n",
              "      <td>Sehr geehrte Damen und Herren,mit grossem Inte...</td>\n",
              "      <td>B2</td>\n",
              "    </tr>\n",
              "    <tr>\n",
              "      <th>2</th>\n",
              "      <td>Sehr geehrte Damen und Herrenhiermit habe ich ...</td>\n",
              "      <td>B1</td>\n",
              "    </tr>\n",
              "    <tr>\n",
              "      <th>3</th>\n",
              "      <td>Für Leute auf der Welt ist es schon eindeutig,...</td>\n",
              "      <td>B2</td>\n",
              "    </tr>\n",
              "    <tr>\n",
              "      <th>4</th>\n",
              "      <td>Ich bin der Meinung das man sollte sich an der...</td>\n",
              "      <td>B2</td>\n",
              "    </tr>\n",
              "  </tbody>\n",
              "</table>\n",
              "</div>"
            ],
            "text/plain": [
              "                                           Text File lvl\n",
              "0  sehr gefruet auf diser Platz. Deshalb möchte i...  B1\n",
              "1  Sehr geehrte Damen und Herren,mit grossem Inte...  B2\n",
              "2  Sehr geehrte Damen und Herrenhiermit habe ich ...  B1\n",
              "3  Für Leute auf der Welt ist es schon eindeutig,...  B2\n",
              "4  Ich bin der Meinung das man sollte sich an der...  B2"
            ]
          },
          "metadata": {
            "tags": []
          },
          "execution_count": 4
        }
      ]
    },
    {
      "cell_type": "markdown",
      "metadata": {
        "id": "skcnvymzrYqV"
      },
      "source": [
        "## Fehler auslesen u. korregieren (language Tool)\n",
        "https://pypi.org/project/language-tool-python/"
      ]
    },
    {
      "cell_type": "code",
      "metadata": {
        "id": "EwbIk_1eaqeF"
      },
      "source": [
        "#%%capture\n",
        "!pip install language-tool-python"
      ],
      "execution_count": null,
      "outputs": []
    },
    {
      "cell_type": "code",
      "metadata": {
        "id": "AEcdY15ibNZg",
        "outputId": "114d2cb4-84e6-403d-92f8-2c9f805dd411",
        "colab": {
          "base_uri": "https://localhost:8080/",
          "height": 67
        }
      },
      "source": [
        "import language_tool_python\n",
        "tool = language_tool_python.LanguageTool('de-DE')  "
      ],
      "execution_count": null,
      "outputs": [
        {
          "output_type": "stream",
          "text": [
            "Downloading LanguageTool: 100%|██████████| 189M/189M [00:09<00:00, 20.9MB/s]\n",
            "Unzipping /tmp/tmpdp4bdwxp.zip to /root/.cache/language_tool_python.\n",
            "Downloaded https://www.languagetool.org/download/LanguageTool-5.1.zip to /root/.cache/language_tool_python.\n"
          ],
          "name": "stderr"
        }
      ]
    },
    {
      "cell_type": "code",
      "metadata": {
        "id": "HYGD0OATBDPW",
        "outputId": "b1481035-5325-423f-c797-ab3c8f11d628",
        "colab": {
          "base_uri": "https://localhost:8080/",
          "height": 249,
          "referenced_widgets": [
            "06850df4b2314727b895543e6f0444c6",
            "6fb6a165b321462eab5e09c43ab65546",
            "0587cbff76854a6d83dcc40fde8ca6d7",
            "dc399d87ea75417b995926bc8e949d94",
            "6e6e4aed27704e9d8064ce3d939604fc",
            "03a6fec9f96741b1800419209c09676a",
            "94010c4585154d7cbb15920855108aa8",
            "0aa9b2b657ee41dda740fe3687fa8542"
          ]
        }
      },
      "source": [
        "df[[\"er_wspace\",\"er_untr\",\"er_uncat\",\"er_typ\",\"er_term\",\"er_style\",\"er_reg\",\"er_pattern\",\"er_other\",\"er_omis\",\"er_num\",\"er_noncon\",\"er_mistrans\",\"er_misssp\",\"er_mark\",\"er_locvio\",\"er_locspec\",\"er_len\",\"er_leg\",\"er_intern\",\"er_intit\",\"er_inste\",\"er_gram\",\"er_dup\",\"er_wspace\",\"er_chars\",\"er_add\"]] = 0\n",
        "for index in tqdm(df.index):\n",
        "  text = df.at[index, \"Text File\"]\n",
        "  df.at[index, \"cor_text\"] = tool.correct(text)\n",
        "  matches = tool.check(text)\n",
        "  df.at[index, \"er_total\"] = len(matches) \n",
        "  i = 0\n",
        "  for match in matches:\n",
        "    error = matches[i]\n",
        "    i += 1\n",
        "    if error.ruleIssueType == \"whitespace\":\n",
        "     df.at[index, \"er_wspace\"] += 1\n",
        "    if error.ruleIssueType == \"untranslated\":\n",
        "     df.at[index, \"er_untr\"] += 1\n",
        "    if error.ruleIssueType == \"uncategorized\":\n",
        "     df.at[index, \"er_uncat\"] += 1\n",
        "    if error.ruleIssueType == \"typographical\":\n",
        "     df.at[index, \"er_typ\"] += 1\n",
        "    if error.ruleIssueType == \"terminology\":\n",
        "     df.at[index, \"er_term\"] += 1\n",
        "    if error.ruleIssueType == \"style\":\n",
        "     df.at[index, \"er_style\"] += 1\n",
        "    if error.ruleIssueType == \"register\":\n",
        "     df.at[index, \"er_reg\"] += 1\n",
        "    if error.ruleIssueType == \"patternproblem\":\n",
        "     df.at[index, \"er_pattern\"] += 1\n",
        "    if error.ruleIssueType == \"other\":\n",
        "     df.at[index, \"er_other\"] += 1\n",
        "    if error.ruleIssueType == \"omission\":\n",
        "     df.at[index, \"er_omis\"] += 1\n",
        "    if error.ruleIssueType == \"numbers\":\n",
        "     df.at[index, \"er_num\"] += 1\n",
        "    if error.ruleIssueType == \"nonconformance\":\n",
        "     df.at[index, \"er_noncon\"] += 1\n",
        "    if error.ruleIssueType == \"mistranslation\":\n",
        "     df.at[index, \"er_mistrans\"] += 1\n",
        "    if error.ruleIssueType == \"misspelling\":\n",
        "     df.at[index, \"er_misssp\"] += 1\n",
        "    if error.ruleIssueType == \"markup\":\n",
        "     df.at[index, \"er_mark\"] += 1\n",
        "    if error.ruleIssueType == \"localeviolation\":\n",
        "     df.at[index, \"er_locvio\"] += 1\n",
        "    if error.ruleIssueType == \"localespecificcontent\":\n",
        "     df.at[index, \"er_locspec\"] += 1\n",
        "    if error.ruleIssueType == \"length\":\n",
        "     df.at[index, \"er_len\"] += 1\n",
        "    if error.ruleIssueType == \"legal\":\n",
        "     df.at[index, \"er_leg\"] += 1\n",
        "    if error.ruleIssueType == \"internationalization\":\n",
        "     df.at[index, \"er_intern\"] += 1\n",
        "    if error.ruleIssueType == \"inconsistententities\":\n",
        "     df.at[index, \"er_intit\"] += 1\n",
        "    if error.ruleIssueType == \"inconsistency\":\n",
        "     df.at[index, \"er_inste\"] += 1\n",
        "    if error.ruleIssueType == \"grammar\":\n",
        "     df.at[index, \"er_gram\"] += 1\n",
        "    if error.ruleIssueType == \"duplication\":\n",
        "     df.at[index, \"er_dup\"] += 1\n",
        "    if error.ruleIssueType == \"whitespace\":\n",
        "     df.at[index, \"er_wspace\"] += 1\n",
        "    if error.ruleIssueType == \"characters\":\n",
        "     df.at[index, \"er_chars\"] += 1\n",
        "    if error.ruleIssueType == \"addition\":\n",
        "     df.at[index, \"er_add\"] += 1\n",
        "    \n",
        "    \n",
        "print(df[[\"er_wspace\",\"er_untr\",\"er_uncat\",\"er_typ\",\"er_term\",\"er_style\",\"er_reg\",\"er_pattern\",\"er_other\",\"er_omis\",\"er_num\",\"er_noncon\",\"er_mistrans\",\"er_misssp\",\"er_mark\",\"er_locvio\",\"er_locspec\",\"er_len\",\"er_leg\",\"er_intern\",\"er_intit\",\"er_inste\",\"er_gram\",\"er_dup\",\"er_wspace\",\"er_chars\",\"er_add\"]])"
      ],
      "execution_count": null,
      "outputs": [
        {
          "output_type": "display_data",
          "data": {
            "application/vnd.jupyter.widget-view+json": {
              "model_id": "06850df4b2314727b895543e6f0444c6",
              "version_minor": 0,
              "version_major": 2
            },
            "text/plain": [
              "HBox(children=(FloatProgress(value=0.0, max=8.0), HTML(value='')))"
            ]
          },
          "metadata": {
            "tags": []
          }
        },
        {
          "output_type": "stream",
          "text": [
            "\n",
            "   er_wspace  er_untr  er_uncat  er_typ  ...  er_dup  er_wspace  er_chars  er_add\n",
            "0          4        0         6       1  ...       0          4         0       0\n",
            "1          2        0         1       0  ...       0          2         0       0\n",
            "2          0        0         5       1  ...       0          0         0       0\n",
            "3          6        0         2       0  ...       1          6         0       0\n",
            "4         10        0        22       0  ...       0         10         0       0\n",
            "5          0        0         3       0  ...       0          0         0       0\n",
            "6          6        0         1       1  ...       0          6         0       0\n",
            "7          6        0         5       0  ...       0          6         0       0\n",
            "\n",
            "[8 rows x 27 columns]\n"
          ],
          "name": "stdout"
        }
      ]
    },
    {
      "cell_type": "markdown",
      "metadata": {
        "id": "WAQ4tJHDrYqg"
      },
      "source": [
        "## Oberflächliche Features"
      ]
    },
    {
      "cell_type": "code",
      "metadata": {
        "id": "FI9iCBdWrYqg"
      },
      "source": [
        "# Tool: Taxtacy\n",
        "#https://chartbeat-labs.github.io/textacy/build/html/getting_started/quickstart.html\n",
        "%%capture\n",
        "!pip install textacy\n"
      ],
      "execution_count": null,
      "outputs": []
    },
    {
      "cell_type": "code",
      "metadata": {
        "id": "-NbYOaJ8m-ZP",
        "outputId": "c40b2457-5f90-4930-961b-d4a0ce9eaf13",
        "colab": {
          "base_uri": "https://localhost:8080/",
          "height": 488
        }
      },
      "source": [
        "!python -m spacy download de_core_news_sm\n",
        "!python -m spacy link de_core_news_sm de"
      ],
      "execution_count": null,
      "outputs": [
        {
          "output_type": "stream",
          "text": [
            "Requirement already satisfied: de_core_news_sm==2.2.5 from https://github.com/explosion/spacy-models/releases/download/de_core_news_sm-2.2.5/de_core_news_sm-2.2.5.tar.gz#egg=de_core_news_sm==2.2.5 in /usr/local/lib/python3.6/dist-packages (2.2.5)\n",
            "Requirement already satisfied: spacy>=2.2.2 in /usr/local/lib/python3.6/dist-packages (from de_core_news_sm==2.2.5) (2.2.4)\n",
            "Requirement already satisfied: murmurhash<1.1.0,>=0.28.0 in /usr/local/lib/python3.6/dist-packages (from spacy>=2.2.2->de_core_news_sm==2.2.5) (1.0.2)\n",
            "Requirement already satisfied: tqdm<5.0.0,>=4.38.0 in /usr/local/lib/python3.6/dist-packages (from spacy>=2.2.2->de_core_news_sm==2.2.5) (4.41.1)\n",
            "Requirement already satisfied: srsly<1.1.0,>=1.0.2 in /usr/local/lib/python3.6/dist-packages (from spacy>=2.2.2->de_core_news_sm==2.2.5) (1.0.2)\n",
            "Requirement already satisfied: numpy>=1.15.0 in /usr/local/lib/python3.6/dist-packages (from spacy>=2.2.2->de_core_news_sm==2.2.5) (1.18.5)\n",
            "Requirement already satisfied: wasabi<1.1.0,>=0.4.0 in /usr/local/lib/python3.6/dist-packages (from spacy>=2.2.2->de_core_news_sm==2.2.5) (0.8.0)\n",
            "Requirement already satisfied: requests<3.0.0,>=2.13.0 in /usr/local/lib/python3.6/dist-packages (from spacy>=2.2.2->de_core_news_sm==2.2.5) (2.23.0)\n",
            "Requirement already satisfied: plac<1.2.0,>=0.9.6 in /usr/local/lib/python3.6/dist-packages (from spacy>=2.2.2->de_core_news_sm==2.2.5) (1.1.3)\n",
            "Requirement already satisfied: preshed<3.1.0,>=3.0.2 in /usr/local/lib/python3.6/dist-packages (from spacy>=2.2.2->de_core_news_sm==2.2.5) (3.0.2)\n",
            "Requirement already satisfied: setuptools in /usr/local/lib/python3.6/dist-packages (from spacy>=2.2.2->de_core_news_sm==2.2.5) (50.3.0)\n",
            "Requirement already satisfied: cymem<2.1.0,>=2.0.2 in /usr/local/lib/python3.6/dist-packages (from spacy>=2.2.2->de_core_news_sm==2.2.5) (2.0.3)\n",
            "Requirement already satisfied: thinc==7.4.0 in /usr/local/lib/python3.6/dist-packages (from spacy>=2.2.2->de_core_news_sm==2.2.5) (7.4.0)\n",
            "Requirement already satisfied: blis<0.5.0,>=0.4.0 in /usr/local/lib/python3.6/dist-packages (from spacy>=2.2.2->de_core_news_sm==2.2.5) (0.4.1)\n",
            "Requirement already satisfied: catalogue<1.1.0,>=0.0.7 in /usr/local/lib/python3.6/dist-packages (from spacy>=2.2.2->de_core_news_sm==2.2.5) (1.0.0)\n",
            "Requirement already satisfied: idna<3,>=2.5 in /usr/local/lib/python3.6/dist-packages (from requests<3.0.0,>=2.13.0->spacy>=2.2.2->de_core_news_sm==2.2.5) (2.10)\n",
            "Requirement already satisfied: chardet<4,>=3.0.2 in /usr/local/lib/python3.6/dist-packages (from requests<3.0.0,>=2.13.0->spacy>=2.2.2->de_core_news_sm==2.2.5) (3.0.4)\n",
            "Requirement already satisfied: certifi>=2017.4.17 in /usr/local/lib/python3.6/dist-packages (from requests<3.0.0,>=2.13.0->spacy>=2.2.2->de_core_news_sm==2.2.5) (2020.6.20)\n",
            "Requirement already satisfied: urllib3!=1.25.0,!=1.25.1,<1.26,>=1.21.1 in /usr/local/lib/python3.6/dist-packages (from requests<3.0.0,>=2.13.0->spacy>=2.2.2->de_core_news_sm==2.2.5) (1.24.3)\n",
            "Requirement already satisfied: importlib-metadata>=0.20; python_version < \"3.8\" in /usr/local/lib/python3.6/dist-packages (from catalogue<1.1.0,>=0.0.7->spacy>=2.2.2->de_core_news_sm==2.2.5) (2.0.0)\n",
            "Requirement already satisfied: zipp>=0.5 in /usr/local/lib/python3.6/dist-packages (from importlib-metadata>=0.20; python_version < \"3.8\"->catalogue<1.1.0,>=0.0.7->spacy>=2.2.2->de_core_news_sm==2.2.5) (3.2.0)\n",
            "\u001b[38;5;2m✔ Download and installation successful\u001b[0m\n",
            "You can now load the model via spacy.load('de_core_news_sm')\n",
            "\u001b[38;5;2m✔ Linking successful\u001b[0m\n",
            "/usr/local/lib/python3.6/dist-packages/de_core_news_sm -->\n",
            "/usr/local/lib/python3.6/dist-packages/spacy/data/de\n",
            "You can now load the model via spacy.load('de')\n"
          ],
          "name": "stdout"
        }
      ]
    },
    {
      "cell_type": "code",
      "metadata": {
        "id": "5H-eNqa0umD0",
        "outputId": "dfae51df-bf65-4402-e4cc-6db8127e41d3",
        "colab": {
          "base_uri": "https://localhost:8080/",
          "height": 65,
          "referenced_widgets": [
            "1cc9599016e3415b8cfb813d7ef0df98",
            "4b46e9aea54f43f99007366d793d7f89",
            "1b1d67b7451e434c8fa123a413a35e54",
            "9874f4754ad3466794638142006b2613",
            "04483e81d59d4c1ab2d67648f7ebbe87",
            "c3598b49624144b7aea6a197ebdaf9bf",
            "88b28b1dccf941eebf52ca5d5dae798d",
            "b8a374fc02ea42e783e385d0b61c93bd"
          ]
        }
      },
      "source": [
        "import textacy\n",
        "import string \n",
        "de = spacy.load('de')  \n",
        "#de = textacy.load_spacy_lang(\"de_core_news_sm\")\n",
        "#de = de_core_news_sm.load()\n",
        "\n",
        "#basic counts\n",
        "for index in tqdm(df.index):\n",
        "  doc = textacy.make_spacy_doc(df.at[index, \"cor_text\"], lang=de)\n",
        "  ts = textacy.text_stats.TextStats(doc)\n",
        "  df.at[index, \"sents_count\"] = ts.n_sents\n",
        "  df.at[index, \"word_count\"] = ts.n_words\n",
        "  df.at[index, \"char_count\"] = ts.n_chars\n",
        "  df.at[index, \"avr_sents_leng\"] = df[\"word_count\"][index] / df[\"sents_count\"][index]\n",
        "  df.at[index, \"avr_char_p_word\"] = df[\"char_count\"][index] / df[\"word_count\"][index]\n",
        "  df.at[index, \"avr_syllables_p_word\"] =  ts.n_syllables / df[\"word_count\"][index]"
      ],
      "execution_count": null,
      "outputs": [
        {
          "output_type": "display_data",
          "data": {
            "application/vnd.jupyter.widget-view+json": {
              "model_id": "1cc9599016e3415b8cfb813d7ef0df98",
              "version_minor": 0,
              "version_major": 2
            },
            "text/plain": [
              "HBox(children=(FloatProgress(value=0.0, max=8.0), HTML(value='')))"
            ]
          },
          "metadata": {
            "tags": []
          }
        },
        {
          "output_type": "stream",
          "text": [
            "\n"
          ],
          "name": "stdout"
        }
      ]
    },
    {
      "cell_type": "markdown",
      "metadata": {
        "id": "s9rbwd79ug8y"
      },
      "source": [
        "## Syntaktische Features"
      ]
    },
    {
      "cell_type": "code",
      "metadata": {
        "id": "HdL_BEKtg3m9",
        "outputId": "cdc5cef5-36b6-487b-b39d-132ed80f9ed8",
        "colab": {
          "base_uri": "https://localhost:8080/",
          "height": 405
        }
      },
      "source": [
        "!pip install Stanza\n",
        "import stanza\n",
        "stanza.install_corenlp(dir=\"/content/corenlp\")\n",
        "import os\n",
        "os.environ[\"CORENLP_HOME\"] = \"./corenlp\"\n",
        "stanza.download_corenlp_models(model='german', version='4.1.0', dir=\"/content/corenlp\")"
      ],
      "execution_count": null,
      "outputs": [
        {
          "output_type": "stream",
          "text": [
            "Collecting Stanza\n",
            "\u001b[?25l  Downloading https://files.pythonhosted.org/packages/e7/8b/3a9e7a8d8cb14ad6afffc3983b7a7322a3a24d94ebc978a70746fcffc085/stanza-1.1.1-py3-none-any.whl (227kB)\n",
            "\r\u001b[K     |█▍                              | 10kB 18.5MB/s eta 0:00:01\r\u001b[K     |██▉                             | 20kB 1.8MB/s eta 0:00:01\r\u001b[K     |████▎                           | 30kB 2.3MB/s eta 0:00:01\r\u001b[K     |█████▊                          | 40kB 2.5MB/s eta 0:00:01\r\u001b[K     |███████▏                        | 51kB 2.0MB/s eta 0:00:01\r\u001b[K     |████████▋                       | 61kB 2.3MB/s eta 0:00:01\r\u001b[K     |██████████                      | 71kB 2.5MB/s eta 0:00:01\r\u001b[K     |███████████▌                    | 81kB 2.7MB/s eta 0:00:01\r\u001b[K     |█████████████                   | 92kB 3.0MB/s eta 0:00:01\r\u001b[K     |██████████████▍                 | 102kB 2.8MB/s eta 0:00:01\r\u001b[K     |███████████████▉                | 112kB 2.8MB/s eta 0:00:01\r\u001b[K     |█████████████████▎              | 122kB 2.8MB/s eta 0:00:01\r\u001b[K     |██████████████████▊             | 133kB 2.8MB/s eta 0:00:01\r\u001b[K     |████████████████████▏           | 143kB 2.8MB/s eta 0:00:01\r\u001b[K     |█████████████████████▋          | 153kB 2.8MB/s eta 0:00:01\r\u001b[K     |███████████████████████         | 163kB 2.8MB/s eta 0:00:01\r\u001b[K     |████████████████████████▌       | 174kB 2.8MB/s eta 0:00:01\r\u001b[K     |██████████████████████████      | 184kB 2.8MB/s eta 0:00:01\r\u001b[K     |███████████████████████████▍    | 194kB 2.8MB/s eta 0:00:01\r\u001b[K     |████████████████████████████▉   | 204kB 2.8MB/s eta 0:00:01\r\u001b[K     |██████████████████████████████▎ | 215kB 2.8MB/s eta 0:00:01\r\u001b[K     |███████████████████████████████▊| 225kB 2.8MB/s eta 0:00:01\r\u001b[K     |████████████████████████████████| 235kB 2.8MB/s \n",
            "\u001b[?25hRequirement already satisfied: requests in /usr/local/lib/python3.6/dist-packages (from Stanza) (2.23.0)\n",
            "Requirement already satisfied: numpy in /usr/local/lib/python3.6/dist-packages (from Stanza) (1.18.5)\n",
            "Requirement already satisfied: protobuf in /usr/local/lib/python3.6/dist-packages (from Stanza) (3.12.4)\n",
            "Requirement already satisfied: torch>=1.3.0 in /usr/local/lib/python3.6/dist-packages (from Stanza) (1.6.0+cu101)\n",
            "Requirement already satisfied: tqdm in /usr/local/lib/python3.6/dist-packages (from Stanza) (4.41.1)\n",
            "Requirement already satisfied: chardet<4,>=3.0.2 in /usr/local/lib/python3.6/dist-packages (from requests->Stanza) (3.0.4)\n",
            "Requirement already satisfied: idna<3,>=2.5 in /usr/local/lib/python3.6/dist-packages (from requests->Stanza) (2.10)\n",
            "Requirement already satisfied: urllib3!=1.25.0,!=1.25.1,<1.26,>=1.21.1 in /usr/local/lib/python3.6/dist-packages (from requests->Stanza) (1.24.3)\n",
            "Requirement already satisfied: certifi>=2017.4.17 in /usr/local/lib/python3.6/dist-packages (from requests->Stanza) (2020.6.20)\n",
            "Requirement already satisfied: setuptools in /usr/local/lib/python3.6/dist-packages (from protobuf->Stanza) (50.3.0)\n",
            "Requirement already satisfied: six>=1.9 in /usr/local/lib/python3.6/dist-packages (from protobuf->Stanza) (1.15.0)\n",
            "Requirement already satisfied: future in /usr/local/lib/python3.6/dist-packages (from torch>=1.3.0->Stanza) (0.16.0)\n",
            "Installing collected packages: Stanza\n",
            "Successfully installed Stanza-1.1.1\n"
          ],
          "name": "stdout"
        },
        {
          "output_type": "stream",
          "text": [
            "Installing CoreNLP package into /content/corenlp...\n",
            "Downloading http://nlp.stanford.edu/software/stanford-corenlp-latest.zip: 100%|██████████| 505M/505M [00:35<00:00, 14.4MB/s]\n",
            "For customized installation location, please set the `CORENLP_HOME` environment variable to the location of the installation. In Unix, this is done with `export CORENLP_HOME=/content/corenlp`.\n",
            "Downloading german models (version 4.1.0) into directory /content/corenlp...\n",
            "Downloading http://nlp.stanford.edu/software/stanford-corenlp-4.1.0-models-german.jar: 100%|██████████| 263M/263M [00:11<00:00, 23.7MB/s]\n"
          ],
          "name": "stderr"
        }
      ]
    },
    {
      "cell_type": "code",
      "metadata": {
        "id": "SOoGpWIEg3qM"
      },
      "source": [
        "from stanza.server import CoreNLPClient"
      ],
      "execution_count": null,
      "outputs": []
    },
    {
      "cell_type": "code",
      "metadata": {
        "id": "mbeo-FcQg3zZ",
        "outputId": "dfa99397-de3e-4f10-c826-7a5b07725631",
        "colab": {
          "base_uri": "https://localhost:8080/",
          "height": 53
        }
      },
      "source": [
        "client = CoreNLPClient(properties='german',\n",
        "                   annotators='tokenize,ssplit,mwt,pos,parse',\n",
        "                   timeout=300000,\n",
        "                   output_format='text', \n",
        "                   be_quiet=True, \n",
        "                   endpoint='http://localhost:9001',\n",
        "                   memory='8G')\n"
      ],
      "execution_count": null,
      "outputs": [
        {
          "output_type": "stream",
          "text": [
            "Using Stanford CoreNLP default properties for: german.  Make sure to have german models jar (available for download here: https://stanfordnlp.github.io/CoreNLP/) in CLASSPATH\n"
          ],
          "name": "stderr"
        }
      ]
    },
    {
      "cell_type": "code",
      "metadata": {
        "id": "nhlD2g8Zg38A",
        "outputId": "ab524543-2602-4335-b202-d115e1a631c5",
        "colab": {
          "base_uri": "https://localhost:8080/",
          "height": 53
        }
      },
      "source": [
        "client.start()\n",
        "import time; time.sleep(10)"
      ],
      "execution_count": null,
      "outputs": [
        {
          "output_type": "stream",
          "text": [
            "Starting server with command: java -Xmx8G -cp ./corenlp/* edu.stanford.nlp.pipeline.StanfordCoreNLPServer -port 9001 -timeout 300000 -threads 5 -maxCharLength 100000 -quiet True -serverProperties german -annotators tokenize,ssplit,mwt,pos,parse -preload -outputFormat text\n"
          ],
          "name": "stderr"
        }
      ]
    },
    {
      "cell_type": "code",
      "metadata": {
        "id": "Ufc42PAWhN9B"
      },
      "source": [
        "def match_pattern(_pattern, _text):\n",
        "  matches = client.tregex(_text,_pattern)\n",
        "  list = matches['sentences']\n",
        "  for sentence in matches['sentences']:\n",
        "    for match_id in sentence:\n",
        "      print(sentence[match_id]['spanString'])\n",
        "\n",
        "def count_matches(_pattern, _text):\n",
        "  matches = client.tregex(_text,_pattern)\n",
        "  list = matches['sentences']\n",
        "  count_units = 0\n",
        "  for sentence in matches['sentences']:\n",
        "    for match_id in sentence:\n",
        "      count_units = count_units + 1\n",
        "  return(count_units)\n",
        "\n",
        "def len_sum_matches(_pattern, _text):\n",
        "  matches = client.tregex(_text,_pattern)\n",
        "  list = matches['sentences']\n",
        "  match_list = []\n",
        "  for sentence in matches['sentences']:\n",
        "    for match_id in sentence:\n",
        "      match_list.append(sentence[match_id]['spanString'])\n",
        "  len_sum = 0\n",
        "  for item in match_list:\n",
        "    doc = textacy.make_spacy_doc(item, lang=de)\n",
        "    ts = textacy.text_stats.TextStats(doc)\n",
        "    len_sum = len_sum + ts.n_words\n",
        "  return(len_sum)"
      ],
      "execution_count": null,
      "outputs": []
    },
    {
      "cell_type": "code",
      "metadata": {
        "id": "MSjdl9eFhOPw",
        "outputId": "392e4c35-5c37-4f23-e651-6c95ab80b03c",
        "colab": {
          "base_uri": "https://localhost:8080/",
          "height": 65,
          "referenced_widgets": [
            "612947ca973d4befa92e95fe3be715de",
            "3b3317124f654a33addf10fb6f648045",
            "a15b3f624bae4182a4ec9808c205eaaf",
            "547f4535f3d34c65b0e0959df6261ff5",
            "5d9443b18e694fc797ad719ce6666c34",
            "b92251da9c894ca9b4d2fc55939837bc",
            "ed65db62fac34c9b93c5ec996c7fd967",
            "9dde034ff3e44bd2b39e628192935c68"
          ]
        }
      },
      "source": [
        "for index in tqdm(df.index):\n",
        "  text = df.at[index, \"cor_text\"]\n",
        "  ann = client.annotate(text)\n",
        "\n",
        "################T-Units#####################\n",
        "  pattern = \"(S > NUR) | (S >> CS >> NUR)\"\n",
        "  df.at[index, \"TUnit\"] = count_matches(pattern, text)\n",
        "\n",
        "################Dep. Clause#####################\n",
        "  pattern = \"S >> (S > (CS > NUR > ROOT) | > (NUR > ROOT))\"\n",
        "  df.at[index, \"dep_clause\"] = count_matches(pattern, text)\n",
        "\n",
        "################Dep. Clause with conjunction#####################\n",
        "  pattern = \"S < SCONJ\"\n",
        "  df.at[index, \"dep_clause_w_conj\"] = count_matches(pattern, text)\n",
        "################non-Terminals#####################\n",
        "  pattern = \"VZ\"\n",
        "  df.at[index, \"non_term\"] = count_matches(pattern, text)\n",
        "\n",
        "################zu-marked infinitive#####################\n",
        "  pattern = \"AA | AP | AVP | CAC | CAP | CAVP | CCP | CH | CNP | CO | CPP | CS | CVP | CVZ | DL | ISU | MPN | MTA | NM | NP | PP | QL | S | VP | VZ\"\n",
        "  df.at[index, \"vz\"] = count_matches(pattern, text)\n",
        "\n",
        "################Avg. length of VP#####################\n",
        "  pattern = \"VP\"\n",
        "  df.at[index, \"vp_count\"] = count_matches(pattern, text)\n",
        "  df.at[index, \"vp_sum_len\"] = len_sum_matches(pattern, text)\n"
      ],
      "execution_count": null,
      "outputs": [
        {
          "output_type": "display_data",
          "data": {
            "application/vnd.jupyter.widget-view+json": {
              "model_id": "612947ca973d4befa92e95fe3be715de",
              "version_minor": 0,
              "version_major": 2
            },
            "text/plain": [
              "HBox(children=(FloatProgress(value=0.0, max=8.0), HTML(value='')))"
            ]
          },
          "metadata": {
            "tags": []
          }
        },
        {
          "output_type": "stream",
          "text": [
            "\n"
          ],
          "name": "stdout"
        }
      ]
    },
    {
      "cell_type": "code",
      "metadata": {
        "id": "mPF6HIIbUF9s",
        "outputId": "3998a673-0d4d-4c4a-d136-c28477b1dd5d",
        "colab": {
          "base_uri": "https://localhost:8080/",
          "height": 33
        }
      },
      "source": [
        "df[\"len_TUnit\"] = df[\"TUnit\"] / df[\"word_count\"]\n",
        "df[\"len_dep_clause\"] = df[\"dep_clause\"] / df[\"word_count\"]\n",
        "df[\"dep_clause_w_conj_to_dep_clause\"] = df[\"dep_clause_w_conj\"] / df[\"dep_clause\"]\n",
        "df[\"non_term_to_words\"] = df[\"non_term\"] / df[\"word_count\"]\n",
        "df[\"vz_to_sents\"] = df[\"vz\"] / df[\"sents_count\"]\n",
        "df[\"len_vp_to_vp\"] = df[\"vp_sum_len\"] / df[\"vp_count\"]\n",
        "print(\"--------DONE---------\")"
      ],
      "execution_count": null,
      "outputs": [
        {
          "output_type": "stream",
          "text": [
            "--------DONE---------\n"
          ],
          "name": "stdout"
        }
      ]
    },
    {
      "cell_type": "code",
      "metadata": {
        "id": "nPxMaoad7IVP",
        "outputId": "432d8201-c9bb-462f-9e8e-49a265c6d917",
        "colab": {
          "base_uri": "https://localhost:8080/",
          "height": 167
        }
      },
      "source": [
        "print(df[[\"len_vp_to_vp\", \"vp_sum_len\", \"vp_count\"]])"
      ],
      "execution_count": null,
      "outputs": [
        {
          "output_type": "stream",
          "text": [
            "   len_vp_to_vp  vp_sum_len  vp_count\n",
            "0      3.571429        25.0       7.0\n",
            "1      5.000000        25.0       5.0\n",
            "2      5.142857        36.0       7.0\n",
            "3      6.800000       136.0      20.0\n",
            "4      4.700000        47.0      10.0\n",
            "5      4.000000        12.0       3.0\n",
            "6           NaN         0.0       0.0\n",
            "7      5.200000        26.0       5.0\n"
          ],
          "name": "stdout"
        }
      ]
    },
    {
      "cell_type": "code",
      "metadata": {
        "id": "UVclUisAhRUL"
      },
      "source": [
        "client.stop()\n",
        "\n",
        "time.sleep(10)\n",
        "!ps -o pid,cmd | grep java"
      ],
      "execution_count": null,
      "outputs": []
    }
  ]
}